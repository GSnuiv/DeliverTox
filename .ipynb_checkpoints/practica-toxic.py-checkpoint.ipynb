{
 "cells": [
  {
   "cell_type": "code",
   "execution_count": 1,
   "metadata": {},
   "outputs": [],
   "source": [
    "## TMO 2017-2018: practica-toxic.py\n",
    "# Dpto. de C. de la Computación e I.A. (Univ. de Sevilla)\n",
    "#=====================================================================\n",
    "\n",
    "# ********************************************************************\n",
    "# Nombre: Jorge Miguel\n",
    "# Apellidos: García García\n",
    "# ********************************************************************\n",
    "\n",
    "# **************************** IMPORTANTE ****************************\n",
    "# - Recordar escribir el nombre en la cabecera de este fichero.\n",
    "# ********************************************************************\n",
    "\n",
    "# ********************************************************************\n",
    "# HONESTIDAD ACADÉMICA Y COPIAS: la realización de los ejercicios es\n",
    "# un trabajo personal, por lo que deben completarse por cada\n",
    "# estudiante de manera individual.  La discusión y el intercambio de\n",
    "# información de carácter general con los compañeros se permite (e\n",
    "# incluso se recomienda), pero NO AL NIVEL DE CÓDIGO. Igualmente el\n",
    "# remitir código de terceros, obtenido a través de la red o cualquier\n",
    "# otro medio, se considerará plagio.\n",
    "\n",
    "# Cualquier plagio o compartición de código que se detecte significará\n",
    "# automáticamente la calificación de CERO EN LA ASIGNATURA para TODOS\n",
    "# los alumnos involucrados. \n",
    "# ********************************************************************\n",
    "\n",
    "# Se pide crear un modelo de clasificación con alguno de los algoritmos\n",
    "# vistos en clase e implementados en la librería scikit-learn, también se\n",
    "# permite el uso de xgboost y keras (tensorflow). Se valorará\n",
    "# el ajuste de parámetros realizado (aplicando validación cruzada), así como\n",
    "# la transformaciones sobre los datos desarrolladas para mejorar el calidad\n",
    "# (score) del modelo por validación cruzada (un buen ejemplo es el notebook\n",
    "# Left que se puede encontrar en la enseñanza virtual)\n",
    "\n",
    "# El conjunto de datos corresponde a comentarios realizados en wikipedia.\n",
    "# Se pretende determinar si los comentarios tiene un carga negativa o no.\n",
    "# que un anuncio dado tendrá para la comunidad de usuarios de este portal.\n",
    "# Cada comentario puede ser clasificado como tóxico, muy tóxico, obsceno,\n",
    "# insultante, con carga de odio y/o amenazante.\n",
    "\n",
    "#    1. De los texto se pueden obtener atributos como la longitud, número \n",
    "#       de palabras, número de palabras únicas, número de mayúsculas, etc... \n",
    "#       También se pueden aplicar técnicas de vectorización de textos como \n",
    "#       CountVectorizer o TF-IDF entre otras. \n",
    "#    2. Se puede usar diferentes algoritmos: regresión lineal, naive bayes, \n",
    "#       random forest y despues intentar ensamblarlos (obtener la media de las\n",
    "#       predicciones)\n",
    "\n",
    "# Estas son algunas de las tranformaciones que se pueden realizar, pero no las\n",
    "# únicas. Cualquier otra transformación que se lleve a cabo sobre los datos\n",
    "# será tenida en cuenta positivamente.\n",
    "\n",
    "# Se deberá entregar este archivo con las implementaciones realizadas y\n",
    "# comentadas, el archivo de predicciones del mejor modelo encontrado y el score \n",
    "# asociado por cross-validación y el proporcionado por kaggle (enviar a \n",
    "# dsolis@us.es)\n",
    "\n",
    "# Toda la información necesaria y los conjuntos de datos se pueden encontrar en:\n",
    "# https://www.kaggle.com/c/jigsaw-toxic-comment-classification-challenge\n",
    "\n",
    "# *******************************************************************\n",
    "# IMPORTANTE: El plazo de entrega es hasta la finalización de la \n",
    "# competición (20 de Febrero).\n",
    "# ********************************************************************\n",
    "\n",
    "# *******************************************************************\n",
    "# IMPORTANTE: La competición está activa. Debéis subir las predicciones\n",
    "# y que la plataforma os dé el score sobre el test. Podeis usar el nombre\n",
    "# de usuario que considereis oportuno.\n",
    "# ********************************************************************\n",
    "\n",
    "# ********************************************************************\n",
    "# IMPORTANTE: Se pueden consultar y usar los ejemplos de código y \n",
    "# transformaciones encontradas en: \n",
    "# https://www.kaggle.com/c/jigsaw-toxic-comment-classification-challenge/kernels\n",
    "# ********************************************************************\n",
    "\n",
    "# ********************************************************************\n",
    "# IMPORTANTE: Para resolver cualquier duda contactar con David Solís \n",
    "# (dsolis@us.es)\n",
    "# ********************************************************************\n",
    "\n"
   ]
  },
  {
   "cell_type": "markdown",
   "metadata": {},
   "source": [
    "## Carga de librerías principales"
   ]
  },
  {
   "cell_type": "code",
   "execution_count": 2,
   "metadata": {},
   "outputs": [
    {
     "name": "stderr",
     "output_type": "stream",
     "text": [
      "C:\\Users\\Gsnuiv\\Anaconda3\\lib\\site-packages\\h5py\\__init__.py:34: FutureWarning: Conversion of the second argument of issubdtype from `float` to `np.floating` is deprecated. In future, it will be treated as `np.float64 == np.dtype(float).type`.\n",
      "  from ._conv import register_converters as _register_converters\n",
      "Using TensorFlow backend.\n"
     ]
    }
   ],
   "source": [
    "import os\n",
    "import pandas as pd\n",
    "import numpy as np\n",
    "\n",
    "#propias\n",
    "import constants as ct\n",
    "from utils import get_upper_case_prop, get_punctuation_prop, process_text\n",
    "from utils_plot import PlotLosses\n",
    "import string_dists as stds\n",
    "\n",
    "#keras\n",
    "from keras.preprocessing.text import Tokenizer\n",
    "from keras.preprocessing.sequence import pad_sequences\n",
    "from keras.layers import Dense, Input, LSTM, Embedding, Dropout, Activation, Layer, Lambda\n",
    "from keras.layers import Bidirectional, GlobalMaxPool1D\n",
    "from keras.models import Model\n",
    "from keras import initializers, regularizers, constraints, optimizers, layers\n",
    "\n",
    "from functools import reduce\n",
    "from tqdm import tqdm"
   ]
  },
  {
   "cell_type": "code",
   "execution_count": 3,
   "metadata": {},
   "outputs": [],
   "source": [
    "#misc\n",
    "import gc\n",
    "import time\n",
    "import warnings\n",
    "\n",
    "#stats\n",
    "#from scipy.misc import imread\n",
    "from scipy import sparse\n",
    "import scipy.stats as ss\n",
    "\n",
    "#viz\n",
    "import matplotlib.pyplot as plt\n",
    "import matplotlib.gridspec as gridspec \n",
    "import seaborn as sns\n",
    "import matplotlib_venn as venn\n",
    "\n",
    "#nlp\n",
    "import string\n",
    "import re    #for regex\n",
    "import nltk\n",
    "from nltk.corpus import stopwords\n",
    "import spacy\n",
    "from nltk import pos_tag\n",
    "from nltk.stem.wordnet import WordNetLemmatizer \n",
    "from nltk.tokenize import word_tokenize\n",
    "from nltk.tokenize import TweetTokenizer   \n",
    "\n",
    "#FeatureEngineering\n",
    "from sklearn.feature_extraction.text import TfidfVectorizer, CountVectorizer, HashingVectorizer\n",
    "from sklearn.decomposition import TruncatedSVD\n",
    "from sklearn.base import BaseEstimator, ClassifierMixin\n",
    "from sklearn.utils.validation import check_X_y, check_is_fitted\n",
    "from sklearn.linear_model import LogisticRegression\n",
    "from sklearn import metrics\n",
    "from sklearn.metrics import log_loss\n",
    "from sklearn.model_selection import StratifiedKFold\n",
    "from sklearn.model_selection import train_test_split"
   ]
  },
  {
   "cell_type": "markdown",
   "metadata": {},
   "source": [
    "### Settings"
   ]
  },
  {
   "cell_type": "code",
   "execution_count": 4,
   "metadata": {},
   "outputs": [],
   "source": [
    "pd.options.display.max_columns = 200\n",
    "pd.options.display.max_rows = 200\n",
    "pd.options.display.width = 1000\n",
    "pd.options.display.max_colwidth = 200\n",
    "\n",
    "#settingsimread\n",
    "start_time=time.time()\n",
    "color = sns.color_palette()\n",
    "sns.set_style(\"dark\")\n",
    "eng_stopwords = set(stopwords.words(\"english\"))\n",
    "warnings.filterwarnings(\"ignore\")\n",
    "\n",
    "lem = WordNetLemmatizer()\n",
    "tokenizer=TweetTokenizer()\n",
    "\n",
    "%matplotlib inline"
   ]
  },
  {
   "cell_type": "markdown",
   "metadata": {},
   "source": [
    "Cargamos también el array de badwords que hemos preparado"
   ]
  },
  {
   "cell_type": "code",
   "execution_count": 5,
   "metadata": {},
   "outputs": [],
   "source": [
    "BLACK_LIST = pd.read_csv('arrBad', index_col=None, quotechar=\"'\")\n",
    "BLACK_LIST = BLACK_LIST.index"
   ]
  },
  {
   "cell_type": "markdown",
   "metadata": {},
   "source": [
    "## Definición de los datasets"
   ]
  },
  {
   "cell_type": "markdown",
   "metadata": {},
   "source": [
    "### Conjunto de entrenamiento"
   ]
  },
  {
   "cell_type": "code",
   "execution_count": 6,
   "metadata": {},
   "outputs": [],
   "source": [
    "train = pd.read_csv('train.csv', index_col='id')\n",
    "X_train = train['comment_text'].to_frame()"
   ]
  },
  {
   "cell_type": "code",
   "execution_count": 7,
   "metadata": {},
   "outputs": [
    {
     "data": {
      "text/plain": [
       "['toxic', 'severe_toxic', 'obscene', 'threat', 'insult', 'identity_hate']"
      ]
     },
     "execution_count": 7,
     "metadata": {},
     "output_type": "execute_result"
    }
   ],
   "source": [
    "ct.OBJECTIVE_COLS"
   ]
  },
  {
   "cell_type": "code",
   "execution_count": 8,
   "metadata": {},
   "outputs": [],
   "source": [
    "Y_train = train[ct.OBJECTIVE_COLS]"
   ]
  },
  {
   "cell_type": "markdown",
   "metadata": {},
   "source": [
    "Vemos que el dataset tiene clases muy desequilibradas, especialmente **threat** y **identity_hate**"
   ]
  },
  {
   "cell_type": "code",
   "execution_count": 9,
   "metadata": {},
   "outputs": [
    {
     "data": {
      "text/plain": [
       "toxic            9.584448\n",
       "obscene          5.294822\n",
       "insult           4.936361\n",
       "severe_toxic     0.999555\n",
       "identity_hate    0.880486\n",
       "threat           0.299553\n",
       "dtype: float64"
      ]
     },
     "execution_count": 9,
     "metadata": {},
     "output_type": "execute_result"
    }
   ],
   "source": [
    "Y_train.sum().div(Y_train.shape[0] / 100).sort_values(ascending=False)"
   ]
  },
  {
   "cell_type": "markdown",
   "metadata": {},
   "source": [
    "### Conjunto Test"
   ]
  },
  {
   "cell_type": "code",
   "execution_count": 10,
   "metadata": {},
   "outputs": [],
   "source": [
    "X_test = pd.read_csv('test.csv', index_col='id')"
   ]
  },
  {
   "cell_type": "code",
   "execution_count": 11,
   "metadata": {},
   "outputs": [
    {
     "data": {
      "text/plain": [
       "(153164, 1)"
      ]
     },
     "execution_count": 11,
     "metadata": {},
     "output_type": "execute_result"
    }
   ],
   "source": [
    "X_test.shape"
   ]
  },
  {
   "cell_type": "code",
   "execution_count": 12,
   "metadata": {},
   "outputs": [
    {
     "data": {
      "text/html": [
       "<div>\n",
       "<style>\n",
       "    .dataframe thead tr:only-child th {\n",
       "        text-align: right;\n",
       "    }\n",
       "\n",
       "    .dataframe thead th {\n",
       "        text-align: left;\n",
       "    }\n",
       "\n",
       "    .dataframe tbody tr th {\n",
       "        vertical-align: top;\n",
       "    }\n",
       "</style>\n",
       "<table border=\"1\" class=\"dataframe\">\n",
       "  <thead>\n",
       "    <tr style=\"text-align: right;\">\n",
       "      <th></th>\n",
       "      <th>comment_text</th>\n",
       "    </tr>\n",
       "    <tr>\n",
       "      <th>id</th>\n",
       "      <th></th>\n",
       "    </tr>\n",
       "  </thead>\n",
       "  <tbody>\n",
       "    <tr>\n",
       "      <th>00001cee341fdb12</th>\n",
       "      <td>Yo bitch Ja Rule is more succesful then you'll ever be whats up with you and hating you sad mofuckas...i should bitch slap ur pethedic white faces and get you to kiss my ass you guys sicken me. Ja...</td>\n",
       "    </tr>\n",
       "    <tr>\n",
       "      <th>0000247867823ef7</th>\n",
       "      <td>== From RfC == \\r\\n\\r\\n The title is fine as it is, IMO.</td>\n",
       "    </tr>\n",
       "    <tr>\n",
       "      <th>00013b17ad220c46</th>\n",
       "      <td>\" \\r\\n\\r\\n == Sources == \\r\\n\\r\\n * Zawe Ashton on Lapland —  /  \"</td>\n",
       "    </tr>\n",
       "    <tr>\n",
       "      <th>00017563c3f7919a</th>\n",
       "      <td>:If you have a look back at the source, the information I updated was the correct form. I can only guess the source hadn't updated. I shall update the information once again but thank you for your...</td>\n",
       "    </tr>\n",
       "    <tr>\n",
       "      <th>00017695ad8997eb</th>\n",
       "      <td>I don't anonymously edit articles at all.</td>\n",
       "    </tr>\n",
       "  </tbody>\n",
       "</table>\n",
       "</div>"
      ],
      "text/plain": [
       "                                                                                                                                                                                                             comment_text\n",
       "id                                                                                                                                                                                                                       \n",
       "00001cee341fdb12  Yo bitch Ja Rule is more succesful then you'll ever be whats up with you and hating you sad mofuckas...i should bitch slap ur pethedic white faces and get you to kiss my ass you guys sicken me. Ja...\n",
       "0000247867823ef7                                                                                                                                                 == From RfC == \\r\\n\\r\\n The title is fine as it is, IMO.\n",
       "00013b17ad220c46                                                                                                                                       \" \\r\\n\\r\\n == Sources == \\r\\n\\r\\n * Zawe Ashton on Lapland —  /  \"\n",
       "00017563c3f7919a  :If you have a look back at the source, the information I updated was the correct form. I can only guess the source hadn't updated. I shall update the information once again but thank you for your...\n",
       "00017695ad8997eb                                                                                                                                                                I don't anonymously edit articles at all."
      ]
     },
     "execution_count": 12,
     "metadata": {},
     "output_type": "execute_result"
    }
   ],
   "source": [
    "X_test.head()"
   ]
  },
  {
   "cell_type": "markdown",
   "metadata": {},
   "source": [
    "### Conjunto combinado"
   ]
  },
  {
   "cell_type": "code",
   "execution_count": 13,
   "metadata": {},
   "outputs": [],
   "source": [
    "X_full = pd.concat([X_train, X_test])\n",
    "xf = X_full"
   ]
  },
  {
   "cell_type": "markdown",
   "metadata": {},
   "source": [
    "## Exploración de comentarios"
   ]
  },
  {
   "cell_type": "code",
   "execution_count": 14,
   "metadata": {},
   "outputs": [
    {
     "data": {
      "image/png": "[encoded data removed]",
      "text/plain": [
       "<matplotlib.figure.Figure at 0x183ec807438>"
      ]
     },
     "metadata": {},
     "output_type": "display_data"
    }
   ],
   "source": [
    "x=Y_train.iloc[:,:].sum()\n",
    "#plot\n",
    "plt.figure(figsize=(8,4))\n",
    "ax= sns.barplot(x.index, x.values, alpha=0.8)\n",
    "plt.title(\"# Por clase\")\n",
    "plt.ylabel('# comentarios', fontsize=12)\n",
    "plt.xlabel('Tipos ', fontsize=12)\n",
    "#adding the text labels\n",
    "rects = ax.patches\n",
    "labels = x.values\n",
    "for rect, label in zip(rects, labels):\n",
    "    height = rect.get_height()\n",
    "    ax.text(rect.get_x() + rect.get_width()/2, height + 5, label, ha='center', va='bottom')\n",
    "\n",
    "plt.show()"
   ]
  },
  {
   "cell_type": "markdown",
   "metadata": {},
   "source": [
    "Podemos ver las implicaciones entre las diferentes etiquetas"
   ]
  },
  {
   "cell_type": "code",
   "execution_count": 15,
   "metadata": {},
   "outputs": [
    {
     "data": {
      "text/html": [
       "<div>\n",
       "<style>\n",
       "    .dataframe thead tr:only-child th {\n",
       "        text-align: right;\n",
       "    }\n",
       "\n",
       "    .dataframe thead th {\n",
       "        text-align: left;\n",
       "    }\n",
       "\n",
       "    .dataframe tbody tr th {\n",
       "        vertical-align: top;\n",
       "    }\n",
       "</style>\n",
       "<table border=\"1\" class=\"dataframe\">\n",
       "  <thead>\n",
       "    <tr style=\"text-align: right;\">\n",
       "      <th></th>\n",
       "      <th>toxic</th>\n",
       "      <th>severe_toxic</th>\n",
       "      <th>obscene</th>\n",
       "      <th>threat</th>\n",
       "      <th>insult</th>\n",
       "      <th>identity_hate</th>\n",
       "    </tr>\n",
       "  </thead>\n",
       "  <tbody>\n",
       "    <tr>\n",
       "      <th>toxic</th>\n",
       "      <td>1.000000</td>\n",
       "      <td>0.104289</td>\n",
       "      <td>0.518242</td>\n",
       "      <td>0.029358</td>\n",
       "      <td>0.480188</td>\n",
       "      <td>0.085131</td>\n",
       "    </tr>\n",
       "    <tr>\n",
       "      <th>severe_toxic</th>\n",
       "      <td>1.000000</td>\n",
       "      <td>1.000000</td>\n",
       "      <td>0.951097</td>\n",
       "      <td>0.070219</td>\n",
       "      <td>0.859561</td>\n",
       "      <td>0.196238</td>\n",
       "    </tr>\n",
       "    <tr>\n",
       "      <th>obscene</th>\n",
       "      <td>0.938099</td>\n",
       "      <td>0.179548</td>\n",
       "      <td>1.000000</td>\n",
       "      <td>0.035626</td>\n",
       "      <td>0.728489</td>\n",
       "      <td>0.122145</td>\n",
       "    </tr>\n",
       "    <tr>\n",
       "      <th>threat</th>\n",
       "      <td>0.939331</td>\n",
       "      <td>0.234310</td>\n",
       "      <td>0.629707</td>\n",
       "      <td>1.000000</td>\n",
       "      <td>0.642259</td>\n",
       "      <td>0.205021</td>\n",
       "    </tr>\n",
       "    <tr>\n",
       "      <th>insult</th>\n",
       "      <td>0.932335</td>\n",
       "      <td>0.174051</td>\n",
       "      <td>0.781389</td>\n",
       "      <td>0.038974</td>\n",
       "      <td>1.000000</td>\n",
       "      <td>0.147264</td>\n",
       "    </tr>\n",
       "    <tr>\n",
       "      <th>identity_hate</th>\n",
       "      <td>0.926690</td>\n",
       "      <td>0.222776</td>\n",
       "      <td>0.734520</td>\n",
       "      <td>0.069751</td>\n",
       "      <td>0.825623</td>\n",
       "      <td>1.000000</td>\n",
       "    </tr>\n",
       "  </tbody>\n",
       "</table>\n",
       "</div>"
      ],
      "text/plain": [
       "                  toxic  severe_toxic   obscene    threat    insult  identity_hate\n",
       "toxic          1.000000      0.104289  0.518242  0.029358  0.480188       0.085131\n",
       "severe_toxic   1.000000      1.000000  0.951097  0.070219  0.859561       0.196238\n",
       "obscene        0.938099      0.179548  1.000000  0.035626  0.728489       0.122145\n",
       "threat         0.939331      0.234310  0.629707  1.000000  0.642259       0.205021\n",
       "insult         0.932335      0.174051  0.781389  0.038974  1.000000       0.147264\n",
       "identity_hate  0.926690      0.222776  0.734520  0.069751  0.825623       1.000000"
      ]
     },
     "execution_count": 15,
     "metadata": {},
     "output_type": "execute_result"
    }
   ],
   "source": [
    "implications = pd.DataFrame(np.nan, index=Y_train.columns, columns=Y_train.columns)\n",
    "\n",
    "for col_ant in Y_train.columns:\n",
    "    for col_con in Y_train.columns:\n",
    "        \n",
    "        selection_df = Y_train.loc[Y_train[col_ant] == 1]\n",
    "        n_ant = selection_df.shape[0]\n",
    "        n_con = selection_df[col_con].sum()\n",
    "        implications.loc[col_ant, col_con] = n_con / n_ant\n",
    "        \n",
    "implications"
   ]
  },
  {
   "cell_type": "markdown",
   "metadata": {},
   "source": [
    "## Ingeniería de atributos\n",
    "\n",
    " - Número de frases\n",
    " - Número de palabras\n",
    " - Número de palabras (únicas)\n",
    " - Número de letras\n",
    " - Número de signos de puntuacion\n",
    " - Número de mayúsculas\n",
    " - Número de _title case_\n",
    " - Número de stopwords (inglés)\n",
    " \n",
    " - Media de lontigud de palabra\n",
    " - Ratio (100) de palabras únicas frente a palabras\n",
    " - Ratio (100) de signos de puntuacion frente a palabras\n",
    " - Ratio (100) de mayúsculas frente a letras (omitimos signos de puntuacion)\n",
    " \n",
    " - Media de cercanía de palabras a lista de palabras malsonantes"
   ]
  },
  {
   "cell_type": "code",
   "execution_count": 16,
   "metadata": {},
   "outputs": [],
   "source": [
    "# Counting\n",
    "xf['n_sentences'] = xf[\"comment_text\"].apply(lambda x: len(re.findall(\"\\n\",str(x)))+1)\n",
    "xf['n_words']=xf[\"comment_text\"].apply(lambda x: len(str(x).split()))\n",
    "xf['n_unique_word']=xf[\"comment_text\"].apply(lambda x: len(set(str(x).split())))\n",
    "xf['n_letters']=xf[\"comment_text\"].apply(lambda x: len(str(x)))\n",
    "xf[\"n_punct\"] =xf[\"comment_text\"].apply(lambda x: len([c for c in str(x) if c in string.punctuation]))\n",
    "xf[\"n_upper\"] = xf[\"comment_text\"].apply(lambda x: len([w for w in str(x).split() if w.isupper()]))\n",
    "xf[\"n_title\"] = xf[\"comment_text\"].apply(lambda x: len([w for w in str(x).split() if w.istitle()]))\n",
    "xf[\"n_stopwords\"] = xf[\"comment_text\"].apply(lambda x: len([w for w in str(x).lower().split() if w in eng_stopwords]))"
   ]
  },
  {
   "cell_type": "code",
   "execution_count": 17,
   "metadata": {},
   "outputs": [],
   "source": [
    "# Measures\n",
    "xf[\"mean_word_len\"] = xf[\"comment_text\"].apply(lambda x: np.mean([len(w) for w in str(x).split()]))\n",
    "\n",
    "xf['per_wordunique']=xf['n_unique_word']*100/xf['n_words']\n",
    "xf['per_punct']=xf['n_punct']*100/xf['n_words']\n",
    "xf['per_upper']=xf['n_upper']*100/(xf['n_letters']-xf['n_punct'])"
   ]
  },
  {
   "cell_type": "markdown",
   "metadata": {},
   "source": [
    "procesamos el texto para calcular la ratio de palabras cercanas a la BLACK_LIST"
   ]
  },
  {
   "cell_type": "code",
   "execution_count": 18,
   "metadata": {},
   "outputs": [],
   "source": [
    "xf['comment_text'] = xf[\"comment_text\"].apply(lambda x:process_text(x)  )"
   ]
  },
  {
   "cell_type": "markdown",
   "metadata": {},
   "source": [
    "Definimos una nueva columna que nos medirá la ratio de palabras cercanas al BLACK_LIST"
   ]
  },
  {
   "cell_type": "code",
   "execution_count": null,
   "metadata": {},
   "outputs": [],
   "source": [
    "#Aquí es donde se queda pillado\n",
    "#xf['d_badwords']= stds.dist_series_to_series(xf[\"comment_text\"],BLACK_LIST).sum()/ xf['n_words']"
   ]
  },
  {
   "cell_type": "code",
   "execution_count": 23,
   "metadata": {},
   "outputs": [
    {
     "data": {
      "text/html": [
       "<div>\n",
       "<style>\n",
       "    .dataframe thead tr:only-child th {\n",
       "        text-align: right;\n",
       "    }\n",
       "\n",
       "    .dataframe thead th {\n",
       "        text-align: left;\n",
       "    }\n",
       "\n",
       "    .dataframe tbody tr th {\n",
       "        vertical-align: top;\n",
       "    }\n",
       "</style>\n",
       "<table border=\"1\" class=\"dataframe\">\n",
       "  <thead>\n",
       "    <tr style=\"text-align: right;\">\n",
       "      <th></th>\n",
       "      <th>comment_text</th>\n",
       "      <th>n_sentences</th>\n",
       "      <th>n_words</th>\n",
       "      <th>n_unique_word</th>\n",
       "      <th>n_letters</th>\n",
       "      <th>n_punct</th>\n",
       "      <th>n_upper</th>\n",
       "      <th>n_title</th>\n",
       "      <th>n_stopwords</th>\n",
       "      <th>mean_word_len</th>\n",
       "      <th>per_wordunique</th>\n",
       "      <th>per_punct</th>\n",
       "      <th>per_upper</th>\n",
       "    </tr>\n",
       "    <tr>\n",
       "      <th>id</th>\n",
       "      <th></th>\n",
       "      <th></th>\n",
       "      <th></th>\n",
       "      <th></th>\n",
       "      <th></th>\n",
       "      <th></th>\n",
       "      <th></th>\n",
       "      <th></th>\n",
       "      <th></th>\n",
       "      <th></th>\n",
       "      <th></th>\n",
       "      <th></th>\n",
       "      <th></th>\n",
       "    </tr>\n",
       "  </thead>\n",
       "  <tbody>\n",
       "    <tr>\n",
       "      <th>0000997932d777bf</th>\n",
       "      <td>explanation edit make username hardcore metallica fan revert vandalisms closure gas vote new york dolls fac please remove template talk page since retire</td>\n",
       "      <td>2</td>\n",
       "      <td>43</td>\n",
       "      <td>41</td>\n",
       "      <td>265</td>\n",
       "      <td>10</td>\n",
       "      <td>2</td>\n",
       "      <td>11</td>\n",
       "      <td>18</td>\n",
       "      <td>5.162791</td>\n",
       "      <td>95.348837</td>\n",
       "      <td>23.255814</td>\n",
       "      <td>0.784314</td>\n",
       "    </tr>\n",
       "    <tr>\n",
       "      <th>000103f0d9cfb60f</th>\n",
       "      <td>aww match background colour seemingly stick thank talk january utc</td>\n",
       "      <td>1</td>\n",
       "      <td>17</td>\n",
       "      <td>17</td>\n",
       "      <td>112</td>\n",
       "      <td>12</td>\n",
       "      <td>1</td>\n",
       "      <td>3</td>\n",
       "      <td>2</td>\n",
       "      <td>5.588235</td>\n",
       "      <td>100.000000</td>\n",
       "      <td>70.588235</td>\n",
       "      <td>1.000000</td>\n",
       "    </tr>\n",
       "    <tr>\n",
       "      <th>000113f07ec002fd</th>\n",
       "      <td>hey man really try edit war guy constantly remove relevant information talk edit instead talk page seem care format actual info</td>\n",
       "      <td>1</td>\n",
       "      <td>42</td>\n",
       "      <td>39</td>\n",
       "      <td>233</td>\n",
       "      <td>6</td>\n",
       "      <td>0</td>\n",
       "      <td>2</td>\n",
       "      <td>20</td>\n",
       "      <td>4.571429</td>\n",
       "      <td>92.857143</td>\n",
       "      <td>14.285714</td>\n",
       "      <td>0.000000</td>\n",
       "    </tr>\n",
       "    <tr>\n",
       "      <th>0001b41b1c6bb37e</th>\n",
       "      <td>make real suggestions improvement wonder section statistics later subsection type accidents think reference may need tidy exact format ie date format etc later one else first preferences format st...</td>\n",
       "      <td>5</td>\n",
       "      <td>113</td>\n",
       "      <td>82</td>\n",
       "      <td>626</td>\n",
       "      <td>21</td>\n",
       "      <td>5</td>\n",
       "      <td>7</td>\n",
       "      <td>56</td>\n",
       "      <td>4.486726</td>\n",
       "      <td>72.566372</td>\n",
       "      <td>18.584071</td>\n",
       "      <td>0.826446</td>\n",
       "    </tr>\n",
       "    <tr>\n",
       "      <th>0001d958c54c6e35</th>\n",
       "      <td>sir hero chance remember page</td>\n",
       "      <td>1</td>\n",
       "      <td>13</td>\n",
       "      <td>13</td>\n",
       "      <td>67</td>\n",
       "      <td>5</td>\n",
       "      <td>0</td>\n",
       "      <td>2</td>\n",
       "      <td>5</td>\n",
       "      <td>4.230769</td>\n",
       "      <td>100.000000</td>\n",
       "      <td>38.461538</td>\n",
       "      <td>0.000000</td>\n",
       "    </tr>\n",
       "  </tbody>\n",
       "</table>\n",
       "</div>"
      ],
      "text/plain": [
       "                                                                                                                                                                                                             comment_text  n_sentences  n_words  n_unique_word  n_letters  n_punct  n_upper  n_title  n_stopwords  mean_word_len  per_wordunique  per_punct  per_upper\n",
       "id                                                                                                                                                                                                                                                                                                                                                                    \n",
       "0000997932d777bf                                                explanation edit make username hardcore metallica fan revert vandalisms closure gas vote new york dolls fac please remove template talk page since retire            2       43             41        265       10        2       11           18       5.162791       95.348837  23.255814   0.784314\n",
       "000103f0d9cfb60f                                                                                                                                       aww match background colour seemingly stick thank talk january utc            1       17             17        112       12        1        3            2       5.588235      100.000000  70.588235   1.000000\n",
       "000113f07ec002fd                                                                          hey man really try edit war guy constantly remove relevant information talk edit instead talk page seem care format actual info            1       42             39        233        6        0        2           20       4.571429       92.857143  14.285714   0.000000\n",
       "0001b41b1c6bb37e  make real suggestions improvement wonder section statistics later subsection type accidents think reference may need tidy exact format ie date format etc later one else first preferences format st...            5      113             82        626       21        5        7           56       4.486726       72.566372  18.584071   0.826446\n",
       "0001d958c54c6e35                                                                                                                                                                            sir hero chance remember page            1       13             13         67        5        0        2            5       4.230769      100.000000  38.461538   0.000000"
      ]
     },
     "execution_count": 23,
     "metadata": {},
     "output_type": "execute_result"
    }
   ],
   "source": [
    "xf.head()"
   ]
  },
  {
   "cell_type": "markdown",
   "metadata": {},
   "source": [
    "### TF-idf Vectorizer"
   ]
  },
  {
   "cell_type": "code",
   "execution_count": 24,
   "metadata": {},
   "outputs": [],
   "source": [
    "count_vectorizer = TfidfVectorizer(min_df=150,  max_features=30000, \n",
    "            strip_accents='unicode', analyzer='word',ngram_range=(1,1),\n",
    "            use_idf=1,smooth_idf=1,sublinear_tf=1,\n",
    "            stop_words = 'english')\n",
    "\n",
    "\n",
    "count_vectorizer.fit(xf['comment_text'])\n",
    "#features = np.array(count_vectorizer.get_feature_names())\n",
    "\n",
    "\n",
    "train_unigrams =  count_vectorizer.transform(xf['comment_text'].iloc[:X_train.shape[0]])\n",
    "test_unigrams = count_vectorizer.transform(xf['comment_text'].iloc[X_train.shape[0]:])\n",
    "\n"
   ]
  },
  {
   "cell_type": "markdown",
   "metadata": {},
   "source": [
    "Una vez que tenemos todas las características que queremos, volvemos a separar el dataset en el de entrenamiento y el de test"
   ]
  },
  {
   "cell_type": "code",
   "execution_count": 27,
   "metadata": {},
   "outputs": [],
   "source": [
    "C_train = xf.iloc[0:len(X_train),]\n",
    "C_test  = xf.iloc[len(X_train):,]"
   ]
  },
  {
   "cell_type": "markdown",
   "metadata": {},
   "source": [
    "Ponemos un CAP de 200 palabras."
   ]
  },
  {
   "cell_type": "code",
   "execution_count": 28,
   "metadata": {},
   "outputs": [
    {
     "name": "stdout",
     "output_type": "stream",
     "text": [
      "7099\n"
     ]
    }
   ],
   "source": [
    "print(xf['n_unique_word'].loc[xf['n_unique_word']>200].count())\n",
    "C_train['n_unique_word'].loc[C_train['n_unique_word']>200] = 200"
   ]
  },
  {
   "cell_type": "markdown",
   "metadata": {},
   "source": [
    "## Definición del modelo"
   ]
  },
  {
   "cell_type": "code",
   "execution_count": 30,
   "metadata": {},
   "outputs": [],
   "source": [
    "SELECTED_COLS=['n_sentences','n_words','n_unique_word','n_letters'\n",
    "               ,'n_punct','n_upper','n_title','n_stopwords'\n",
    "               ,'mean_word_len','per_wordunique','per_punct']#,'d_badwords']\n",
    "\n",
    "target_x=C_train[SELECTED_COLS]"
   ]
  },
  {
   "cell_type": "code",
   "execution_count": 44,
   "metadata": {},
   "outputs": [],
   "source": [
    "inp = Input(shape=(train_unigrams.shape[1]+len(SELECTED_COLS),))\n",
    "x = Dense(128, init='normal', activation=\"relu\")(inp)\n",
    "x = Dropout(0.1)(x)\n",
    "x = Dense(128, init='normal', activation='relu')(x)\n",
    "x = Dropout(0.1)(x)\n",
    "x = Dense(64, init='normal', activation='relu')(x)\n",
    "x = Dense(32, init='normal', activation='relu')(x)\n",
    "x = Dense(6, init='normal', activation=\"sigmoid\")(x)\n",
    "model = Model(inputs=inp, outputs=x)\n",
    "model.compile(loss='categorical_crossentropy', optimizer='adam', metrics=['accuracy'])"
   ]
  },
  {
   "cell_type": "code",
   "execution_count": null,
   "metadata": {},
   "outputs": [],
   "source": [
    "model.fit(C_train, Y_train, validation_split=0.2, nb_epoch=2, batch_size=32)"
   ]
  },
  {
   "cell_type": "code",
   "execution_count": null,
   "metadata": {},
   "outputs": [],
   "source": [
    "pred = model.predict(test_data)"
   ]
  },
  {
   "cell_type": "code",
   "execution_count": null,
   "metadata": {},
   "outputs": [],
   "source": [
    "sample_submission = pd.read_csv(\"sample_submission.csv\")\n",
    "\n",
    "sample_submission[labels] = pred\n",
    "\n",
    "sample_submission.to_csv(\"result.csv\", index=False)"
   ]
  },
  {
   "cell_type": "code",
   "execution_count": null,
   "metadata": {},
   "outputs": [],
   "source": [
    "sample_submission.head()\n",
    "Out[25]:\n"
   ]
  }
 ],
 "metadata": {
  "kernelspec": {
   "display_name": "Python 3",
   "language": "python",
   "name": "python3"
  },
  "language_info": {
   "codemirror_mode": {
    "name": "ipython",
    "version": 3
   },
   "file_extension": ".py",
   "mimetype": "text/x-python",
   "name": "python",
   "nbconvert_exporter": "python",
   "pygments_lexer": "ipython3",
   "version": "3.6.3"
  }
 },
 "nbformat": 4,
 "nbformat_minor": 2
}
