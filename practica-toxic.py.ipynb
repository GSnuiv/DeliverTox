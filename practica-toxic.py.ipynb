{
 "cells": [
  {
   "cell_type": "code",
   "execution_count": 1,
   "metadata": {},
   "outputs": [],
   "source": [
    "## TMO 2017-2018: practica-toxic.py\n",
    "# Dpto. de C. de la Computación e I.A. (Univ. de Sevilla)\n",
    "#=====================================================================\n",
    "\n",
    "# ********************************************************************\n",
    "# Nombre: Jorge Miguel\n",
    "# Apellidos: García García\n",
    "# ********************************************************************\n",
    "\n",
    "# **************************** IMPORTANTE ****************************\n",
    "# - Recordar escribir el nombre en la cabecera de este fichero.\n",
    "# ********************************************************************\n",
    "\n",
    "# ********************************************************************\n",
    "# HONESTIDAD ACADÉMICA Y COPIAS: la realización de los ejercicios es\n",
    "# un trabajo personal, por lo que deben completarse por cada\n",
    "# estudiante de manera individual.  La discusión y el intercambio de\n",
    "# información de carácter general con los compañeros se permite (e\n",
    "# incluso se recomienda), pero NO AL NIVEL DE CÓDIGO. Igualmente el\n",
    "# remitir código de terceros, obtenido a través de la red o cualquier\n",
    "# otro medio, se considerará plagio.\n",
    "\n",
    "# Cualquier plagio o compartición de código que se detecte significará\n",
    "# automáticamente la calificación de CERO EN LA ASIGNATURA para TODOS\n",
    "# los alumnos involucrados. \n",
    "# ********************************************************************\n",
    "\n",
    "# Se pide crear un modelo de clasificación con alguno de los algoritmos\n",
    "# vistos en clase e implementados en la librería scikit-learn, también se\n",
    "# permite el uso de xgboost y keras (tensorflow). Se valorará\n",
    "# el ajuste de parámetros realizado (aplicando validación cruzada), así como\n",
    "# la transformaciones sobre los datos desarrolladas para mejorar el calidad\n",
    "# (score) del modelo por validación cruzada (un buen ejemplo es el notebook\n",
    "# Left que se puede encontrar en la enseñanza virtual)\n",
    "\n",
    "# El conjunto de datos corresponde a comentarios realizados en wikipedia.\n",
    "# Se pretende determinar si los comentarios tiene un carga negativa o no.\n",
    "# que un anuncio dado tendrá para la comunidad de usuarios de este portal.\n",
    "# Cada comentario puede ser clasificado como tóxico, muy tóxico, obsceno,\n",
    "# insultante, con carga de odio y/o amenazante.\n",
    "\n",
    "#    1. De los texto se pueden obtener atributos como la longitud, número \n",
    "#       de palabras, número de palabras únicas, número de mayúsculas, etc... \n",
    "#       También se pueden aplicar técnicas de vectorización de textos como \n",
    "#       CountVectorizer o TF-IDF entre otras. \n",
    "#    2. Se puede usar diferentes algoritmos: regresión lineal, naive bayes, \n",
    "#       random forest y despues intentar ensamblarlos (obtener la media de las\n",
    "#       predicciones)\n",
    "\n",
    "# Estas son algunas de las tranformaciones que se pueden realizar, pero no las\n",
    "# únicas. Cualquier otra transformación que se lleve a cabo sobre los datos\n",
    "# será tenida en cuenta positivamente.\n",
    "\n",
    "# Se deberá entregar este archivo con las implementaciones realizadas y\n",
    "# comentadas, el archivo de predicciones del mejor modelo encontrado y el score \n",
    "# asociado por cross-validación y el proporcionado por kaggle (enviar a \n",
    "# dsolis@us.es)\n",
    "\n",
    "# Toda la información necesaria y los conjuntos de datos se pueden encontrar en:\n",
    "# https://www.kaggle.com/c/jigsaw-toxic-comment-classification-challenge\n",
    "\n",
    "# *******************************************************************\n",
    "# IMPORTANTE: El plazo de entrega es hasta la finalización de la \n",
    "# competición (20 de Febrero).\n",
    "# ********************************************************************\n",
    "\n",
    "# *******************************************************************\n",
    "# IMPORTANTE: La competición está activa. Debéis subir las predicciones\n",
    "# y que la plataforma os dé el score sobre el test. Podeis usar el nombre\n",
    "# de usuario que considereis oportuno.\n",
    "# ********************************************************************\n",
    "\n",
    "# ********************************************************************\n",
    "# IMPORTANTE: Se pueden consultar y usar los ejemplos de código y \n",
    "# transformaciones encontradas en: \n",
    "# https://www.kaggle.com/c/jigsaw-toxic-comment-classification-challenge/kernels\n",
    "# ********************************************************************\n",
    "\n",
    "# ********************************************************************\n",
    "# IMPORTANTE: Para resolver cualquier duda contactar con David Solís \n",
    "# (dsolis@us.es)\n",
    "# ********************************************************************\n",
    "\n"
   ]
  },
  {
   "cell_type": "markdown",
   "metadata": {},
   "source": [
    "## Carga de librerías principales"
   ]
  },
  {
   "cell_type": "code",
   "execution_count": 2,
   "metadata": {},
   "outputs": [
    {
     "name": "stderr",
     "output_type": "stream",
     "text": [
      "C:\\Users\\Gsnuiv\\Anaconda3\\lib\\site-packages\\h5py\\__init__.py:34: FutureWarning: Conversion of the second argument of issubdtype from `float` to `np.floating` is deprecated. In future, it will be treated as `np.float64 == np.dtype(float).type`.\n",
      "  from ._conv import register_converters as _register_converters\n",
      "Using TensorFlow backend.\n"
     ]
    }
   ],
   "source": [
    "import os\n",
    "import pandas as pd\n",
    "import numpy as np\n",
    "\n",
    "#propias\n",
    "import constants as ct\n",
    "from utils import get_upper_case_prop, get_punctuation_prop, process_text\n",
    "from utils_plot import PlotLosses\n",
    "import string_dists as stds\n",
    "\n",
    "#keras\n",
    "from keras.preprocessing.text import Tokenizer\n",
    "from keras.preprocessing.sequence import pad_sequences\n",
    "from keras.layers import Dense, Input, LSTM, Embedding, Dropout, Activation, Layer, Lambda\n",
    "from keras.layers import Bidirectional, GlobalMaxPool1D\n",
    "from keras.models import Model\n",
    "from keras import initializers, regularizers, constraints, optimizers, layers\n",
    "\n",
    "from functools import reduce\n",
    "from tqdm import tqdm"
   ]
  },
  {
   "cell_type": "code",
   "execution_count": 3,
   "metadata": {},
   "outputs": [],
   "source": [
    "#misc\n",
    "import gc\n",
    "import time\n",
    "import warnings\n",
    "\n",
    "#stats\n",
    "#from scipy.misc import imread\n",
    "import scipy.sparse\n",
    "import scipy.stats as ss\n",
    "\n",
    "#viz\n",
    "import matplotlib.pyplot as plt\n",
    "import matplotlib.gridspec as gridspec \n",
    "import seaborn as sns\n",
    "import matplotlib_venn as venn\n",
    "\n",
    "#nlp\n",
    "import string\n",
    "import re    #for regex\n",
    "import nltk\n",
    "from nltk.corpus import stopwords\n",
    "import spacy\n",
    "from nltk import pos_tag\n",
    "from nltk.stem.wordnet import WordNetLemmatizer \n",
    "from nltk.tokenize import word_tokenize\n",
    "from nltk.tokenize import TweetTokenizer   \n",
    "\n",
    "#FeatureEngineering\n",
    "from sklearn.feature_extraction.text import TfidfVectorizer, CountVectorizer, HashingVectorizer\n",
    "from sklearn.decomposition import TruncatedSVD\n",
    "from sklearn.base import BaseEstimator, ClassifierMixin\n",
    "from sklearn.utils.validation import check_X_y, check_is_fitted\n",
    "from sklearn.linear_model import LogisticRegression\n",
    "from sklearn import metrics\n",
    "from sklearn.metrics import log_loss\n",
    "from sklearn.model_selection import StratifiedKFold\n",
    "from sklearn.model_selection import train_test_split"
   ]
  },
  {
   "cell_type": "markdown",
   "metadata": {},
   "source": [
    "### Settings"
   ]
  },
  {
   "cell_type": "code",
   "execution_count": 4,
   "metadata": {},
   "outputs": [],
   "source": [
    "pd.options.display.max_columns = 200\n",
    "pd.options.display.max_rows = 200\n",
    "pd.options.display.width = 1000\n",
    "pd.options.display.max_colwidth = 200\n",
    "\n",
    "#settingsimread\n",
    "start_time=time.time()\n",
    "color = sns.color_palette()\n",
    "sns.set_style(\"dark\")\n",
    "eng_stopwords = set(stopwords.words(\"english\"))\n",
    "warnings.filterwarnings(\"ignore\")\n",
    "\n",
    "lem = WordNetLemmatizer()\n",
    "tokenizer=TweetTokenizer()\n",
    "\n",
    "%matplotlib inline"
   ]
  },
  {
   "cell_type": "markdown",
   "metadata": {},
   "source": [
    "Cargamos también el array de badwords que hemos preparado"
   ]
  },
  {
   "cell_type": "code",
   "execution_count": 5,
   "metadata": {},
   "outputs": [],
   "source": [
    "BLACK_LIST = pd.read_csv('arrBad', index_col=None, quotechar=\"'\")\n",
    "BLACK_LIST = BLACK_LIST.index"
   ]
  },
  {
   "cell_type": "markdown",
   "metadata": {},
   "source": [
    "## Definición de los datasets"
   ]
  },
  {
   "cell_type": "markdown",
   "metadata": {},
   "source": [
    "### Conjunto de entrenamiento"
   ]
  },
  {
   "cell_type": "code",
   "execution_count": 6,
   "metadata": {},
   "outputs": [],
   "source": [
    "train = pd.read_csv('train.csv', index_col='id')\n",
    "X_train = train['comment_text'].to_frame()"
   ]
  },
  {
   "cell_type": "code",
   "execution_count": 7,
   "metadata": {},
   "outputs": [],
   "source": [
    "n_final_cols = X_train.shape[0]"
   ]
  },
  {
   "cell_type": "code",
   "execution_count": 8,
   "metadata": {},
   "outputs": [
    {
     "data": {
      "text/plain": [
       "['toxic', 'severe_toxic', 'obscene', 'threat', 'insult', 'identity_hate']"
      ]
     },
     "execution_count": 8,
     "metadata": {},
     "output_type": "execute_result"
    }
   ],
   "source": [
    "ct.OBJECTIVE_COLS"
   ]
  },
  {
   "cell_type": "code",
   "execution_count": 9,
   "metadata": {},
   "outputs": [],
   "source": [
    "Y_train = train[ct.OBJECTIVE_COLS]"
   ]
  },
  {
   "cell_type": "markdown",
   "metadata": {},
   "source": [
    "Vemos que el dataset tiene clases muy desequilibradas, especialmente **threat** y **identity_hate**"
   ]
  },
  {
   "cell_type": "code",
   "execution_count": 10,
   "metadata": {},
   "outputs": [
    {
     "data": {
      "text/plain": [
       "toxic            9.584448\n",
       "obscene          5.294822\n",
       "insult           4.936361\n",
       "severe_toxic     0.999555\n",
       "identity_hate    0.880486\n",
       "threat           0.299553\n",
       "dtype: float64"
      ]
     },
     "execution_count": 10,
     "metadata": {},
     "output_type": "execute_result"
    }
   ],
   "source": [
    "Y_train.sum().div(Y_train.shape[0] / 100).sort_values(ascending=False)"
   ]
  },
  {
   "cell_type": "markdown",
   "metadata": {},
   "source": [
    "### Conjunto Test"
   ]
  },
  {
   "cell_type": "code",
   "execution_count": 11,
   "metadata": {},
   "outputs": [],
   "source": [
    "X_test = pd.read_csv('test.csv', index_col='id')"
   ]
  },
  {
   "cell_type": "code",
   "execution_count": 12,
   "metadata": {},
   "outputs": [
    {
     "data": {
      "text/plain": [
       "(153164, 1)"
      ]
     },
     "execution_count": 12,
     "metadata": {},
     "output_type": "execute_result"
    }
   ],
   "source": [
    "X_test.shape"
   ]
  },
  {
   "cell_type": "code",
   "execution_count": 13,
   "metadata": {},
   "outputs": [
    {
     "data": {
      "text/html": [
       "<div>\n",
       "<style>\n",
       "    .dataframe thead tr:only-child th {\n",
       "        text-align: right;\n",
       "    }\n",
       "\n",
       "    .dataframe thead th {\n",
       "        text-align: left;\n",
       "    }\n",
       "\n",
       "    .dataframe tbody tr th {\n",
       "        vertical-align: top;\n",
       "    }\n",
       "</style>\n",
       "<table border=\"1\" class=\"dataframe\">\n",
       "  <thead>\n",
       "    <tr style=\"text-align: right;\">\n",
       "      <th></th>\n",
       "      <th>comment_text</th>\n",
       "    </tr>\n",
       "    <tr>\n",
       "      <th>id</th>\n",
       "      <th></th>\n",
       "    </tr>\n",
       "  </thead>\n",
       "  <tbody>\n",
       "    <tr>\n",
       "      <th>00001cee341fdb12</th>\n",
       "      <td>Yo bitch Ja Rule is more succesful then you'll ever be whats up with you and hating you sad mofuckas...i should bitch slap ur pethedic white faces and get you to kiss my ass you guys sicken me. Ja...</td>\n",
       "    </tr>\n",
       "    <tr>\n",
       "      <th>0000247867823ef7</th>\n",
       "      <td>== From RfC == \\r\\n\\r\\n The title is fine as it is, IMO.</td>\n",
       "    </tr>\n",
       "    <tr>\n",
       "      <th>00013b17ad220c46</th>\n",
       "      <td>\" \\r\\n\\r\\n == Sources == \\r\\n\\r\\n * Zawe Ashton on Lapland —  /  \"</td>\n",
       "    </tr>\n",
       "    <tr>\n",
       "      <th>00017563c3f7919a</th>\n",
       "      <td>:If you have a look back at the source, the information I updated was the correct form. I can only guess the source hadn't updated. I shall update the information once again but thank you for your...</td>\n",
       "    </tr>\n",
       "    <tr>\n",
       "      <th>00017695ad8997eb</th>\n",
       "      <td>I don't anonymously edit articles at all.</td>\n",
       "    </tr>\n",
       "  </tbody>\n",
       "</table>\n",
       "</div>"
      ],
      "text/plain": [
       "                                                                                                                                                                                                             comment_text\n",
       "id                                                                                                                                                                                                                       \n",
       "00001cee341fdb12  Yo bitch Ja Rule is more succesful then you'll ever be whats up with you and hating you sad mofuckas...i should bitch slap ur pethedic white faces and get you to kiss my ass you guys sicken me. Ja...\n",
       "0000247867823ef7                                                                                                                                                 == From RfC == \\r\\n\\r\\n The title is fine as it is, IMO.\n",
       "00013b17ad220c46                                                                                                                                       \" \\r\\n\\r\\n == Sources == \\r\\n\\r\\n * Zawe Ashton on Lapland —  /  \"\n",
       "00017563c3f7919a  :If you have a look back at the source, the information I updated was the correct form. I can only guess the source hadn't updated. I shall update the information once again but thank you for your...\n",
       "00017695ad8997eb                                                                                                                                                                I don't anonymously edit articles at all."
      ]
     },
     "execution_count": 13,
     "metadata": {},
     "output_type": "execute_result"
    }
   ],
   "source": [
    "X_test.head()"
   ]
  },
  {
   "cell_type": "markdown",
   "metadata": {},
   "source": [
    "### Conjunto combinado"
   ]
  },
  {
   "cell_type": "code",
   "execution_count": 14,
   "metadata": {},
   "outputs": [
    {
     "data": {
      "text/plain": [
       "(312735, 1)"
      ]
     },
     "execution_count": 14,
     "metadata": {},
     "output_type": "execute_result"
    }
   ],
   "source": [
    "X_full = pd.concat([X_train, X_test])\n",
    "X_full.shape"
   ]
  },
  {
   "cell_type": "markdown",
   "metadata": {},
   "source": [
    "## Exploración de comentarios"
   ]
  },
  {
   "cell_type": "code",
   "execution_count": 15,
   "metadata": {},
   "outputs": [
    {
     "data": {
      "image/png": "[encoded data removed]",
      "text/plain": [
       "<matplotlib.figure.Figure at 0x1caaa259f98>"
      ]
     },
     "metadata": {},
     "output_type": "display_data"
    }
   ],
   "source": [
    "x=Y_train.iloc[:,:].sum()\n",
    "#plot\n",
    "plt.figure(figsize=(8,4))\n",
    "ax= sns.barplot(x.index, x.values, alpha=0.8)\n",
    "plt.title(\"# Por clase\")\n",
    "plt.ylabel('# comentarios', fontsize=12)\n",
    "plt.xlabel('Tipos ', fontsize=12)\n",
    "#adding the text labels\n",
    "rects = ax.patches\n",
    "labels = x.values\n",
    "for rect, label in zip(rects, labels):\n",
    "    height = rect.get_height()\n",
    "    ax.text(rect.get_x() + rect.get_width()/2, height + 5, label, ha='center', va='bottom')\n",
    "\n",
    "plt.show()"
   ]
  },
  {
   "cell_type": "markdown",
   "metadata": {},
   "source": [
    "Podemos ver las implicaciones entre las diferentes etiquetas"
   ]
  },
  {
   "cell_type": "code",
   "execution_count": 16,
   "metadata": {},
   "outputs": [
    {
     "data": {
      "text/html": [
       "<div>\n",
       "<style>\n",
       "    .dataframe thead tr:only-child th {\n",
       "        text-align: right;\n",
       "    }\n",
       "\n",
       "    .dataframe thead th {\n",
       "        text-align: left;\n",
       "    }\n",
       "\n",
       "    .dataframe tbody tr th {\n",
       "        vertical-align: top;\n",
       "    }\n",
       "</style>\n",
       "<table border=\"1\" class=\"dataframe\">\n",
       "  <thead>\n",
       "    <tr style=\"text-align: right;\">\n",
       "      <th></th>\n",
       "      <th>toxic</th>\n",
       "      <th>severe_toxic</th>\n",
       "      <th>obscene</th>\n",
       "      <th>threat</th>\n",
       "      <th>insult</th>\n",
       "      <th>identity_hate</th>\n",
       "    </tr>\n",
       "  </thead>\n",
       "  <tbody>\n",
       "    <tr>\n",
       "      <th>toxic</th>\n",
       "      <td>1.000000</td>\n",
       "      <td>0.104289</td>\n",
       "      <td>0.518242</td>\n",
       "      <td>0.029358</td>\n",
       "      <td>0.480188</td>\n",
       "      <td>0.085131</td>\n",
       "    </tr>\n",
       "    <tr>\n",
       "      <th>severe_toxic</th>\n",
       "      <td>1.000000</td>\n",
       "      <td>1.000000</td>\n",
       "      <td>0.951097</td>\n",
       "      <td>0.070219</td>\n",
       "      <td>0.859561</td>\n",
       "      <td>0.196238</td>\n",
       "    </tr>\n",
       "    <tr>\n",
       "      <th>obscene</th>\n",
       "      <td>0.938099</td>\n",
       "      <td>0.179548</td>\n",
       "      <td>1.000000</td>\n",
       "      <td>0.035626</td>\n",
       "      <td>0.728489</td>\n",
       "      <td>0.122145</td>\n",
       "    </tr>\n",
       "    <tr>\n",
       "      <th>threat</th>\n",
       "      <td>0.939331</td>\n",
       "      <td>0.234310</td>\n",
       "      <td>0.629707</td>\n",
       "      <td>1.000000</td>\n",
       "      <td>0.642259</td>\n",
       "      <td>0.205021</td>\n",
       "    </tr>\n",
       "    <tr>\n",
       "      <th>insult</th>\n",
       "      <td>0.932335</td>\n",
       "      <td>0.174051</td>\n",
       "      <td>0.781389</td>\n",
       "      <td>0.038974</td>\n",
       "      <td>1.000000</td>\n",
       "      <td>0.147264</td>\n",
       "    </tr>\n",
       "    <tr>\n",
       "      <th>identity_hate</th>\n",
       "      <td>0.926690</td>\n",
       "      <td>0.222776</td>\n",
       "      <td>0.734520</td>\n",
       "      <td>0.069751</td>\n",
       "      <td>0.825623</td>\n",
       "      <td>1.000000</td>\n",
       "    </tr>\n",
       "  </tbody>\n",
       "</table>\n",
       "</div>"
      ],
      "text/plain": [
       "                  toxic  severe_toxic   obscene    threat    insult  identity_hate\n",
       "toxic          1.000000      0.104289  0.518242  0.029358  0.480188       0.085131\n",
       "severe_toxic   1.000000      1.000000  0.951097  0.070219  0.859561       0.196238\n",
       "obscene        0.938099      0.179548  1.000000  0.035626  0.728489       0.122145\n",
       "threat         0.939331      0.234310  0.629707  1.000000  0.642259       0.205021\n",
       "insult         0.932335      0.174051  0.781389  0.038974  1.000000       0.147264\n",
       "identity_hate  0.926690      0.222776  0.734520  0.069751  0.825623       1.000000"
      ]
     },
     "execution_count": 16,
     "metadata": {},
     "output_type": "execute_result"
    }
   ],
   "source": [
    "implications = pd.DataFrame(np.nan, index=Y_train.columns, columns=Y_train.columns)\n",
    "\n",
    "for col_ant in Y_train.columns:\n",
    "    for col_con in Y_train.columns:\n",
    "        \n",
    "        selection_df = Y_train.loc[Y_train[col_ant] == 1]\n",
    "        n_ant = selection_df.shape[0]\n",
    "        n_con = selection_df[col_con].sum()\n",
    "        implications.loc[col_ant, col_con] = n_con / n_ant\n",
    "        \n",
    "implications"
   ]
  },
  {
   "cell_type": "markdown",
   "metadata": {},
   "source": [
    "## Ingeniería de atributos\n",
    "\n",
    " - Número de frases\n",
    " - Número de palabras\n",
    " - Número de palabras (únicas)\n",
    " - Número de letras\n",
    " - Número de signos de puntuacion\n",
    " - Número de mayúsculas\n",
    " - Número de _title case_\n",
    " - Número de stopwords (inglés)\n",
    " \n",
    " - Media de lontigud de palabra\n",
    " - Ratio (100) de palabras únicas frente a palabras\n",
    " - Ratio (100) de signos de puntuacion frente a palabras\n",
    " - Ratio (100) de mayúsculas frente a letras (omitimos signos de puntuacion)\n",
    " \n",
    " - Ratio de distancia a palabras de una bolsa de palabras malsonantes/ofensivas"
   ]
  },
  {
   "cell_type": "code",
   "execution_count": 17,
   "metadata": {},
   "outputs": [],
   "source": [
    "# Counting\n",
    "X_full['n_sentences'] = X_full[\"comment_text\"].apply(lambda x: len(re.findall(\"\\n\",str(x)))+1)\n",
    "X_full['n_words']=X_full[\"comment_text\"].apply(lambda x: len(str(x).split()))\n",
    "X_full['n_unique_word']=X_full[\"comment_text\"].apply(lambda x: len(set(str(x).split())))\n",
    "X_full['n_letters']=X_full[\"comment_text\"].apply(lambda x: len(str(x)))\n",
    "X_full[\"n_punct\"] =X_full[\"comment_text\"].apply(lambda x: len([c for c in str(x) if c in string.punctuation]))\n",
    "X_full[\"n_upper\"] = X_full[\"comment_text\"].apply(lambda x: len([w for w in str(x).split() if w.isupper()]))\n",
    "X_full[\"n_title\"] = X_full[\"comment_text\"].apply(lambda x: len([w for w in str(x).split() if w.istitle()]))\n",
    "X_full[\"n_stopwords\"] = X_full[\"comment_text\"].apply(lambda x: len([w for w in str(x).lower().split() if w in eng_stopwords]))"
   ]
  },
  {
   "cell_type": "code",
   "execution_count": 18,
   "metadata": {},
   "outputs": [],
   "source": [
    "# Measures\n",
    "X_full[\"mean_word_len\"] = X_full[\"comment_text\"].apply(lambda x: np.mean([len(w) for w in str(x).split()]))\n",
    "\n",
    "X_full['per_wordunique']=X_full['n_unique_word']*100/X_full['n_words']\n",
    "X_full['per_punct']=X_full['n_punct']*100/X_full['n_words']\n",
    "X_full['per_upper']=X_full['n_upper']*100/(X_full['n_letters']-X_full['n_punct'])"
   ]
  },
  {
   "cell_type": "markdown",
   "metadata": {},
   "source": [
    "Procesamos el texto para calcular la ratio de palabras cercanas a la BLACK_LIST"
   ]
  },
  {
   "cell_type": "code",
   "execution_count": 19,
   "metadata": {},
   "outputs": [],
   "source": [
    "X_full['comment_text'] = X_full[\"comment_text\"].apply(lambda x:process_text(x)  )"
   ]
  },
  {
   "cell_type": "markdown",
   "metadata": {},
   "source": [
    "##### Limpiamos el BLACK_LIST\n",
    "Definimos una nueva columna que nos medirá la ratio de palabras cercanas al BLACK_LIST. En principio era idea establecer una medida de ratio de palabras del blacklist en cada comentario, pero por performance no he sido capaz de lograr ponerlo"
   ]
  },
  {
   "cell_type": "code",
   "execution_count": 20,
   "metadata": {},
   "outputs": [
    {
     "data": {
      "text/plain": [
       "736"
      ]
     },
     "execution_count": 20,
     "metadata": {},
     "output_type": "execute_result"
    }
   ],
   "source": [
    "#Aquí es donde se queda pillado\n",
    "#xf['d_badwords']= stds.dist_series_to_series(xf[\"comment_text\"],BLACK_LIST).sum()/ xf['n_words']\n",
    "BLACK_LIST\n",
    "bl = set(BLACK_LIST)\n",
    "len(bl)"
   ]
  },
  {
   "cell_type": "markdown",
   "metadata": {},
   "source": [
    "### TF-idf Vectorizer"
   ]
  },
  {
   "cell_type": "code",
   "execution_count": 21,
   "metadata": {},
   "outputs": [
    {
     "data": {
      "text/plain": [
       "TfidfVectorizer(analyzer='word', binary=False, decode_error='strict',\n",
       "        dtype=<class 'numpy.int64'>, encoding='utf-8', input='content',\n",
       "        lowercase=True, max_df=1.0, max_features=30000, min_df=150,\n",
       "        ngram_range=(1, 1), norm='l2', preprocessor=None, smooth_idf=1,\n",
       "        stop_words='english', strip_accents='unicode', sublinear_tf=1,\n",
       "        token_pattern='(?u)\\\\b\\\\w\\\\w+\\\\b', tokenizer=None, use_idf=1,\n",
       "        vocabulary=None)"
      ]
     },
     "execution_count": 21,
     "metadata": {},
     "output_type": "execute_result"
    }
   ],
   "source": [
    "count_vectorizer = TfidfVectorizer(min_df=150,  max_features=30000, \n",
    "            strip_accents='unicode', analyzer='word',ngram_range=(1,1),\n",
    "            use_idf=1,smooth_idf=1,sublinear_tf=1,\n",
    "            stop_words = 'english')\n",
    "\n",
    "count_vectorizer.fit(X_full['comment_text'])"
   ]
  },
  {
   "cell_type": "code",
   "execution_count": 22,
   "metadata": {},
   "outputs": [],
   "source": [
    "train_vec =  count_vectorizer.transform(X_full['comment_text'].iloc[:X_train.shape[0]]).toarray()\n",
    "test_vec = count_vectorizer.transform(X_full['comment_text'].iloc[X_train.shape[0]:]).toarray()"
   ]
  },
  {
   "cell_type": "markdown",
   "metadata": {},
   "source": [
    "Una vez que tenemos todas las características que queremos, volvemos a separar el dataset en el de entrenamiento y el de test"
   ]
  },
  {
   "cell_type": "code",
   "execution_count": 23,
   "metadata": {},
   "outputs": [],
   "source": [
    "custom_train = X_full.iloc[0:len(X_train),]\n",
    "custom_test  = X_full.iloc[len(X_train):,]"
   ]
  },
  {
   "cell_type": "markdown",
   "metadata": {},
   "source": [
    "Ponemos un CAP de 200 palabras."
   ]
  },
  {
   "cell_type": "code",
   "execution_count": 24,
   "metadata": {},
   "outputs": [],
   "source": [
    "custom_train['n_unique_word'].loc[custom_train['n_unique_word']>200] = 200"
   ]
  },
  {
   "cell_type": "markdown",
   "metadata": {},
   "source": [
    "## Definición del modelo"
   ]
  },
  {
   "cell_type": "code",
   "execution_count": 25,
   "metadata": {},
   "outputs": [],
   "source": [
    "SELECTED_COLS=['n_sentences','n_words','n_unique_word','n_letters'\n",
    "               ,'n_punct','n_upper','n_title','n_stopwords'\n",
    "               ,'mean_word_len','per_wordunique','per_punct']#,'d_badwords']\n",
    "\n",
    "target_x = custom_train[SELECTED_COLS]\n",
    "test_x   = custom_test[SELECTED_COLS]"
   ]
  },
  {
   "cell_type": "code",
   "execution_count": 26,
   "metadata": {},
   "outputs": [
    {
     "data": {
      "text/plain": [
       "numpy.ndarray"
      ]
     },
     "execution_count": 26,
     "metadata": {},
     "output_type": "execute_result"
    }
   ],
   "source": [
    "type(train_vec)"
   ]
  },
  {
   "cell_type": "code",
   "execution_count": 27,
   "metadata": {},
   "outputs": [],
   "source": [
    "inp = Input(shape=(train_vec.shape[1]+len(SELECTED_COLS),))\n",
    "x = Dense(128, init='normal', activation=\"relu\")(inp)\n",
    "x = Dropout(0.1)(x)\n",
    "x = Dense(128, init='normal', activation='relu')(x)\n",
    "x = Dropout(0.1)(x)\n",
    "x = Dense(32, init='normal', activation='relu')(x)\n",
    "x = Dense(6, init='normal', activation=\"sigmoid\")(x)\n",
    "model = Model(inputs=inp, outputs=x)\n",
    "model.compile(loss='binary_crossentropy', optimizer='adam', metrics=['accuracy'])"
   ]
  },
  {
   "cell_type": "code",
   "execution_count": 28,
   "metadata": {},
   "outputs": [],
   "source": [
    "train_sparse = scipy.sparse.hstack([target_x,train_vec])\n",
    "test_sparse  = scipy.sparse.hstack([test_x,test_vec])"
   ]
  },
  {
   "cell_type": "code",
   "execution_count": 29,
   "metadata": {},
   "outputs": [],
   "source": [
    "train = train_sparse.todense()\n",
    "#Si intentamos hacer un todense al test_sparse nos da fallo de memoria"
   ]
  },
  {
   "cell_type": "code",
   "execution_count": 30,
   "metadata": {},
   "outputs": [
    {
     "name": "stdout",
     "output_type": "stream",
     "text": [
      "Train on 127656 samples, validate on 31915 samples\n",
      "Epoch 1/2\n"
     ]
    },
    {
     "name": "stdout",
     "output_type": "stream",
     "text": [
      " 18176/127656 [===>..........................] - ETA: 46:52 - loss: 1.1874 - acc: 0.41 - ETA: 16:45 - loss: 0.8956 - acc: 0.46 - ETA: 9:01 - loss: 0.7345 - acc: 0.6068 - ETA: 7:10 - loss: 0.6791 - acc: 0.668 - ETA: 5:36 - loss: 0.6119 - acc: 0.731 - ETA: 4:41 - loss: 0.5411 - acc: 0.780 - ETA: 4:07 - loss: 0.4801 - acc: 0.812 - ETA: 3:42 - loss: 0.4497 - acc: 0.834 - ETA: 3:24 - loss: 0.4091 - acc: 0.853 - ETA: 3:11 - loss: 0.3783 - acc: 0.866 - ETA: 2:59 - loss: 0.3522 - acc: 0.877 - ETA: 2:50 - loss: 0.3386 - acc: 0.883 - ETA: 2:42 - loss: 0.3224 - acc: 0.890 - ETA: 2:39 - loss: 0.3188 - acc: 0.893 - ETA: 2:33 - loss: 0.3052 - acc: 0.898 - ETA: 2:28 - loss: 0.2961 - acc: 0.903 - ETA: 2:24 - loss: 0.2904 - acc: 0.906 - ETA: 2:20 - loss: 0.2806 - acc: 0.910 - ETA: 2:16 - loss: 0.2753 - acc: 0.913 - ETA: 2:13 - loss: 0.2658 - acc: 0.916 - ETA: 2:10 - loss: 0.2628 - acc: 0.917 - ETA: 2:08 - loss: 0.2562 - acc: 0.920 - ETA: 2:05 - loss: 0.2514 - acc: 0.922 - ETA: 2:03 - loss: 0.2462 - acc: 0.924 - ETA: 2:02 - loss: 0.2417 - acc: 0.926 - ETA: 2:00 - loss: 0.2406 - acc: 0.927 - ETA: 1:58 - loss: 0.2425 - acc: 0.928 - ETA: 1:57 - loss: 0.2403 - acc: 0.928 - ETA: 1:55 - loss: 0.2348 - acc: 0.931 - ETA: 1:55 - loss: 0.2337 - acc: 0.931 - ETA: 1:54 - loss: 0.2333 - acc: 0.933 - ETA: 1:53 - loss: 0.2322 - acc: 0.934 - ETA: 1:52 - loss: 0.2288 - acc: 0.935 - ETA: 1:51 - loss: 0.2267 - acc: 0.935 - ETA: 1:50 - loss: 0.2244 - acc: 0.936 - ETA: 1:49 - loss: 0.2248 - acc: 0.936 - ETA: 1:49 - loss: 0.2230 - acc: 0.936 - ETA: 1:48 - loss: 0.2207 - acc: 0.937 - ETA: 1:48 - loss: 0.2183 - acc: 0.938 - ETA: 1:46 - loss: 0.2170 - acc: 0.938 - ETA: 1:46 - loss: 0.2170 - acc: 0.938 - ETA: 1:45 - loss: 0.2145 - acc: 0.939 - ETA: 1:44 - loss: 0.2111 - acc: 0.940 - ETA: 1:44 - loss: 0.2119 - acc: 0.940 - ETA: 1:43 - loss: 0.2102 - acc: 0.941 - ETA: 1:42 - loss: 0.2084 - acc: 0.942 - ETA: 1:42 - loss: 0.2090 - acc: 0.942 - ETA: 1:41 - loss: 0.2075 - acc: 0.942 - ETA: 1:41 - loss: 0.2066 - acc: 0.943 - ETA: 1:40 - loss: 0.2046 - acc: 0.943 - ETA: 1:40 - loss: 0.2027 - acc: 0.944 - ETA: 1:39 - loss: 0.2026 - acc: 0.944 - ETA: 1:39 - loss: 0.2002 - acc: 0.945 - ETA: 1:38 - loss: 0.2000 - acc: 0.945 - ETA: 1:38 - loss: 0.1999 - acc: 0.945 - ETA: 1:37 - loss: 0.1984 - acc: 0.945 - ETA: 1:37 - loss: 0.1971 - acc: 0.946 - ETA: 1:37 - loss: 0.1973 - acc: 0.946 - ETA: 1:37 - loss: 0.1963 - acc: 0.946 - ETA: 1:36 - loss: 0.1954 - acc: 0.946 - ETA: 1:36 - loss: 0.1949 - acc: 0.947 - ETA: 1:35 - loss: 0.1944 - acc: 0.947 - ETA: 1:35 - loss: 0.1933 - acc: 0.947 - ETA: 1:35 - loss: 0.1922 - acc: 0.947 - ETA: 1:34 - loss: 0.1924 - acc: 0.947 - ETA: 1:34 - loss: 0.1912 - acc: 0.948 - ETA: 1:33 - loss: 0.1902 - acc: 0.948 - ETA: 1:33 - loss: 0.1894 - acc: 0.948 - ETA: 1:33 - loss: 0.1890 - acc: 0.948 - ETA: 1:32 - loss: 0.1877 - acc: 0.949 - ETA: 1:32 - loss: 0.1868 - acc: 0.949 - ETA: 1:32 - loss: 0.1866 - acc: 0.949 - ETA: 1:32 - loss: 0.1863 - acc: 0.949 - ETA: 1:31 - loss: 0.1857 - acc: 0.949 - ETA: 1:31 - loss: 0.1849 - acc: 0.949 - ETA: 1:31 - loss: 0.1838 - acc: 0.950 - ETA: 1:31 - loss: 0.1833 - acc: 0.950 - ETA: 1:30 - loss: 0.1823 - acc: 0.950 - ETA: 1:30 - loss: 0.1816 - acc: 0.951 - ETA: 1:30 - loss: 0.1802 - acc: 0.951 - ETA: 1:30 - loss: 0.1802 - acc: 0.951 - ETA: 1:29 - loss: 0.1807 - acc: 0.951 - ETA: 1:29 - loss: 0.1799 - acc: 0.951 - ETA: 1:29 - loss: 0.1800 - acc: 0.951 - ETA: 1:29 - loss: 0.1795 - acc: 0.951 - ETA: 1:28 - loss: 0.1789 - acc: 0.951 - ETA: 1:28 - loss: 0.1791 - acc: 0.951 - ETA: 1:28 - loss: 0.1791 - acc: 0.951 - ETA: 1:28 - loss: 0.1784 - acc: 0.952 - ETA: 1:28 - loss: 0.1775 - acc: 0.952 - ETA: 1:27 - loss: 0.1777 - acc: 0.952 - ETA: 1:27 - loss: 0.1778 - acc: 0.952 - ETA: 1:27 - loss: 0.1774 - acc: 0.952 - ETA: 1:27 - loss: 0.1780 - acc: 0.951 - ETA: 1:27 - loss: 0.1773 - acc: 0.952 - ETA: 1:26 - loss: 0.1767 - acc: 0.952 - ETA: 1:26 - loss: 0.1762 - acc: 0.952 - ETA: 1:26 - loss: 0.1758 - acc: 0.952 - ETA: 1:26 - loss: 0.1757 - acc: 0.952 - ETA: 1:26 - loss: 0.1756 - acc: 0.952 - ETA: 1:26 - loss: 0.1762 - acc: 0.952 - ETA: 1:25 - loss: 0.1761 - acc: 0.952 - ETA: 1:25 - loss: 0.1761 - acc: 0.952 - ETA: 1:25 - loss: 0.1757 - acc: 0.952 - ETA: 1:25 - loss: 0.1754 - acc: 0.952 - ETA: 1:25 - loss: 0.1745 - acc: 0.952 - ETA: 1:25 - loss: 0.1745 - acc: 0.952 - ETA: 1:25 - loss: 0.1741 - acc: 0.953 - ETA: 1:25 - loss: 0.1741 - acc: 0.953 - ETA: 1:24 - loss: 0.1739 - acc: 0.953 - ETA: 1:25 - loss: 0.1738 - acc: 0.953 - ETA: 1:25 - loss: 0.1739 - acc: 0.953 - ETA: 1:24 - loss: 0.1733 - acc: 0.953 - ETA: 1:24 - loss: 0.1731 - acc: 0.953 - ETA: 1:24 - loss: 0.1729 - acc: 0.953 - ETA: 1:24 - loss: 0.1716 - acc: 0.953 - ETA: 1:24 - loss: 0.1713 - acc: 0.953 - ETA: 1:24 - loss: 0.1709 - acc: 0.954 - ETA: 1:24 - loss: 0.1708 - acc: 0.954 - ETA: 1:24 - loss: 0.1705 - acc: 0.954 - ETA: 1:24 - loss: 0.1700 - acc: 0.954 - ETA: 1:24 - loss: 0.1695 - acc: 0.954 - ETA: 1:24 - loss: 0.1695 - acc: 0.954 - ETA: 1:24 - loss: 0.1690 - acc: 0.954 - ETA: 1:24 - loss: 0.1686 - acc: 0.954 - ETA: 1:24 - loss: 0.1677 - acc: 0.954 - ETA: 1:23 - loss: 0.1671 - acc: 0.955 - ETA: 1:23 - loss: 0.1671 - acc: 0.955 - ETA: 1:23 - loss: 0.1670 - acc: 0.955 - ETA: 1:23 - loss: 0.1674 - acc: 0.955 - ETA: 1:23 - loss: 0.1672 - acc: 0.955 - ETA: 1:23 - loss: 0.1669 - acc: 0.955 - ETA: 1:23 - loss: 0.1665 - acc: 0.955 - ETA: 1:23 - loss: 0.1662 - acc: 0.955 - ETA: 1:23 - loss: 0.1660 - acc: 0.955 - ETA: 1:23 - loss: 0.1655 - acc: 0.955 - ETA: 1:22 - loss: 0.1651 - acc: 0.955 - ETA: 1:22 - loss: 0.1649 - acc: 0.955 - ETA: 1:22 - loss: 0.1646 - acc: 0.955 - ETA: 1:22 - loss: 0.1647 - acc: 0.956 - ETA: 1:22 - loss: 0.1645 - acc: 0.956 - ETA: 1:22 - loss: 0.1642 - acc: 0.956 - ETA: 1:22 - loss: 0.1642 - acc: 0.956 - ETA: 1:22 - loss: 0.1643 - acc: 0.956 - ETA: 1:22 - loss: 0.1639 - acc: 0.956 - ETA: 1:22 - loss: 0.1634 - acc: 0.956 - ETA: 1:22 - loss: 0.1628 - acc: 0.956 - ETA: 1:21 - loss: 0.1632 - acc: 0.956 - ETA: 1:21 - loss: 0.1629 - acc: 0.956 - ETA: 1:21 - loss: 0.1624 - acc: 0.956 - ETA: 1:21 - loss: 0.1623 - acc: 0.956 - ETA: 1:21 - loss: 0.1623 - acc: 0.956 - ETA: 1:21 - loss: 0.1620 - acc: 0.956 - ETA: 1:21 - loss: 0.1617 - acc: 0.956 - ETA: 1:21 - loss: 0.1615 - acc: 0.956 - ETA: 1:20 - loss: 0.1609 - acc: 0.957 - ETA: 1:20 - loss: 0.1607 - acc: 0.957 - ETA: 1:20 - loss: 0.1603 - acc: 0.957 - ETA: 1:20 - loss: 0.1598 - acc: 0.957 - ETA: 1:20 - loss: 0.1593 - acc: 0.957 - ETA: 1:20 - loss: 0.1593 - acc: 0.957 - ETA: 1:20 - loss: 0.1591 - acc: 0.957 - ETA: 1:20 - loss: 0.1587 - acc: 0.957 - ETA: 1:20 - loss: 0.1588 - acc: 0.957 - ETA: 1:20 - loss: 0.1584 - acc: 0.957 - ETA: 1:20 - loss: 0.1582 - acc: 0.957 - ETA: 1:20 - loss: 0.1578 - acc: 0.958 - ETA: 1:20 - loss: 0.1580 - acc: 0.958 - ETA: 1:20 - loss: 0.1581 - acc: 0.958 - ETA: 1:20 - loss: 0.1577 - acc: 0.958 - ETA: 1:19 - loss: 0.1574 - acc: 0.958 - ETA: 1:19 - loss: 0.1571 - acc: 0.958 - ETA: 1:19 - loss: 0.1573 - acc: 0.958 - ETA: 1:19 - loss: 0.1575 - acc: 0.958 - ETA: 1:19 - loss: 0.1577 - acc: 0.958 - ETA: 1:19 - loss: 0.1576 - acc: 0.958 - ETA: 1:19 - loss: 0.1576 - acc: 0.958 - ETA: 1:19 - loss: 0.1573 - acc: 0.958 - ETA: 1:19 - loss: 0.1575 - acc: 0.958 - ETA: 1:19 - loss: 0.1574 - acc: 0.958 - ETA: 1:19 - loss: 0.1571 - acc: 0.958 - ETA: 1:19 - loss: 0.1570 - acc: 0.958 - ETA: 1:18 - loss: 0.1570 - acc: 0.958 - ETA: 1:18 - loss: 0.1568 - acc: 0.958 - ETA: 1:18 - loss: 0.1569 - acc: 0.958 - ETA: 1:18 - loss: 0.1569 - acc: 0.958 - ETA: 1:18 - loss: 0.1568 - acc: 0.958 - ETA: 1:18 - loss: 0.1566 - acc: 0.958 - ETA: 1:18 - loss: 0.1565 - acc: 0.958 - ETA: 1:18 - loss: 0.1564 - acc: 0.958 - ETA: 1:18 - loss: 0.1562 - acc: 0.958 - ETA: 1:18 - loss: 0.1558 - acc: 0.958 - ETA: 1:18 - loss: 0.1554 - acc: 0.958 - ETA: 1:18 - loss: 0.1550 - acc: 0.958 - ETA: 1:18 - loss: 0.1549 - acc: 0.958 - ETA: 1:18 - loss: 0.1546 - acc: 0.958 - ETA: 1:18 - loss: 0.1549 - acc: 0.958 - ETA: 1:18 - loss: 0.1548 - acc: 0.958 - ETA: 1:18 - loss: 0.1548 - acc: 0.958 - ETA: 1:18 - loss: 0.1548 - acc: 0.958 - ETA: 1:18 - loss: 0.1548 - acc: 0.958 - ETA: 1:18 - loss: 0.1545 - acc: 0.958 - ETA: 1:18 - loss: 0.1547 - acc: 0.958 35744/127656 [=======>......................] - ETA: 1:18 - loss: 0.1548 - acc: 0.958 - ETA: 1:18 - loss: 0.1544 - acc: 0.958 - ETA: 1:18 - loss: 0.1541 - acc: 0.959 - ETA: 1:18 - loss: 0.1539 - acc: 0.959 - ETA: 1:18 - loss: 0.1539 - acc: 0.959 - ETA: 1:18 - loss: 0.1538 - acc: 0.959 - ETA: 1:18 - loss: 0.1538 - acc: 0.959 - ETA: 1:18 - loss: 0.1537 - acc: 0.959 - ETA: 1:18 - loss: 0.1539 - acc: 0.959 - ETA: 1:17 - loss: 0.1537 - acc: 0.959 - ETA: 1:17 - loss: 0.1535 - acc: 0.959 - ETA: 1:17 - loss: 0.1534 - acc: 0.959 - ETA: 1:17 - loss: 0.1535 - acc: 0.959 - ETA: 1:17 - loss: 0.1534 - acc: 0.959 - ETA: 1:17 - loss: 0.1532 - acc: 0.959 - ETA: 1:17 - loss: 0.1529 - acc: 0.959 - ETA: 1:17 - loss: 0.1527 - acc: 0.959 - ETA: 1:17 - loss: 0.1528 - acc: 0.959 - ETA: 1:17 - loss: 0.1527 - acc: 0.959 - ETA: 1:17 - loss: 0.1529 - acc: 0.959 - ETA: 1:17 - loss: 0.1534 - acc: 0.959 - ETA: 1:17 - loss: 0.1532 - acc: 0.959 - ETA: 1:17 - loss: 0.1532 - acc: 0.959 - ETA: 1:17 - loss: 0.1530 - acc: 0.959 - ETA: 1:17 - loss: 0.1527 - acc: 0.959 - ETA: 1:17 - loss: 0.1527 - acc: 0.959 - ETA: 1:17 - loss: 0.1528 - acc: 0.959 - ETA: 1:17 - loss: 0.1529 - acc: 0.959 - ETA: 1:17 - loss: 0.1528 - acc: 0.959 - ETA: 1:17 - loss: 0.1529 - acc: 0.959 - ETA: 1:17 - loss: 0.1529 - acc: 0.959 - ETA: 1:17 - loss: 0.1530 - acc: 0.959 - ETA: 1:16 - loss: 0.1531 - acc: 0.959 - ETA: 1:16 - loss: 0.1529 - acc: 0.959 - ETA: 1:16 - loss: 0.1529 - acc: 0.959 - ETA: 1:16 - loss: 0.1531 - acc: 0.959 - ETA: 1:16 - loss: 0.1533 - acc: 0.959 - ETA: 1:16 - loss: 0.1531 - acc: 0.959 - ETA: 1:16 - loss: 0.1531 - acc: 0.959 - ETA: 1:16 - loss: 0.1529 - acc: 0.959 - ETA: 1:16 - loss: 0.1529 - acc: 0.959 - ETA: 1:16 - loss: 0.1528 - acc: 0.959 - ETA: 1:16 - loss: 0.1526 - acc: 0.959 - ETA: 1:15 - loss: 0.1526 - acc: 0.959 - ETA: 1:15 - loss: 0.1523 - acc: 0.959 - ETA: 1:15 - loss: 0.1521 - acc: 0.959 - ETA: 1:15 - loss: 0.1521 - acc: 0.959 - ETA: 1:15 - loss: 0.1519 - acc: 0.959 - ETA: 1:15 - loss: 0.1517 - acc: 0.959 - ETA: 1:15 - loss: 0.1516 - acc: 0.959 - ETA: 1:15 - loss: 0.1513 - acc: 0.959 - ETA: 1:15 - loss: 0.1516 - acc: 0.959 - ETA: 1:14 - loss: 0.1515 - acc: 0.959 - ETA: 1:14 - loss: 0.1512 - acc: 0.959 - ETA: 1:14 - loss: 0.1512 - acc: 0.959 - ETA: 1:14 - loss: 0.1511 - acc: 0.959 - ETA: 1:14 - loss: 0.1511 - acc: 0.959 - ETA: 1:14 - loss: 0.1511 - acc: 0.959 - ETA: 1:14 - loss: 0.1511 - acc: 0.959 - ETA: 1:14 - loss: 0.1514 - acc: 0.959 - ETA: 1:14 - loss: 0.1513 - acc: 0.959 - ETA: 1:13 - loss: 0.1514 - acc: 0.959 - ETA: 1:13 - loss: 0.1515 - acc: 0.959 - ETA: 1:13 - loss: 0.1513 - acc: 0.959 - ETA: 1:13 - loss: 0.1512 - acc: 0.959 - ETA: 1:13 - loss: 0.1511 - acc: 0.959 - ETA: 1:13 - loss: 0.1509 - acc: 0.959 - ETA: 1:13 - loss: 0.1508 - acc: 0.959 - ETA: 1:13 - loss: 0.1509 - acc: 0.959 - ETA: 1:13 - loss: 0.1507 - acc: 0.959 - ETA: 1:13 - loss: 0.1507 - acc: 0.959 - ETA: 1:13 - loss: 0.1506 - acc: 0.959 - ETA: 1:12 - loss: 0.1505 - acc: 0.959 - ETA: 1:12 - loss: 0.1506 - acc: 0.959 - ETA: 1:12 - loss: 0.1504 - acc: 0.959 - ETA: 1:12 - loss: 0.1503 - acc: 0.959 - ETA: 1:12 - loss: 0.1503 - acc: 0.959 - ETA: 1:12 - loss: 0.1503 - acc: 0.959 - ETA: 1:12 - loss: 0.1501 - acc: 0.959 - ETA: 1:12 - loss: 0.1501 - acc: 0.959 - ETA: 1:12 - loss: 0.1499 - acc: 0.959 - ETA: 1:12 - loss: 0.1499 - acc: 0.959 - ETA: 1:12 - loss: 0.1497 - acc: 0.959 - ETA: 1:11 - loss: 0.1498 - acc: 0.959 - ETA: 1:11 - loss: 0.1499 - acc: 0.959 - ETA: 1:11 - loss: 0.1500 - acc: 0.959 - ETA: 1:11 - loss: 0.1500 - acc: 0.959 - ETA: 1:11 - loss: 0.1500 - acc: 0.959 - ETA: 1:11 - loss: 0.1498 - acc: 0.959 - ETA: 1:11 - loss: 0.1498 - acc: 0.959 - ETA: 1:11 - loss: 0.1495 - acc: 0.959 - ETA: 1:11 - loss: 0.1495 - acc: 0.959 - ETA: 1:11 - loss: 0.1493 - acc: 0.960 - ETA: 1:11 - loss: 0.1492 - acc: 0.960 - ETA: 1:11 - loss: 0.1490 - acc: 0.960 - ETA: 1:11 - loss: 0.1493 - acc: 0.959 - ETA: 1:11 - loss: 0.1493 - acc: 0.959 - ETA: 1:11 - loss: 0.1492 - acc: 0.959 - ETA: 1:11 - loss: 0.1493 - acc: 0.959 - ETA: 1:11 - loss: 0.1492 - acc: 0.959 - ETA: 1:11 - loss: 0.1492 - acc: 0.960 - ETA: 1:11 - loss: 0.1492 - acc: 0.960 - ETA: 1:11 - loss: 0.1490 - acc: 0.960 - ETA: 1:10 - loss: 0.1492 - acc: 0.960 - ETA: 1:10 - loss: 0.1493 - acc: 0.959 - ETA: 1:10 - loss: 0.1493 - acc: 0.959 - ETA: 1:10 - loss: 0.1493 - acc: 0.959 - ETA: 1:10 - loss: 0.1494 - acc: 0.959 - ETA: 1:10 - loss: 0.1493 - acc: 0.959 - ETA: 1:10 - loss: 0.1491 - acc: 0.959 - ETA: 1:10 - loss: 0.1491 - acc: 0.959 - ETA: 1:10 - loss: 0.1491 - acc: 0.959 - ETA: 1:10 - loss: 0.1490 - acc: 0.959 - ETA: 1:10 - loss: 0.1488 - acc: 0.960 - ETA: 1:10 - loss: 0.1489 - acc: 0.960 - ETA: 1:10 - loss: 0.1491 - acc: 0.959 - ETA: 1:10 - loss: 0.1491 - acc: 0.959 - ETA: 1:10 - loss: 0.1490 - acc: 0.960 - ETA: 1:10 - loss: 0.1491 - acc: 0.959 - ETA: 1:10 - loss: 0.1492 - acc: 0.959 - ETA: 1:10 - loss: 0.1491 - acc: 0.959 - ETA: 1:10 - loss: 0.1491 - acc: 0.959 - ETA: 1:10 - loss: 0.1491 - acc: 0.959 - ETA: 1:10 - loss: 0.1490 - acc: 0.959 - ETA: 1:10 - loss: 0.1490 - acc: 0.959 - ETA: 1:10 - loss: 0.1489 - acc: 0.959 - ETA: 1:10 - loss: 0.1490 - acc: 0.959 - ETA: 1:10 - loss: 0.1489 - acc: 0.959 - ETA: 1:09 - loss: 0.1487 - acc: 0.960 - ETA: 1:09 - loss: 0.1486 - acc: 0.960 - ETA: 1:09 - loss: 0.1484 - acc: 0.960 - ETA: 1:09 - loss: 0.1485 - acc: 0.960 - ETA: 1:09 - loss: 0.1486 - acc: 0.960 - ETA: 1:09 - loss: 0.1485 - acc: 0.960 - ETA: 1:09 - loss: 0.1485 - acc: 0.960 - ETA: 1:09 - loss: 0.1484 - acc: 0.960 - ETA: 1:09 - loss: 0.1484 - acc: 0.960 - ETA: 1:09 - loss: 0.1483 - acc: 0.960 - ETA: 1:09 - loss: 0.1482 - acc: 0.960 - ETA: 1:09 - loss: 0.1482 - acc: 0.960 - ETA: 1:09 - loss: 0.1482 - acc: 0.960 - ETA: 1:09 - loss: 0.1482 - acc: 0.960 - ETA: 1:09 - loss: 0.1483 - acc: 0.960 - ETA: 1:08 - loss: 0.1482 - acc: 0.960 - ETA: 1:08 - loss: 0.1481 - acc: 0.960 - ETA: 1:08 - loss: 0.1481 - acc: 0.960 - ETA: 1:08 - loss: 0.1478 - acc: 0.960 - ETA: 1:08 - loss: 0.1479 - acc: 0.960 - ETA: 1:08 - loss: 0.1477 - acc: 0.960 - ETA: 1:08 - loss: 0.1477 - acc: 0.960 - ETA: 1:08 - loss: 0.1476 - acc: 0.960 - ETA: 1:08 - loss: 0.1475 - acc: 0.960 - ETA: 1:08 - loss: 0.1473 - acc: 0.960 - ETA: 1:08 - loss: 0.1473 - acc: 0.960 - ETA: 1:08 - loss: 0.1473 - acc: 0.960 - ETA: 1:08 - loss: 0.1473 - acc: 0.960 - ETA: 1:08 - loss: 0.1472 - acc: 0.960 - ETA: 1:08 - loss: 0.1471 - acc: 0.960 - ETA: 1:08 - loss: 0.1470 - acc: 0.960 - ETA: 1:08 - loss: 0.1471 - acc: 0.960 - ETA: 1:08 - loss: 0.1470 - acc: 0.960 - ETA: 1:07 - loss: 0.1471 - acc: 0.960 - ETA: 1:07 - loss: 0.1472 - acc: 0.960 - ETA: 1:07 - loss: 0.1472 - acc: 0.960 - ETA: 1:07 - loss: 0.1471 - acc: 0.960 - ETA: 1:07 - loss: 0.1469 - acc: 0.960 - ETA: 1:07 - loss: 0.1468 - acc: 0.960 - ETA: 1:07 - loss: 0.1467 - acc: 0.960 - ETA: 1:07 - loss: 0.1466 - acc: 0.960 - ETA: 1:07 - loss: 0.1467 - acc: 0.960 - ETA: 1:07 - loss: 0.1464 - acc: 0.960 - ETA: 1:07 - loss: 0.1462 - acc: 0.960 - ETA: 1:07 - loss: 0.1463 - acc: 0.960 - ETA: 1:07 - loss: 0.1463 - acc: 0.960 - ETA: 1:06 - loss: 0.1462 - acc: 0.960 - ETA: 1:06 - loss: 0.1463 - acc: 0.960 - ETA: 1:06 - loss: 0.1461 - acc: 0.960 - ETA: 1:06 - loss: 0.1460 - acc: 0.960 - ETA: 1:06 - loss: 0.1459 - acc: 0.960 - ETA: 1:06 - loss: 0.1459 - acc: 0.960 - ETA: 1:06 - loss: 0.1458 - acc: 0.960 - ETA: 1:06 - loss: 0.1458 - acc: 0.960 - ETA: 1:06 - loss: 0.1458 - acc: 0.960 - ETA: 1:06 - loss: 0.1456 - acc: 0.960 - ETA: 1:06 - loss: 0.1455 - acc: 0.960 - ETA: 1:06 - loss: 0.1455 - acc: 0.960 - ETA: 1:06 - loss: 0.1455 - acc: 0.960 - ETA: 1:06 - loss: 0.1455 - acc: 0.960 - ETA: 1:06 - loss: 0.1455 - acc: 0.960 - ETA: 1:06 - loss: 0.1454 - acc: 0.960 - ETA: 1:05 - loss: 0.1453 - acc: 0.960 - ETA: 1:05 - loss: 0.1452 - acc: 0.960 - ETA: 1:05 - loss: 0.1451 - acc: 0.960 - ETA: 1:05 - loss: 0.1451 - acc: 0.960 - ETA: 1:05 - loss: 0.1451 - acc: 0.960 - ETA: 1:05 - loss: 0.1451 - acc: 0.960 - ETA: 1:05 - loss: 0.1450 - acc: 0.960 - ETA: 1:05 - loss: 0.1449 - acc: 0.960 - ETA: 1:05 - loss: 0.1448 - acc: 0.960 - ETA: 1:05 - loss: 0.1448 - acc: 0.960 - ETA: 1:05 - loss: 0.1447 - acc: 0.960 - ETA: 1:05 - loss: 0.1447 - acc: 0.960 - ETA: 1:05 - loss: 0.1445 - acc: 0.960 - ETA: 1:05 - loss: 0.1443 - acc: 0.9608"
     ]
    },
    {
     "name": "stdout",
     "output_type": "stream",
     "text": [
      " 54208/127656 [===========>..................] - ETA: 1:05 - loss: 0.1442 - acc: 0.960 - ETA: 1:05 - loss: 0.1442 - acc: 0.960 - ETA: 1:05 - loss: 0.1442 - acc: 0.960 - ETA: 1:05 - loss: 0.1443 - acc: 0.960 - ETA: 1:05 - loss: 0.1444 - acc: 0.960 - ETA: 1:05 - loss: 0.1443 - acc: 0.960 - ETA: 1:05 - loss: 0.1442 - acc: 0.960 - ETA: 1:05 - loss: 0.1442 - acc: 0.960 - ETA: 1:05 - loss: 0.1441 - acc: 0.960 - ETA: 1:05 - loss: 0.1443 - acc: 0.960 - ETA: 1:05 - loss: 0.1441 - acc: 0.960 - ETA: 1:05 - loss: 0.1442 - acc: 0.960 - ETA: 1:05 - loss: 0.1441 - acc: 0.960 - ETA: 1:05 - loss: 0.1440 - acc: 0.960 - ETA: 1:05 - loss: 0.1439 - acc: 0.960 - ETA: 1:05 - loss: 0.1439 - acc: 0.960 - ETA: 1:05 - loss: 0.1437 - acc: 0.960 - ETA: 1:05 - loss: 0.1436 - acc: 0.961 - ETA: 1:04 - loss: 0.1435 - acc: 0.961 - ETA: 1:04 - loss: 0.1433 - acc: 0.961 - ETA: 1:04 - loss: 0.1434 - acc: 0.961 - ETA: 1:04 - loss: 0.1433 - acc: 0.961 - ETA: 1:04 - loss: 0.1432 - acc: 0.961 - ETA: 1:04 - loss: 0.1431 - acc: 0.961 - ETA: 1:04 - loss: 0.1430 - acc: 0.961 - ETA: 1:04 - loss: 0.1429 - acc: 0.961 - ETA: 1:04 - loss: 0.1427 - acc: 0.961 - ETA: 1:04 - loss: 0.1428 - acc: 0.961 - ETA: 1:04 - loss: 0.1427 - acc: 0.961 - ETA: 1:04 - loss: 0.1425 - acc: 0.961 - ETA: 1:04 - loss: 0.1424 - acc: 0.961 - ETA: 1:03 - loss: 0.1425 - acc: 0.961 - ETA: 1:03 - loss: 0.1425 - acc: 0.961 - ETA: 1:03 - loss: 0.1425 - acc: 0.961 - ETA: 1:03 - loss: 0.1425 - acc: 0.961 - ETA: 1:03 - loss: 0.1425 - acc: 0.961 - ETA: 1:03 - loss: 0.1424 - acc: 0.961 - ETA: 1:03 - loss: 0.1424 - acc: 0.961 - ETA: 1:03 - loss: 0.1422 - acc: 0.961 - ETA: 1:03 - loss: 0.1423 - acc: 0.961 - ETA: 1:03 - loss: 0.1422 - acc: 0.961 - ETA: 1:03 - loss: 0.1424 - acc: 0.961 - ETA: 1:03 - loss: 0.1423 - acc: 0.961 - ETA: 1:03 - loss: 0.1421 - acc: 0.961 - ETA: 1:03 - loss: 0.1421 - acc: 0.961 - ETA: 1:02 - loss: 0.1420 - acc: 0.961 - ETA: 1:02 - loss: 0.1420 - acc: 0.961 - ETA: 1:02 - loss: 0.1419 - acc: 0.961 - ETA: 1:02 - loss: 0.1419 - acc: 0.961 - ETA: 1:02 - loss: 0.1420 - acc: 0.961 - ETA: 1:02 - loss: 0.1419 - acc: 0.961 - ETA: 1:02 - loss: 0.1419 - acc: 0.961 - ETA: 1:02 - loss: 0.1419 - acc: 0.961 - ETA: 1:02 - loss: 0.1419 - acc: 0.961 - ETA: 1:02 - loss: 0.1418 - acc: 0.961 - ETA: 1:02 - loss: 0.1417 - acc: 0.961 - ETA: 1:02 - loss: 0.1415 - acc: 0.961 - ETA: 1:02 - loss: 0.1416 - acc: 0.961 - ETA: 1:02 - loss: 0.1416 - acc: 0.961 - ETA: 1:01 - loss: 0.1414 - acc: 0.961 - ETA: 1:01 - loss: 0.1412 - acc: 0.961 - ETA: 1:01 - loss: 0.1412 - acc: 0.961 - ETA: 1:01 - loss: 0.1410 - acc: 0.961 - ETA: 1:01 - loss: 0.1409 - acc: 0.961 - ETA: 1:01 - loss: 0.1410 - acc: 0.961 - ETA: 1:01 - loss: 0.1410 - acc: 0.961 - ETA: 1:01 - loss: 0.1410 - acc: 0.961 - ETA: 1:01 - loss: 0.1409 - acc: 0.961 - ETA: 1:01 - loss: 0.1409 - acc: 0.961 - ETA: 1:01 - loss: 0.1410 - acc: 0.961 - ETA: 1:01 - loss: 0.1410 - acc: 0.961 - ETA: 1:01 - loss: 0.1408 - acc: 0.961 - ETA: 1:01 - loss: 0.1408 - acc: 0.961 - ETA: 1:01 - loss: 0.1408 - acc: 0.961 - ETA: 1:01 - loss: 0.1407 - acc: 0.961 - ETA: 1:01 - loss: 0.1407 - acc: 0.961 - ETA: 1:01 - loss: 0.1407 - acc: 0.961 - ETA: 1:01 - loss: 0.1407 - acc: 0.961 - ETA: 1:01 - loss: 0.1407 - acc: 0.961 - ETA: 1:01 - loss: 0.1407 - acc: 0.961 - ETA: 1:01 - loss: 0.1406 - acc: 0.961 - ETA: 1:01 - loss: 0.1404 - acc: 0.961 - ETA: 1:01 - loss: 0.1403 - acc: 0.961 - ETA: 1:01 - loss: 0.1404 - acc: 0.961 - ETA: 1:01 - loss: 0.1403 - acc: 0.961 - ETA: 1:01 - loss: 0.1402 - acc: 0.961 - ETA: 1:01 - loss: 0.1401 - acc: 0.961 - ETA: 1:01 - loss: 0.1401 - acc: 0.961 - ETA: 1:00 - loss: 0.1400 - acc: 0.961 - ETA: 1:00 - loss: 0.1400 - acc: 0.961 - ETA: 1:00 - loss: 0.1401 - acc: 0.961 - ETA: 1:00 - loss: 0.1401 - acc: 0.961 - ETA: 1:00 - loss: 0.1400 - acc: 0.961 - ETA: 1:00 - loss: 0.1399 - acc: 0.961 - ETA: 1:00 - loss: 0.1398 - acc: 0.961 - ETA: 1:00 - loss: 0.1398 - acc: 0.961 - ETA: 1:00 - loss: 0.1398 - acc: 0.961 - ETA: 1:00 - loss: 0.1397 - acc: 0.961 - ETA: 1:00 - loss: 0.1396 - acc: 0.961 - ETA: 1:00 - loss: 0.1395 - acc: 0.961 - ETA: 59s - loss: 0.1395 - acc: 0.961 - ETA: 59s - loss: 0.1394 - acc: 0.96 - ETA: 59s - loss: 0.1393 - acc: 0.96 - ETA: 59s - loss: 0.1392 - acc: 0.96 - ETA: 59s - loss: 0.1392 - acc: 0.96 - ETA: 59s - loss: 0.1391 - acc: 0.96 - ETA: 59s - loss: 0.1390 - acc: 0.96 - ETA: 59s - loss: 0.1391 - acc: 0.96 - ETA: 59s - loss: 0.1390 - acc: 0.96 - ETA: 59s - loss: 0.1389 - acc: 0.96 - ETA: 59s - loss: 0.1388 - acc: 0.96 - ETA: 59s - loss: 0.1390 - acc: 0.96 - ETA: 59s - loss: 0.1389 - acc: 0.96 - ETA: 59s - loss: 0.1389 - acc: 0.96 - ETA: 59s - loss: 0.1388 - acc: 0.96 - ETA: 58s - loss: 0.1386 - acc: 0.96 - ETA: 58s - loss: 0.1387 - acc: 0.96 - ETA: 58s - loss: 0.1386 - acc: 0.96 - ETA: 58s - loss: 0.1386 - acc: 0.96 - ETA: 58s - loss: 0.1385 - acc: 0.96 - ETA: 58s - loss: 0.1385 - acc: 0.96 - ETA: 58s - loss: 0.1385 - acc: 0.96 - ETA: 58s - loss: 0.1384 - acc: 0.96 - ETA: 58s - loss: 0.1383 - acc: 0.96 - ETA: 58s - loss: 0.1382 - acc: 0.96 - ETA: 58s - loss: 0.1382 - acc: 0.96 - ETA: 58s - loss: 0.1381 - acc: 0.96 - ETA: 58s - loss: 0.1380 - acc: 0.96 - ETA: 58s - loss: 0.1379 - acc: 0.96 - ETA: 58s - loss: 0.1379 - acc: 0.96 - ETA: 57s - loss: 0.1380 - acc: 0.96 - ETA: 57s - loss: 0.1380 - acc: 0.96 - ETA: 57s - loss: 0.1379 - acc: 0.96 - ETA: 57s - loss: 0.1380 - acc: 0.96 - ETA: 57s - loss: 0.1379 - acc: 0.96 - ETA: 57s - loss: 0.1377 - acc: 0.96 - ETA: 57s - loss: 0.1377 - acc: 0.96 - ETA: 57s - loss: 0.1377 - acc: 0.96 - ETA: 57s - loss: 0.1378 - acc: 0.96 - ETA: 57s - loss: 0.1378 - acc: 0.96 - ETA: 57s - loss: 0.1378 - acc: 0.96 - ETA: 57s - loss: 0.1377 - acc: 0.96 - ETA: 57s - loss: 0.1377 - acc: 0.96 - ETA: 57s - loss: 0.1376 - acc: 0.96 - ETA: 57s - loss: 0.1376 - acc: 0.96 - ETA: 57s - loss: 0.1376 - acc: 0.96 - ETA: 56s - loss: 0.1376 - acc: 0.96 - ETA: 56s - loss: 0.1375 - acc: 0.96 - ETA: 56s - loss: 0.1376 - acc: 0.96 - ETA: 56s - loss: 0.1376 - acc: 0.96 - ETA: 56s - loss: 0.1376 - acc: 0.96 - ETA: 56s - loss: 0.1375 - acc: 0.96 - ETA: 56s - loss: 0.1374 - acc: 0.96 - ETA: 56s - loss: 0.1374 - acc: 0.96 - ETA: 56s - loss: 0.1373 - acc: 0.96 - ETA: 56s - loss: 0.1372 - acc: 0.96 - ETA: 56s - loss: 0.1373 - acc: 0.96 - ETA: 56s - loss: 0.1372 - acc: 0.96 - ETA: 56s - loss: 0.1371 - acc: 0.96 - ETA: 55s - loss: 0.1371 - acc: 0.96 - ETA: 55s - loss: 0.1371 - acc: 0.96 - ETA: 55s - loss: 0.1370 - acc: 0.96 - ETA: 55s - loss: 0.1369 - acc: 0.96 - ETA: 55s - loss: 0.1369 - acc: 0.96 - ETA: 55s - loss: 0.1370 - acc: 0.96 - ETA: 55s - loss: 0.1371 - acc: 0.96 - ETA: 55s - loss: 0.1370 - acc: 0.96 - ETA: 55s - loss: 0.1370 - acc: 0.96 - ETA: 55s - loss: 0.1369 - acc: 0.96 - ETA: 55s - loss: 0.1368 - acc: 0.96 - ETA: 55s - loss: 0.1367 - acc: 0.96 - ETA: 55s - loss: 0.1367 - acc: 0.96 - ETA: 54s - loss: 0.1367 - acc: 0.96 - ETA: 54s - loss: 0.1368 - acc: 0.96 - ETA: 54s - loss: 0.1367 - acc: 0.96 - ETA: 54s - loss: 0.1366 - acc: 0.96 - ETA: 54s - loss: 0.1364 - acc: 0.96 - ETA: 54s - loss: 0.1363 - acc: 0.96 - ETA: 54s - loss: 0.1362 - acc: 0.96 - ETA: 54s - loss: 0.1361 - acc: 0.96 - ETA: 54s - loss: 0.1361 - acc: 0.96 - ETA: 54s - loss: 0.1361 - acc: 0.96 - ETA: 54s - loss: 0.1361 - acc: 0.96 - ETA: 54s - loss: 0.1360 - acc: 0.96 - ETA: 54s - loss: 0.1360 - acc: 0.96 - ETA: 53s - loss: 0.1359 - acc: 0.96 - ETA: 53s - loss: 0.1359 - acc: 0.96 - ETA: 53s - loss: 0.1358 - acc: 0.96 - ETA: 53s - loss: 0.1358 - acc: 0.96 - ETA: 53s - loss: 0.1358 - acc: 0.96 - ETA: 53s - loss: 0.1358 - acc: 0.96 - ETA: 53s - loss: 0.1358 - acc: 0.96 - ETA: 53s - loss: 0.1358 - acc: 0.96 - ETA: 53s - loss: 0.1358 - acc: 0.96 - ETA: 53s - loss: 0.1357 - acc: 0.96 - ETA: 53s - loss: 0.1357 - acc: 0.96 - ETA: 53s - loss: 0.1356 - acc: 0.96 - ETA: 53s - loss: 0.1355 - acc: 0.96 - ETA: 52s - loss: 0.1355 - acc: 0.96 - ETA: 52s - loss: 0.1355 - acc: 0.96 - ETA: 52s - loss: 0.1355 - acc: 0.96 - ETA: 52s - loss: 0.1354 - acc: 0.96 - ETA: 52s - loss: 0.1353 - acc: 0.96 - ETA: 52s - loss: 0.1353 - acc: 0.96 - ETA: 52s - loss: 0.1352 - acc: 0.96 - ETA: 52s - loss: 0.1351 - acc: 0.96 - ETA: 52s - loss: 0.1350 - acc: 0.96 - ETA: 52s - loss: 0.1350 - acc: 0.96 - ETA: 52s - loss: 0.1350 - acc: 0.96 - ETA: 52s - loss: 0.1349 - acc: 0.9624"
     ]
    },
    {
     "name": "stdout",
     "output_type": "stream",
     "text": [
      " 74400/127656 [================>.............] - ETA: 52s - loss: 0.1349 - acc: 0.96 - ETA: 51s - loss: 0.1348 - acc: 0.96 - ETA: 51s - loss: 0.1348 - acc: 0.96 - ETA: 51s - loss: 0.1348 - acc: 0.96 - ETA: 51s - loss: 0.1348 - acc: 0.96 - ETA: 51s - loss: 0.1347 - acc: 0.96 - ETA: 51s - loss: 0.1346 - acc: 0.96 - ETA: 51s - loss: 0.1345 - acc: 0.96 - ETA: 51s - loss: 0.1344 - acc: 0.96 - ETA: 51s - loss: 0.1344 - acc: 0.96 - ETA: 51s - loss: 0.1343 - acc: 0.96 - ETA: 51s - loss: 0.1342 - acc: 0.96 - ETA: 51s - loss: 0.1342 - acc: 0.96 - ETA: 51s - loss: 0.1341 - acc: 0.96 - ETA: 51s - loss: 0.1340 - acc: 0.96 - ETA: 50s - loss: 0.1340 - acc: 0.96 - ETA: 50s - loss: 0.1341 - acc: 0.96 - ETA: 50s - loss: 0.1340 - acc: 0.96 - ETA: 50s - loss: 0.1339 - acc: 0.96 - ETA: 50s - loss: 0.1338 - acc: 0.96 - ETA: 50s - loss: 0.1338 - acc: 0.96 - ETA: 50s - loss: 0.1339 - acc: 0.96 - ETA: 50s - loss: 0.1338 - acc: 0.96 - ETA: 50s - loss: 0.1337 - acc: 0.96 - ETA: 50s - loss: 0.1337 - acc: 0.96 - ETA: 50s - loss: 0.1336 - acc: 0.96 - ETA: 50s - loss: 0.1336 - acc: 0.96 - ETA: 49s - loss: 0.1336 - acc: 0.96 - ETA: 49s - loss: 0.1335 - acc: 0.96 - ETA: 49s - loss: 0.1334 - acc: 0.96 - ETA: 49s - loss: 0.1335 - acc: 0.96 - ETA: 49s - loss: 0.1334 - acc: 0.96 - ETA: 49s - loss: 0.1333 - acc: 0.96 - ETA: 49s - loss: 0.1334 - acc: 0.96 - ETA: 49s - loss: 0.1333 - acc: 0.96 - ETA: 49s - loss: 0.1333 - acc: 0.96 - ETA: 49s - loss: 0.1332 - acc: 0.96 - ETA: 49s - loss: 0.1331 - acc: 0.96 - ETA: 49s - loss: 0.1331 - acc: 0.96 - ETA: 49s - loss: 0.1331 - acc: 0.96 - ETA: 49s - loss: 0.1331 - acc: 0.96 - ETA: 48s - loss: 0.1331 - acc: 0.96 - ETA: 48s - loss: 0.1331 - acc: 0.96 - ETA: 48s - loss: 0.1330 - acc: 0.96 - ETA: 48s - loss: 0.1330 - acc: 0.96 - ETA: 48s - loss: 0.1330 - acc: 0.96 - ETA: 48s - loss: 0.1330 - acc: 0.96 - ETA: 48s - loss: 0.1331 - acc: 0.96 - ETA: 48s - loss: 0.1330 - acc: 0.96 - ETA: 48s - loss: 0.1329 - acc: 0.96 - ETA: 48s - loss: 0.1328 - acc: 0.96 - ETA: 48s - loss: 0.1328 - acc: 0.96 - ETA: 48s - loss: 0.1327 - acc: 0.96 - ETA: 48s - loss: 0.1327 - acc: 0.96 - ETA: 48s - loss: 0.1326 - acc: 0.96 - ETA: 47s - loss: 0.1327 - acc: 0.96 - ETA: 47s - loss: 0.1326 - acc: 0.96 - ETA: 47s - loss: 0.1326 - acc: 0.96 - ETA: 47s - loss: 0.1326 - acc: 0.96 - ETA: 47s - loss: 0.1325 - acc: 0.96 - ETA: 47s - loss: 0.1324 - acc: 0.96 - ETA: 47s - loss: 0.1323 - acc: 0.96 - ETA: 47s - loss: 0.1324 - acc: 0.96 - ETA: 47s - loss: 0.1323 - acc: 0.96 - ETA: 47s - loss: 0.1323 - acc: 0.96 - ETA: 47s - loss: 0.1322 - acc: 0.96 - ETA: 47s - loss: 0.1321 - acc: 0.96 - ETA: 47s - loss: 0.1322 - acc: 0.96 - ETA: 46s - loss: 0.1321 - acc: 0.96 - ETA: 46s - loss: 0.1321 - acc: 0.96 - ETA: 46s - loss: 0.1319 - acc: 0.96 - ETA: 46s - loss: 0.1319 - acc: 0.96 - ETA: 46s - loss: 0.1319 - acc: 0.96 - ETA: 46s - loss: 0.1319 - acc: 0.96 - ETA: 46s - loss: 0.1319 - acc: 0.96 - ETA: 46s - loss: 0.1319 - acc: 0.96 - ETA: 46s - loss: 0.1318 - acc: 0.96 - ETA: 46s - loss: 0.1319 - acc: 0.96 - ETA: 46s - loss: 0.1319 - acc: 0.96 - ETA: 46s - loss: 0.1318 - acc: 0.96 - ETA: 46s - loss: 0.1318 - acc: 0.96 - ETA: 46s - loss: 0.1317 - acc: 0.96 - ETA: 45s - loss: 0.1317 - acc: 0.96 - ETA: 45s - loss: 0.1316 - acc: 0.96 - ETA: 45s - loss: 0.1316 - acc: 0.96 - ETA: 45s - loss: 0.1315 - acc: 0.96 - ETA: 45s - loss: 0.1314 - acc: 0.96 - ETA: 45s - loss: 0.1315 - acc: 0.96 - ETA: 45s - loss: 0.1314 - acc: 0.96 - ETA: 45s - loss: 0.1313 - acc: 0.96 - ETA: 45s - loss: 0.1312 - acc: 0.96 - ETA: 45s - loss: 0.1312 - acc: 0.96 - ETA: 45s - loss: 0.1312 - acc: 0.96 - ETA: 45s - loss: 0.1312 - acc: 0.96 - ETA: 45s - loss: 0.1312 - acc: 0.96 - ETA: 45s - loss: 0.1311 - acc: 0.96 - ETA: 44s - loss: 0.1312 - acc: 0.96 - ETA: 44s - loss: 0.1311 - acc: 0.96 - ETA: 44s - loss: 0.1311 - acc: 0.96 - ETA: 44s - loss: 0.1310 - acc: 0.96 - ETA: 44s - loss: 0.1310 - acc: 0.96 - ETA: 44s - loss: 0.1310 - acc: 0.96 - ETA: 44s - loss: 0.1311 - acc: 0.96 - ETA: 44s - loss: 0.1310 - acc: 0.96 - ETA: 44s - loss: 0.1309 - acc: 0.96 - ETA: 44s - loss: 0.1309 - acc: 0.96 - ETA: 44s - loss: 0.1309 - acc: 0.96 - ETA: 44s - loss: 0.1309 - acc: 0.96 - ETA: 44s - loss: 0.1309 - acc: 0.96 - ETA: 44s - loss: 0.1309 - acc: 0.96 - ETA: 43s - loss: 0.1309 - acc: 0.96 - ETA: 43s - loss: 0.1308 - acc: 0.96 - ETA: 43s - loss: 0.1308 - acc: 0.96 - ETA: 43s - loss: 0.1307 - acc: 0.96 - ETA: 43s - loss: 0.1307 - acc: 0.96 - ETA: 43s - loss: 0.1306 - acc: 0.96 - ETA: 43s - loss: 0.1306 - acc: 0.96 - ETA: 43s - loss: 0.1306 - acc: 0.96 - ETA: 43s - loss: 0.1306 - acc: 0.96 - ETA: 43s - loss: 0.1306 - acc: 0.96 - ETA: 43s - loss: 0.1304 - acc: 0.96 - ETA: 43s - loss: 0.1305 - acc: 0.96 - ETA: 43s - loss: 0.1305 - acc: 0.96 - ETA: 43s - loss: 0.1305 - acc: 0.96 - ETA: 43s - loss: 0.1305 - acc: 0.96 - ETA: 42s - loss: 0.1306 - acc: 0.96 - ETA: 42s - loss: 0.1305 - acc: 0.96 - ETA: 42s - loss: 0.1306 - acc: 0.96 - ETA: 42s - loss: 0.1306 - acc: 0.96 - ETA: 42s - loss: 0.1305 - acc: 0.96 - ETA: 42s - loss: 0.1305 - acc: 0.96 - ETA: 42s - loss: 0.1304 - acc: 0.96 - ETA: 42s - loss: 0.1304 - acc: 0.96 - ETA: 42s - loss: 0.1305 - acc: 0.96 - ETA: 42s - loss: 0.1304 - acc: 0.96 - ETA: 42s - loss: 0.1303 - acc: 0.96 - ETA: 42s - loss: 0.1303 - acc: 0.96 - ETA: 42s - loss: 0.1302 - acc: 0.96 - ETA: 41s - loss: 0.1302 - acc: 0.96 - ETA: 41s - loss: 0.1301 - acc: 0.96 - ETA: 41s - loss: 0.1301 - acc: 0.96 - ETA: 41s - loss: 0.1301 - acc: 0.96 - ETA: 41s - loss: 0.1300 - acc: 0.96 - ETA: 41s - loss: 0.1299 - acc: 0.96 - ETA: 41s - loss: 0.1298 - acc: 0.96 - ETA: 41s - loss: 0.1298 - acc: 0.96 - ETA: 41s - loss: 0.1298 - acc: 0.96 - ETA: 41s - loss: 0.1298 - acc: 0.96 - ETA: 41s - loss: 0.1298 - acc: 0.96 - ETA: 41s - loss: 0.1297 - acc: 0.96 - ETA: 41s - loss: 0.1297 - acc: 0.96 - ETA: 41s - loss: 0.1297 - acc: 0.96 - ETA: 40s - loss: 0.1296 - acc: 0.96 - ETA: 40s - loss: 0.1295 - acc: 0.96 - ETA: 40s - loss: 0.1295 - acc: 0.96 - ETA: 40s - loss: 0.1294 - acc: 0.96 - ETA: 40s - loss: 0.1294 - acc: 0.96 - ETA: 40s - loss: 0.1293 - acc: 0.96 - ETA: 40s - loss: 0.1292 - acc: 0.96 - ETA: 40s - loss: 0.1291 - acc: 0.96 - ETA: 40s - loss: 0.1291 - acc: 0.96 - ETA: 40s - loss: 0.1290 - acc: 0.96 - ETA: 40s - loss: 0.1289 - acc: 0.96 - ETA: 40s - loss: 0.1289 - acc: 0.96 - ETA: 40s - loss: 0.1288 - acc: 0.96 - ETA: 40s - loss: 0.1288 - acc: 0.96 - ETA: 40s - loss: 0.1288 - acc: 0.96 - ETA: 40s - loss: 0.1288 - acc: 0.96 - ETA: 39s - loss: 0.1288 - acc: 0.96 - ETA: 39s - loss: 0.1287 - acc: 0.96 - ETA: 39s - loss: 0.1287 - acc: 0.96 - ETA: 39s - loss: 0.1286 - acc: 0.96 - ETA: 39s - loss: 0.1286 - acc: 0.96 - ETA: 39s - loss: 0.1286 - acc: 0.96 - ETA: 39s - loss: 0.1285 - acc: 0.96 - ETA: 39s - loss: 0.1284 - acc: 0.96 - ETA: 39s - loss: 0.1283 - acc: 0.96 - ETA: 39s - loss: 0.1283 - acc: 0.96 - ETA: 39s - loss: 0.1281 - acc: 0.96 - ETA: 39s - loss: 0.1281 - acc: 0.96 - ETA: 39s - loss: 0.1280 - acc: 0.96 - ETA: 39s - loss: 0.1279 - acc: 0.96 - ETA: 38s - loss: 0.1279 - acc: 0.96 - ETA: 38s - loss: 0.1279 - acc: 0.96 - ETA: 38s - loss: 0.1279 - acc: 0.96 - ETA: 38s - loss: 0.1278 - acc: 0.96 - ETA: 38s - loss: 0.1278 - acc: 0.96 - ETA: 38s - loss: 0.1277 - acc: 0.96 - ETA: 38s - loss: 0.1276 - acc: 0.96 - ETA: 38s - loss: 0.1275 - acc: 0.96 - ETA: 38s - loss: 0.1275 - acc: 0.96 - ETA: 38s - loss: 0.1274 - acc: 0.96 - ETA: 38s - loss: 0.1274 - acc: 0.96 - ETA: 38s - loss: 0.1274 - acc: 0.96 - ETA: 38s - loss: 0.1273 - acc: 0.96 - ETA: 38s - loss: 0.1273 - acc: 0.96 - ETA: 37s - loss: 0.1272 - acc: 0.96 - ETA: 37s - loss: 0.1271 - acc: 0.96 - ETA: 37s - loss: 0.1271 - acc: 0.96 - ETA: 37s - loss: 0.1271 - acc: 0.96 - ETA: 37s - loss: 0.1270 - acc: 0.96 - ETA: 37s - loss: 0.1269 - acc: 0.96 - ETA: 37s - loss: 0.1268 - acc: 0.96 - ETA: 37s - loss: 0.1268 - acc: 0.96 - ETA: 37s - loss: 0.1267 - acc: 0.96 - ETA: 37s - loss: 0.1267 - acc: 0.96 - ETA: 37s - loss: 0.1267 - acc: 0.96 - ETA: 37s - loss: 0.1266 - acc: 0.96 - ETA: 37s - loss: 0.1265 - acc: 0.96 - ETA: 37s - loss: 0.1265 - acc: 0.96 - ETA: 36s - loss: 0.1264 - acc: 0.96 - ETA: 36s - loss: 0.1264 - acc: 0.96 - ETA: 36s - loss: 0.1264 - acc: 0.96 - ETA: 36s - loss: 0.1264 - acc: 0.96 - ETA: 36s - loss: 0.1264 - acc: 0.9640"
     ]
    },
    {
     "name": "stdout",
     "output_type": "stream",
     "text": [
      " 94368/127656 [=====================>........] - ETA: 36s - loss: 0.1264 - acc: 0.96 - ETA: 36s - loss: 0.1264 - acc: 0.96 - ETA: 36s - loss: 0.1264 - acc: 0.96 - ETA: 36s - loss: 0.1263 - acc: 0.96 - ETA: 36s - loss: 0.1263 - acc: 0.96 - ETA: 36s - loss: 0.1263 - acc: 0.96 - ETA: 36s - loss: 0.1263 - acc: 0.96 - ETA: 36s - loss: 0.1262 - acc: 0.96 - ETA: 36s - loss: 0.1262 - acc: 0.96 - ETA: 36s - loss: 0.1261 - acc: 0.96 - ETA: 35s - loss: 0.1260 - acc: 0.96 - ETA: 35s - loss: 0.1261 - acc: 0.96 - ETA: 35s - loss: 0.1261 - acc: 0.96 - ETA: 35s - loss: 0.1261 - acc: 0.96 - ETA: 35s - loss: 0.1260 - acc: 0.96 - ETA: 35s - loss: 0.1260 - acc: 0.96 - ETA: 35s - loss: 0.1259 - acc: 0.96 - ETA: 35s - loss: 0.1259 - acc: 0.96 - ETA: 35s - loss: 0.1258 - acc: 0.96 - ETA: 35s - loss: 0.1258 - acc: 0.96 - ETA: 35s - loss: 0.1258 - acc: 0.96 - ETA: 35s - loss: 0.1257 - acc: 0.96 - ETA: 35s - loss: 0.1257 - acc: 0.96 - ETA: 35s - loss: 0.1256 - acc: 0.96 - ETA: 35s - loss: 0.1256 - acc: 0.96 - ETA: 35s - loss: 0.1255 - acc: 0.96 - ETA: 34s - loss: 0.1255 - acc: 0.96 - ETA: 34s - loss: 0.1255 - acc: 0.96 - ETA: 34s - loss: 0.1255 - acc: 0.96 - ETA: 34s - loss: 0.1255 - acc: 0.96 - ETA: 34s - loss: 0.1254 - acc: 0.96 - ETA: 34s - loss: 0.1254 - acc: 0.96 - ETA: 34s - loss: 0.1253 - acc: 0.96 - ETA: 34s - loss: 0.1252 - acc: 0.96 - ETA: 34s - loss: 0.1252 - acc: 0.96 - ETA: 34s - loss: 0.1252 - acc: 0.96 - ETA: 34s - loss: 0.1252 - acc: 0.96 - ETA: 34s - loss: 0.1251 - acc: 0.96 - ETA: 34s - loss: 0.1251 - acc: 0.96 - ETA: 34s - loss: 0.1250 - acc: 0.96 - ETA: 34s - loss: 0.1250 - acc: 0.96 - ETA: 34s - loss: 0.1249 - acc: 0.96 - ETA: 34s - loss: 0.1249 - acc: 0.96 - ETA: 33s - loss: 0.1249 - acc: 0.96 - ETA: 33s - loss: 0.1248 - acc: 0.96 - ETA: 33s - loss: 0.1248 - acc: 0.96 - ETA: 33s - loss: 0.1247 - acc: 0.96 - ETA: 33s - loss: 0.1247 - acc: 0.96 - ETA: 33s - loss: 0.1246 - acc: 0.96 - ETA: 33s - loss: 0.1246 - acc: 0.96 - ETA: 33s - loss: 0.1245 - acc: 0.96 - ETA: 33s - loss: 0.1244 - acc: 0.96 - ETA: 33s - loss: 0.1244 - acc: 0.96 - ETA: 33s - loss: 0.1243 - acc: 0.96 - ETA: 33s - loss: 0.1243 - acc: 0.96 - ETA: 33s - loss: 0.1242 - acc: 0.96 - ETA: 33s - loss: 0.1242 - acc: 0.96 - ETA: 32s - loss: 0.1242 - acc: 0.96 - ETA: 32s - loss: 0.1241 - acc: 0.96 - ETA: 32s - loss: 0.1241 - acc: 0.96 - ETA: 32s - loss: 0.1241 - acc: 0.96 - ETA: 32s - loss: 0.1240 - acc: 0.96 - ETA: 32s - loss: 0.1240 - acc: 0.96 - ETA: 32s - loss: 0.1239 - acc: 0.96 - ETA: 32s - loss: 0.1239 - acc: 0.96 - ETA: 32s - loss: 0.1238 - acc: 0.96 - ETA: 32s - loss: 0.1237 - acc: 0.96 - ETA: 32s - loss: 0.1236 - acc: 0.96 - ETA: 32s - loss: 0.1236 - acc: 0.96 - ETA: 32s - loss: 0.1235 - acc: 0.96 - ETA: 32s - loss: 0.1235 - acc: 0.96 - ETA: 32s - loss: 0.1235 - acc: 0.96 - ETA: 32s - loss: 0.1234 - acc: 0.96 - ETA: 31s - loss: 0.1233 - acc: 0.96 - ETA: 31s - loss: 0.1233 - acc: 0.96 - ETA: 31s - loss: 0.1233 - acc: 0.96 - ETA: 31s - loss: 0.1233 - acc: 0.96 - ETA: 31s - loss: 0.1232 - acc: 0.96 - ETA: 31s - loss: 0.1232 - acc: 0.96 - ETA: 31s - loss: 0.1231 - acc: 0.96 - ETA: 31s - loss: 0.1231 - acc: 0.96 - ETA: 31s - loss: 0.1230 - acc: 0.96 - ETA: 31s - loss: 0.1230 - acc: 0.96 - ETA: 31s - loss: 0.1230 - acc: 0.96 - ETA: 31s - loss: 0.1229 - acc: 0.96 - ETA: 31s - loss: 0.1228 - acc: 0.96 - ETA: 31s - loss: 0.1228 - acc: 0.96 - ETA: 30s - loss: 0.1226 - acc: 0.96 - ETA: 30s - loss: 0.1227 - acc: 0.96 - ETA: 30s - loss: 0.1226 - acc: 0.96 - ETA: 30s - loss: 0.1226 - acc: 0.96 - ETA: 30s - loss: 0.1225 - acc: 0.96 - ETA: 30s - loss: 0.1224 - acc: 0.96 - ETA: 30s - loss: 0.1224 - acc: 0.96 - ETA: 30s - loss: 0.1224 - acc: 0.96 - ETA: 30s - loss: 0.1223 - acc: 0.96 - ETA: 30s - loss: 0.1222 - acc: 0.96 - ETA: 30s - loss: 0.1222 - acc: 0.96 - ETA: 30s - loss: 0.1222 - acc: 0.96 - ETA: 30s - loss: 0.1222 - acc: 0.96 - ETA: 30s - loss: 0.1222 - acc: 0.96 - ETA: 29s - loss: 0.1221 - acc: 0.96 - ETA: 29s - loss: 0.1221 - acc: 0.96 - ETA: 29s - loss: 0.1220 - acc: 0.96 - ETA: 29s - loss: 0.1220 - acc: 0.96 - ETA: 29s - loss: 0.1219 - acc: 0.96 - ETA: 29s - loss: 0.1219 - acc: 0.96 - ETA: 29s - loss: 0.1218 - acc: 0.96 - ETA: 29s - loss: 0.1218 - acc: 0.96 - ETA: 29s - loss: 0.1217 - acc: 0.96 - ETA: 29s - loss: 0.1217 - acc: 0.96 - ETA: 29s - loss: 0.1217 - acc: 0.96 - ETA: 29s - loss: 0.1216 - acc: 0.96 - ETA: 29s - loss: 0.1217 - acc: 0.96 - ETA: 29s - loss: 0.1216 - acc: 0.96 - ETA: 29s - loss: 0.1216 - acc: 0.96 - ETA: 28s - loss: 0.1216 - acc: 0.96 - ETA: 28s - loss: 0.1215 - acc: 0.96 - ETA: 28s - loss: 0.1215 - acc: 0.96 - ETA: 28s - loss: 0.1214 - acc: 0.96 - ETA: 28s - loss: 0.1214 - acc: 0.96 - ETA: 28s - loss: 0.1214 - acc: 0.96 - ETA: 28s - loss: 0.1213 - acc: 0.96 - ETA: 28s - loss: 0.1212 - acc: 0.96 - ETA: 28s - loss: 0.1212 - acc: 0.96 - ETA: 28s - loss: 0.1212 - acc: 0.96 - ETA: 28s - loss: 0.1211 - acc: 0.96 - ETA: 28s - loss: 0.1211 - acc: 0.96 - ETA: 28s - loss: 0.1210 - acc: 0.96 - ETA: 28s - loss: 0.1209 - acc: 0.96 - ETA: 28s - loss: 0.1209 - acc: 0.96 - ETA: 28s - loss: 0.1209 - acc: 0.96 - ETA: 27s - loss: 0.1208 - acc: 0.96 - ETA: 27s - loss: 0.1207 - acc: 0.96 - ETA: 27s - loss: 0.1207 - acc: 0.96 - ETA: 27s - loss: 0.1206 - acc: 0.96 - ETA: 27s - loss: 0.1206 - acc: 0.96 - ETA: 27s - loss: 0.1206 - acc: 0.96 - ETA: 27s - loss: 0.1206 - acc: 0.96 - ETA: 27s - loss: 0.1205 - acc: 0.96 - ETA: 27s - loss: 0.1205 - acc: 0.96 - ETA: 27s - loss: 0.1204 - acc: 0.96 - ETA: 27s - loss: 0.1204 - acc: 0.96 - ETA: 27s - loss: 0.1204 - acc: 0.96 - ETA: 27s - loss: 0.1203 - acc: 0.96 - ETA: 27s - loss: 0.1202 - acc: 0.96 - ETA: 27s - loss: 0.1202 - acc: 0.96 - ETA: 26s - loss: 0.1202 - acc: 0.96 - ETA: 26s - loss: 0.1201 - acc: 0.96 - ETA: 26s - loss: 0.1201 - acc: 0.96 - ETA: 26s - loss: 0.1200 - acc: 0.96 - ETA: 26s - loss: 0.1199 - acc: 0.96 - ETA: 26s - loss: 0.1199 - acc: 0.96 - ETA: 26s - loss: 0.1199 - acc: 0.96 - ETA: 26s - loss: 0.1198 - acc: 0.96 - ETA: 26s - loss: 0.1197 - acc: 0.96 - ETA: 26s - loss: 0.1197 - acc: 0.96 - ETA: 26s - loss: 0.1196 - acc: 0.96 - ETA: 26s - loss: 0.1196 - acc: 0.96 - ETA: 26s - loss: 0.1195 - acc: 0.96 - ETA: 26s - loss: 0.1195 - acc: 0.96 - ETA: 26s - loss: 0.1194 - acc: 0.96 - ETA: 25s - loss: 0.1193 - acc: 0.96 - ETA: 25s - loss: 0.1193 - acc: 0.96 - ETA: 25s - loss: 0.1193 - acc: 0.96 - ETA: 25s - loss: 0.1192 - acc: 0.96 - ETA: 25s - loss: 0.1192 - acc: 0.96 - ETA: 25s - loss: 0.1191 - acc: 0.96 - ETA: 25s - loss: 0.1190 - acc: 0.96 - ETA: 25s - loss: 0.1189 - acc: 0.96 - ETA: 25s - loss: 0.1189 - acc: 0.96 - ETA: 25s - loss: 0.1188 - acc: 0.96 - ETA: 25s - loss: 0.1188 - acc: 0.96 - ETA: 25s - loss: 0.1188 - acc: 0.96 - ETA: 25s - loss: 0.1188 - acc: 0.96 - ETA: 25s - loss: 0.1188 - acc: 0.96 - ETA: 25s - loss: 0.1187 - acc: 0.96 - ETA: 24s - loss: 0.1187 - acc: 0.96 - ETA: 24s - loss: 0.1186 - acc: 0.96 - ETA: 24s - loss: 0.1186 - acc: 0.96 - ETA: 24s - loss: 0.1186 - acc: 0.96 - ETA: 24s - loss: 0.1186 - acc: 0.96 - ETA: 24s - loss: 0.1186 - acc: 0.96 - ETA: 24s - loss: 0.1186 - acc: 0.96 - ETA: 24s - loss: 0.1185 - acc: 0.96 - ETA: 24s - loss: 0.1185 - acc: 0.96 - ETA: 24s - loss: 0.1185 - acc: 0.96 - ETA: 24s - loss: 0.1184 - acc: 0.96 - ETA: 24s - loss: 0.1183 - acc: 0.96 - ETA: 24s - loss: 0.1183 - acc: 0.96 - ETA: 24s - loss: 0.1183 - acc: 0.96 - ETA: 24s - loss: 0.1183 - acc: 0.96 - ETA: 24s - loss: 0.1182 - acc: 0.96 - ETA: 23s - loss: 0.1182 - acc: 0.96 - ETA: 23s - loss: 0.1182 - acc: 0.96 - ETA: 23s - loss: 0.1181 - acc: 0.96 - ETA: 23s - loss: 0.1181 - acc: 0.96 - ETA: 23s - loss: 0.1181 - acc: 0.96 - ETA: 23s - loss: 0.1181 - acc: 0.96 - ETA: 23s - loss: 0.1180 - acc: 0.96 - ETA: 23s - loss: 0.1180 - acc: 0.96 - ETA: 23s - loss: 0.1180 - acc: 0.96 - ETA: 23s - loss: 0.1179 - acc: 0.96 - ETA: 23s - loss: 0.1179 - acc: 0.96 - ETA: 23s - loss: 0.1178 - acc: 0.96 - ETA: 23s - loss: 0.1177 - acc: 0.96 - ETA: 23s - loss: 0.1177 - acc: 0.96 - ETA: 23s - loss: 0.1176 - acc: 0.96 - ETA: 23s - loss: 0.1175 - acc: 0.96 - ETA: 22s - loss: 0.1175 - acc: 0.96 - ETA: 22s - loss: 0.1175 - acc: 0.96 - ETA: 22s - loss: 0.1175 - acc: 0.96 - ETA: 22s - loss: 0.1174 - acc: 0.96 - ETA: 22s - loss: 0.1174 - acc: 0.96 - ETA: 22s - loss: 0.1174 - acc: 0.9659"
     ]
    },
    {
     "name": "stdout",
     "output_type": "stream",
     "text": [
      "113824/127656 [=========================>....] - ETA: 22s - loss: 0.1174 - acc: 0.96 - ETA: 22s - loss: 0.1174 - acc: 0.96 - ETA: 22s - loss: 0.1174 - acc: 0.96 - ETA: 22s - loss: 0.1174 - acc: 0.96 - ETA: 22s - loss: 0.1173 - acc: 0.96 - ETA: 22s - loss: 0.1173 - acc: 0.96 - ETA: 22s - loss: 0.1172 - acc: 0.96 - ETA: 22s - loss: 0.1172 - acc: 0.96 - ETA: 22s - loss: 0.1172 - acc: 0.96 - ETA: 22s - loss: 0.1172 - acc: 0.96 - ETA: 21s - loss: 0.1172 - acc: 0.96 - ETA: 21s - loss: 0.1171 - acc: 0.96 - ETA: 21s - loss: 0.1171 - acc: 0.96 - ETA: 21s - loss: 0.1171 - acc: 0.96 - ETA: 21s - loss: 0.1171 - acc: 0.96 - ETA: 21s - loss: 0.1170 - acc: 0.96 - ETA: 21s - loss: 0.1170 - acc: 0.96 - ETA: 21s - loss: 0.1170 - acc: 0.96 - ETA: 21s - loss: 0.1170 - acc: 0.96 - ETA: 21s - loss: 0.1169 - acc: 0.96 - ETA: 21s - loss: 0.1169 - acc: 0.96 - ETA: 21s - loss: 0.1169 - acc: 0.96 - ETA: 21s - loss: 0.1169 - acc: 0.96 - ETA: 21s - loss: 0.1168 - acc: 0.96 - ETA: 21s - loss: 0.1167 - acc: 0.96 - ETA: 20s - loss: 0.1167 - acc: 0.96 - ETA: 20s - loss: 0.1167 - acc: 0.96 - ETA: 20s - loss: 0.1167 - acc: 0.96 - ETA: 20s - loss: 0.1166 - acc: 0.96 - ETA: 20s - loss: 0.1166 - acc: 0.96 - ETA: 20s - loss: 0.1165 - acc: 0.96 - ETA: 20s - loss: 0.1165 - acc: 0.96 - ETA: 20s - loss: 0.1164 - acc: 0.96 - ETA: 20s - loss: 0.1164 - acc: 0.96 - ETA: 20s - loss: 0.1163 - acc: 0.96 - ETA: 20s - loss: 0.1163 - acc: 0.96 - ETA: 20s - loss: 0.1162 - acc: 0.96 - ETA: 20s - loss: 0.1163 - acc: 0.96 - ETA: 20s - loss: 0.1162 - acc: 0.96 - ETA: 20s - loss: 0.1162 - acc: 0.96 - ETA: 20s - loss: 0.1162 - acc: 0.96 - ETA: 20s - loss: 0.1162 - acc: 0.96 - ETA: 20s - loss: 0.1162 - acc: 0.96 - ETA: 19s - loss: 0.1162 - acc: 0.96 - ETA: 19s - loss: 0.1161 - acc: 0.96 - ETA: 19s - loss: 0.1161 - acc: 0.96 - ETA: 19s - loss: 0.1160 - acc: 0.96 - ETA: 19s - loss: 0.1159 - acc: 0.96 - ETA: 19s - loss: 0.1160 - acc: 0.96 - ETA: 19s - loss: 0.1159 - acc: 0.96 - ETA: 19s - loss: 0.1159 - acc: 0.96 - ETA: 19s - loss: 0.1159 - acc: 0.96 - ETA: 19s - loss: 0.1158 - acc: 0.96 - ETA: 19s - loss: 0.1158 - acc: 0.96 - ETA: 19s - loss: 0.1158 - acc: 0.96 - ETA: 19s - loss: 0.1158 - acc: 0.96 - ETA: 19s - loss: 0.1157 - acc: 0.96 - ETA: 19s - loss: 0.1157 - acc: 0.96 - ETA: 18s - loss: 0.1157 - acc: 0.96 - ETA: 18s - loss: 0.1157 - acc: 0.96 - ETA: 18s - loss: 0.1157 - acc: 0.96 - ETA: 18s - loss: 0.1157 - acc: 0.96 - ETA: 18s - loss: 0.1156 - acc: 0.96 - ETA: 18s - loss: 0.1156 - acc: 0.96 - ETA: 18s - loss: 0.1156 - acc: 0.96 - ETA: 18s - loss: 0.1156 - acc: 0.96 - ETA: 18s - loss: 0.1155 - acc: 0.96 - ETA: 18s - loss: 0.1155 - acc: 0.96 - ETA: 18s - loss: 0.1155 - acc: 0.96 - ETA: 18s - loss: 0.1154 - acc: 0.96 - ETA: 18s - loss: 0.1154 - acc: 0.96 - ETA: 18s - loss: 0.1154 - acc: 0.96 - ETA: 18s - loss: 0.1153 - acc: 0.96 - ETA: 18s - loss: 0.1153 - acc: 0.96 - ETA: 17s - loss: 0.1153 - acc: 0.96 - ETA: 17s - loss: 0.1152 - acc: 0.96 - ETA: 17s - loss: 0.1152 - acc: 0.96 - ETA: 17s - loss: 0.1152 - acc: 0.96 - ETA: 17s - loss: 0.1151 - acc: 0.96 - ETA: 17s - loss: 0.1151 - acc: 0.96 - ETA: 17s - loss: 0.1151 - acc: 0.96 - ETA: 17s - loss: 0.1150 - acc: 0.96 - ETA: 17s - loss: 0.1150 - acc: 0.96 - ETA: 17s - loss: 0.1150 - acc: 0.96 - ETA: 17s - loss: 0.1149 - acc: 0.96 - ETA: 17s - loss: 0.1149 - acc: 0.96 - ETA: 17s - loss: 0.1149 - acc: 0.96 - ETA: 17s - loss: 0.1149 - acc: 0.96 - ETA: 17s - loss: 0.1149 - acc: 0.96 - ETA: 16s - loss: 0.1149 - acc: 0.96 - ETA: 16s - loss: 0.1148 - acc: 0.96 - ETA: 16s - loss: 0.1148 - acc: 0.96 - ETA: 16s - loss: 0.1148 - acc: 0.96 - ETA: 16s - loss: 0.1148 - acc: 0.96 - ETA: 16s - loss: 0.1147 - acc: 0.96 - ETA: 16s - loss: 0.1147 - acc: 0.96 - ETA: 16s - loss: 0.1147 - acc: 0.96 - ETA: 16s - loss: 0.1147 - acc: 0.96 - ETA: 16s - loss: 0.1146 - acc: 0.96 - ETA: 16s - loss: 0.1146 - acc: 0.96 - ETA: 16s - loss: 0.1146 - acc: 0.96 - ETA: 16s - loss: 0.1146 - acc: 0.96 - ETA: 16s - loss: 0.1146 - acc: 0.96 - ETA: 16s - loss: 0.1146 - acc: 0.96 - ETA: 16s - loss: 0.1145 - acc: 0.96 - ETA: 16s - loss: 0.1145 - acc: 0.96 - ETA: 16s - loss: 0.1144 - acc: 0.96 - ETA: 15s - loss: 0.1144 - acc: 0.96 - ETA: 15s - loss: 0.1144 - acc: 0.96 - ETA: 15s - loss: 0.1143 - acc: 0.96 - ETA: 15s - loss: 0.1143 - acc: 0.96 - ETA: 15s - loss: 0.1143 - acc: 0.96 - ETA: 15s - loss: 0.1142 - acc: 0.96 - ETA: 15s - loss: 0.1142 - acc: 0.96 - ETA: 15s - loss: 0.1142 - acc: 0.96 - ETA: 15s - loss: 0.1141 - acc: 0.96 - ETA: 15s - loss: 0.1141 - acc: 0.96 - ETA: 15s - loss: 0.1140 - acc: 0.96 - ETA: 15s - loss: 0.1139 - acc: 0.96 - ETA: 15s - loss: 0.1139 - acc: 0.96 - ETA: 15s - loss: 0.1138 - acc: 0.96 - ETA: 15s - loss: 0.1138 - acc: 0.96 - ETA: 14s - loss: 0.1138 - acc: 0.96 - ETA: 14s - loss: 0.1138 - acc: 0.96 - ETA: 14s - loss: 0.1137 - acc: 0.96 - ETA: 14s - loss: 0.1137 - acc: 0.96 - ETA: 14s - loss: 0.1137 - acc: 0.96 - ETA: 14s - loss: 0.1137 - acc: 0.96 - ETA: 14s - loss: 0.1137 - acc: 0.96 - ETA: 14s - loss: 0.1137 - acc: 0.96 - ETA: 14s - loss: 0.1136 - acc: 0.96 - ETA: 14s - loss: 0.1136 - acc: 0.96 - ETA: 14s - loss: 0.1136 - acc: 0.96 - ETA: 14s - loss: 0.1135 - acc: 0.96 - ETA: 14s - loss: 0.1135 - acc: 0.96 - ETA: 14s - loss: 0.1135 - acc: 0.96 - ETA: 14s - loss: 0.1135 - acc: 0.96 - ETA: 14s - loss: 0.1134 - acc: 0.96 - ETA: 14s - loss: 0.1134 - acc: 0.96 - ETA: 14s - loss: 0.1133 - acc: 0.96 - ETA: 13s - loss: 0.1133 - acc: 0.96 - ETA: 13s - loss: 0.1133 - acc: 0.96 - ETA: 13s - loss: 0.1133 - acc: 0.96 - ETA: 13s - loss: 0.1132 - acc: 0.96 - ETA: 13s - loss: 0.1132 - acc: 0.96 - ETA: 13s - loss: 0.1131 - acc: 0.96 - ETA: 13s - loss: 0.1131 - acc: 0.96 - ETA: 13s - loss: 0.1130 - acc: 0.96 - ETA: 13s - loss: 0.1130 - acc: 0.96 - ETA: 13s - loss: 0.1129 - acc: 0.96 - ETA: 13s - loss: 0.1129 - acc: 0.96 - ETA: 13s - loss: 0.1128 - acc: 0.96 - ETA: 13s - loss: 0.1128 - acc: 0.96 - ETA: 13s - loss: 0.1128 - acc: 0.96 - ETA: 13s - loss: 0.1128 - acc: 0.96 - ETA: 13s - loss: 0.1127 - acc: 0.96 - ETA: 12s - loss: 0.1127 - acc: 0.96 - ETA: 12s - loss: 0.1127 - acc: 0.96 - ETA: 12s - loss: 0.1126 - acc: 0.96 - ETA: 12s - loss: 0.1125 - acc: 0.96 - ETA: 12s - loss: 0.1125 - acc: 0.96 - ETA: 12s - loss: 0.1125 - acc: 0.96 - ETA: 12s - loss: 0.1125 - acc: 0.96 - ETA: 12s - loss: 0.1124 - acc: 0.96 - ETA: 12s - loss: 0.1124 - acc: 0.96 - ETA: 12s - loss: 0.1124 - acc: 0.96 - ETA: 12s - loss: 0.1123 - acc: 0.96 - ETA: 12s - loss: 0.1123 - acc: 0.96 - ETA: 12s - loss: 0.1123 - acc: 0.96 - ETA: 12s - loss: 0.1122 - acc: 0.96 - ETA: 12s - loss: 0.1122 - acc: 0.96 - ETA: 12s - loss: 0.1122 - acc: 0.96 - ETA: 11s - loss: 0.1121 - acc: 0.96 - ETA: 11s - loss: 0.1121 - acc: 0.96 - ETA: 11s - loss: 0.1121 - acc: 0.96 - ETA: 11s - loss: 0.1120 - acc: 0.96 - ETA: 11s - loss: 0.1120 - acc: 0.96 - ETA: 11s - loss: 0.1120 - acc: 0.96 - ETA: 11s - loss: 0.1120 - acc: 0.96 - ETA: 11s - loss: 0.1119 - acc: 0.96 - ETA: 11s - loss: 0.1120 - acc: 0.96 - ETA: 11s - loss: 0.1119 - acc: 0.96 - ETA: 11s - loss: 0.1119 - acc: 0.96 - ETA: 11s - loss: 0.1119 - acc: 0.96 - ETA: 11s - loss: 0.1118 - acc: 0.96 - ETA: 11s - loss: 0.1118 - acc: 0.96 - ETA: 11s - loss: 0.1118 - acc: 0.96 - ETA: 11s - loss: 0.1118 - acc: 0.96 - ETA: 10s - loss: 0.1117 - acc: 0.96 - ETA: 10s - loss: 0.1117 - acc: 0.96 - ETA: 10s - loss: 0.1117 - acc: 0.96 - ETA: 10s - loss: 0.1117 - acc: 0.96 - ETA: 10s - loss: 0.1116 - acc: 0.96 - ETA: 10s - loss: 0.1116 - acc: 0.96 - ETA: 10s - loss: 0.1115 - acc: 0.96 - ETA: 10s - loss: 0.1115 - acc: 0.96 - ETA: 10s - loss: 0.1115 - acc: 0.96 - ETA: 10s - loss: 0.1115 - acc: 0.96 - ETA: 10s - loss: 0.1114 - acc: 0.96 - ETA: 10s - loss: 0.1114 - acc: 0.96 - ETA: 10s - loss: 0.1114 - acc: 0.96 - ETA: 10s - loss: 0.1114 - acc: 0.96 - ETA: 10s - loss: 0.1114 - acc: 0.96 - ETA: 10s - loss: 0.1113 - acc: 0.96 - ETA: 10s - loss: 0.1113 - acc: 0.96 - ETA: 9s - loss: 0.1112 - acc: 0.9673 - ETA: 9s - loss: 0.1112 - acc: 0.967 - ETA: 9s - loss: 0.1112 - acc: 0.967 - ETA: 9s - loss: 0.1112 - acc: 0.967 - ETA: 9s - loss: 0.1111 - acc: 0.967 - ETA: 9s - loss: 0.1111 - acc: 0.967 - ETA: 9s - loss: 0.1110 - acc: 0.967 - ETA: 9s - loss: 0.1110 - acc: 0.967 - ETA: 9s - loss: 0.1110 - acc: 0.967 - ETA: 9s - loss: 0.1110 - acc: 0.9674"
     ]
    },
    {
     "name": "stdout",
     "output_type": "stream",
     "text": [
      "127656/127656 [==============================] - ETA: 9s - loss: 0.1110 - acc: 0.967 - ETA: 9s - loss: 0.1110 - acc: 0.967 - ETA: 9s - loss: 0.1110 - acc: 0.967 - ETA: 9s - loss: 0.1110 - acc: 0.967 - ETA: 9s - loss: 0.1110 - acc: 0.967 - ETA: 9s - loss: 0.1110 - acc: 0.967 - ETA: 8s - loss: 0.1109 - acc: 0.967 - ETA: 8s - loss: 0.1109 - acc: 0.967 - ETA: 8s - loss: 0.1109 - acc: 0.967 - ETA: 8s - loss: 0.1108 - acc: 0.967 - ETA: 8s - loss: 0.1108 - acc: 0.967 - ETA: 8s - loss: 0.1108 - acc: 0.967 - ETA: 8s - loss: 0.1108 - acc: 0.967 - ETA: 8s - loss: 0.1108 - acc: 0.967 - ETA: 8s - loss: 0.1107 - acc: 0.967 - ETA: 8s - loss: 0.1107 - acc: 0.967 - ETA: 8s - loss: 0.1107 - acc: 0.967 - ETA: 8s - loss: 0.1106 - acc: 0.967 - ETA: 8s - loss: 0.1106 - acc: 0.967 - ETA: 8s - loss: 0.1106 - acc: 0.967 - ETA: 8s - loss: 0.1106 - acc: 0.967 - ETA: 8s - loss: 0.1106 - acc: 0.967 - ETA: 7s - loss: 0.1106 - acc: 0.967 - ETA: 7s - loss: 0.1106 - acc: 0.967 - ETA: 7s - loss: 0.1105 - acc: 0.967 - ETA: 7s - loss: 0.1105 - acc: 0.967 - ETA: 7s - loss: 0.1105 - acc: 0.967 - ETA: 7s - loss: 0.1104 - acc: 0.967 - ETA: 7s - loss: 0.1104 - acc: 0.967 - ETA: 7s - loss: 0.1104 - acc: 0.967 - ETA: 7s - loss: 0.1104 - acc: 0.967 - ETA: 7s - loss: 0.1103 - acc: 0.967 - ETA: 7s - loss: 0.1103 - acc: 0.967 - ETA: 7s - loss: 0.1102 - acc: 0.967 - ETA: 7s - loss: 0.1102 - acc: 0.967 - ETA: 7s - loss: 0.1102 - acc: 0.967 - ETA: 7s - loss: 0.1101 - acc: 0.967 - ETA: 6s - loss: 0.1101 - acc: 0.967 - ETA: 6s - loss: 0.1101 - acc: 0.967 - ETA: 6s - loss: 0.1100 - acc: 0.967 - ETA: 6s - loss: 0.1100 - acc: 0.967 - ETA: 6s - loss: 0.1100 - acc: 0.967 - ETA: 6s - loss: 0.1100 - acc: 0.967 - ETA: 6s - loss: 0.1100 - acc: 0.967 - ETA: 6s - loss: 0.1099 - acc: 0.967 - ETA: 6s - loss: 0.1099 - acc: 0.967 - ETA: 6s - loss: 0.1098 - acc: 0.967 - ETA: 6s - loss: 0.1098 - acc: 0.967 - ETA: 6s - loss: 0.1098 - acc: 0.967 - ETA: 6s - loss: 0.1098 - acc: 0.967 - ETA: 6s - loss: 0.1098 - acc: 0.967 - ETA: 6s - loss: 0.1097 - acc: 0.967 - ETA: 6s - loss: 0.1097 - acc: 0.967 - ETA: 6s - loss: 0.1097 - acc: 0.967 - ETA: 6s - loss: 0.1097 - acc: 0.967 - ETA: 5s - loss: 0.1096 - acc: 0.967 - ETA: 5s - loss: 0.1096 - acc: 0.967 - ETA: 5s - loss: 0.1096 - acc: 0.967 - ETA: 5s - loss: 0.1095 - acc: 0.967 - ETA: 5s - loss: 0.1095 - acc: 0.967 - ETA: 5s - loss: 0.1095 - acc: 0.967 - ETA: 5s - loss: 0.1095 - acc: 0.967 - ETA: 5s - loss: 0.1094 - acc: 0.967 - ETA: 5s - loss: 0.1094 - acc: 0.967 - ETA: 5s - loss: 0.1093 - acc: 0.967 - ETA: 5s - loss: 0.1093 - acc: 0.967 - ETA: 5s - loss: 0.1093 - acc: 0.967 - ETA: 5s - loss: 0.1093 - acc: 0.967 - ETA: 5s - loss: 0.1093 - acc: 0.967 - ETA: 5s - loss: 0.1092 - acc: 0.967 - ETA: 5s - loss: 0.1092 - acc: 0.967 - ETA: 4s - loss: 0.1091 - acc: 0.967 - ETA: 4s - loss: 0.1091 - acc: 0.967 - ETA: 4s - loss: 0.1091 - acc: 0.967 - ETA: 4s - loss: 0.1090 - acc: 0.967 - ETA: 4s - loss: 0.1090 - acc: 0.967 - ETA: 4s - loss: 0.1090 - acc: 0.967 - ETA: 4s - loss: 0.1089 - acc: 0.967 - ETA: 4s - loss: 0.1089 - acc: 0.967 - ETA: 4s - loss: 0.1089 - acc: 0.967 - ETA: 4s - loss: 0.1088 - acc: 0.967 - ETA: 4s - loss: 0.1088 - acc: 0.967 - ETA: 4s - loss: 0.1088 - acc: 0.967 - ETA: 4s - loss: 0.1087 - acc: 0.967 - ETA: 4s - loss: 0.1087 - acc: 0.967 - ETA: 4s - loss: 0.1087 - acc: 0.967 - ETA: 3s - loss: 0.1087 - acc: 0.967 - ETA: 3s - loss: 0.1087 - acc: 0.967 - ETA: 3s - loss: 0.1086 - acc: 0.967 - ETA: 3s - loss: 0.1086 - acc: 0.967 - ETA: 3s - loss: 0.1086 - acc: 0.967 - ETA: 3s - loss: 0.1086 - acc: 0.967 - ETA: 3s - loss: 0.1085 - acc: 0.967 - ETA: 3s - loss: 0.1085 - acc: 0.967 - ETA: 3s - loss: 0.1085 - acc: 0.967 - ETA: 3s - loss: 0.1084 - acc: 0.967 - ETA: 3s - loss: 0.1084 - acc: 0.967 - ETA: 3s - loss: 0.1084 - acc: 0.967 - ETA: 3s - loss: 0.1084 - acc: 0.967 - ETA: 3s - loss: 0.1083 - acc: 0.968 - ETA: 3s - loss: 0.1083 - acc: 0.968 - ETA: 3s - loss: 0.1083 - acc: 0.968 - ETA: 2s - loss: 0.1082 - acc: 0.968 - ETA: 2s - loss: 0.1082 - acc: 0.968 - ETA: 2s - loss: 0.1082 - acc: 0.968 - ETA: 2s - loss: 0.1082 - acc: 0.968 - ETA: 2s - loss: 0.1081 - acc: 0.968 - ETA: 2s - loss: 0.1081 - acc: 0.968 - ETA: 2s - loss: 0.1081 - acc: 0.968 - ETA: 2s - loss: 0.1081 - acc: 0.968 - ETA: 2s - loss: 0.1081 - acc: 0.968 - ETA: 2s - loss: 0.1081 - acc: 0.968 - ETA: 2s - loss: 0.1080 - acc: 0.968 - ETA: 2s - loss: 0.1080 - acc: 0.968 - ETA: 2s - loss: 0.1079 - acc: 0.968 - ETA: 2s - loss: 0.1079 - acc: 0.968 - ETA: 2s - loss: 0.1078 - acc: 0.968 - ETA: 1s - loss: 0.1078 - acc: 0.968 - ETA: 1s - loss: 0.1078 - acc: 0.968 - ETA: 1s - loss: 0.1078 - acc: 0.968 - ETA: 1s - loss: 0.1077 - acc: 0.968 - ETA: 1s - loss: 0.1077 - acc: 0.968 - ETA: 1s - loss: 0.1077 - acc: 0.968 - ETA: 1s - loss: 0.1077 - acc: 0.968 - ETA: 1s - loss: 0.1077 - acc: 0.968 - ETA: 1s - loss: 0.1076 - acc: 0.968 - ETA: 1s - loss: 0.1076 - acc: 0.968 - ETA: 1s - loss: 0.1076 - acc: 0.968 - ETA: 1s - loss: 0.1076 - acc: 0.968 - ETA: 1s - loss: 0.1076 - acc: 0.968 - ETA: 1s - loss: 0.1076 - acc: 0.968 - ETA: 1s - loss: 0.1075 - acc: 0.968 - ETA: 1s - loss: 0.1075 - acc: 0.968 - ETA: 1s - loss: 0.1075 - acc: 0.968 - ETA: 1s - loss: 0.1075 - acc: 0.968 - ETA: 1s - loss: 0.1074 - acc: 0.968 - ETA: 1s - loss: 0.1075 - acc: 0.968 - ETA: 0s - loss: 0.1074 - acc: 0.968 - ETA: 0s - loss: 0.1074 - acc: 0.968 - ETA: 0s - loss: 0.1074 - acc: 0.968 - ETA: 0s - loss: 0.1074 - acc: 0.968 - ETA: 0s - loss: 0.1074 - acc: 0.968 - ETA: 0s - loss: 0.1073 - acc: 0.968 - ETA: 0s - loss: 0.1073 - acc: 0.968 - ETA: 0s - loss: 0.1073 - acc: 0.968 - ETA: 0s - loss: 0.1073 - acc: 0.968 - ETA: 0s - loss: 0.1073 - acc: 0.968 - ETA: 0s - loss: 0.1073 - acc: 0.968 - ETA: 0s - loss: 0.1073 - acc: 0.968 - ETA: 0s - loss: 0.1072 - acc: 0.968 - ETA: 0s - loss: 0.1072 - acc: 0.968 - ETA: 0s - loss: 0.1072 - acc: 0.968 - ETA: 0s - loss: 0.1072 - acc: 0.968 - ETA: 0s - loss: 0.1071 - acc: 0.968 - 90s 709us/step - loss: 0.1071 - acc: 0.9682 - val_loss: 0.0711 - val_acc: 0.9759\n",
      "Epoch 2/2\n"
     ]
    },
    {
     "name": "stdout",
     "output_type": "stream",
     "text": [
      " 19232/127656 [===>..........................] - ETA: 3:43 - loss: 0.0784 - acc: 0.968 - ETA: 2:27 - loss: 0.0639 - acc: 0.980 - ETA: 2:13 - loss: 0.0573 - acc: 0.983 - ETA: 2:06 - loss: 0.0505 - acc: 0.985 - ETA: 1:52 - loss: 0.0585 - acc: 0.984 - ETA: 1:45 - loss: 0.0562 - acc: 0.985 - ETA: 1:41 - loss: 0.0529 - acc: 0.985 - ETA: 1:38 - loss: 0.0551 - acc: 0.984 - ETA: 1:36 - loss: 0.0609 - acc: 0.982 - ETA: 1:34 - loss: 0.0590 - acc: 0.982 - ETA: 1:33 - loss: 0.0597 - acc: 0.982 - ETA: 1:32 - loss: 0.0621 - acc: 0.981 - ETA: 1:31 - loss: 0.0636 - acc: 0.980 - ETA: 1:30 - loss: 0.0649 - acc: 0.980 - ETA: 1:29 - loss: 0.0660 - acc: 0.979 - ETA: 1:29 - loss: 0.0663 - acc: 0.979 - ETA: 1:28 - loss: 0.0672 - acc: 0.978 - ETA: 1:28 - loss: 0.0671 - acc: 0.978 - ETA: 1:27 - loss: 0.0659 - acc: 0.978 - ETA: 1:27 - loss: 0.0678 - acc: 0.978 - ETA: 1:26 - loss: 0.0681 - acc: 0.978 - ETA: 1:26 - loss: 0.0675 - acc: 0.978 - ETA: 1:26 - loss: 0.0686 - acc: 0.977 - ETA: 1:25 - loss: 0.0686 - acc: 0.977 - ETA: 1:25 - loss: 0.0692 - acc: 0.976 - ETA: 1:26 - loss: 0.0694 - acc: 0.977 - ETA: 1:25 - loss: 0.0693 - acc: 0.976 - ETA: 1:25 - loss: 0.0702 - acc: 0.976 - ETA: 1:25 - loss: 0.0707 - acc: 0.976 - ETA: 1:25 - loss: 0.0708 - acc: 0.976 - ETA: 1:25 - loss: 0.0713 - acc: 0.976 - ETA: 1:24 - loss: 0.0712 - acc: 0.975 - ETA: 1:24 - loss: 0.0707 - acc: 0.976 - ETA: 1:24 - loss: 0.0706 - acc: 0.976 - ETA: 1:24 - loss: 0.0703 - acc: 0.976 - ETA: 1:24 - loss: 0.0701 - acc: 0.976 - ETA: 1:24 - loss: 0.0707 - acc: 0.975 - ETA: 1:23 - loss: 0.0714 - acc: 0.975 - ETA: 1:23 - loss: 0.0712 - acc: 0.975 - ETA: 1:23 - loss: 0.0720 - acc: 0.975 - ETA: 1:23 - loss: 0.0713 - acc: 0.975 - ETA: 1:23 - loss: 0.0717 - acc: 0.975 - ETA: 1:23 - loss: 0.0710 - acc: 0.975 - ETA: 1:23 - loss: 0.0711 - acc: 0.975 - ETA: 1:22 - loss: 0.0710 - acc: 0.975 - ETA: 1:22 - loss: 0.0705 - acc: 0.975 - ETA: 1:22 - loss: 0.0709 - acc: 0.975 - ETA: 1:22 - loss: 0.0712 - acc: 0.976 - ETA: 1:22 - loss: 0.0709 - acc: 0.976 - ETA: 1:22 - loss: 0.0704 - acc: 0.976 - ETA: 1:22 - loss: 0.0704 - acc: 0.976 - ETA: 1:22 - loss: 0.0699 - acc: 0.976 - ETA: 1:21 - loss: 0.0705 - acc: 0.976 - ETA: 1:21 - loss: 0.0706 - acc: 0.976 - ETA: 1:21 - loss: 0.0709 - acc: 0.975 - ETA: 1:21 - loss: 0.0710 - acc: 0.975 - ETA: 1:21 - loss: 0.0711 - acc: 0.975 - ETA: 1:21 - loss: 0.0709 - acc: 0.975 - ETA: 1:21 - loss: 0.0710 - acc: 0.975 - ETA: 1:21 - loss: 0.0707 - acc: 0.975 - ETA: 1:21 - loss: 0.0704 - acc: 0.975 - ETA: 1:21 - loss: 0.0708 - acc: 0.975 - ETA: 1:21 - loss: 0.0706 - acc: 0.975 - ETA: 1:20 - loss: 0.0705 - acc: 0.975 - ETA: 1:20 - loss: 0.0703 - acc: 0.976 - ETA: 1:20 - loss: 0.0701 - acc: 0.976 - ETA: 1:20 - loss: 0.0708 - acc: 0.975 - ETA: 1:20 - loss: 0.0712 - acc: 0.975 - ETA: 1:20 - loss: 0.0710 - acc: 0.975 - ETA: 1:20 - loss: 0.0714 - acc: 0.975 - ETA: 1:20 - loss: 0.0716 - acc: 0.975 - ETA: 1:20 - loss: 0.0717 - acc: 0.975 - ETA: 1:20 - loss: 0.0718 - acc: 0.975 - ETA: 1:20 - loss: 0.0715 - acc: 0.975 - ETA: 1:20 - loss: 0.0717 - acc: 0.975 - ETA: 1:19 - loss: 0.0717 - acc: 0.975 - ETA: 1:19 - loss: 0.0715 - acc: 0.975 - ETA: 1:19 - loss: 0.0718 - acc: 0.975 - ETA: 1:19 - loss: 0.0719 - acc: 0.975 - ETA: 1:19 - loss: 0.0718 - acc: 0.975 - ETA: 1:19 - loss: 0.0716 - acc: 0.975 - ETA: 1:19 - loss: 0.0713 - acc: 0.975 - ETA: 1:19 - loss: 0.0709 - acc: 0.975 - ETA: 1:19 - loss: 0.0713 - acc: 0.975 - ETA: 1:19 - loss: 0.0714 - acc: 0.975 - ETA: 1:19 - loss: 0.0716 - acc: 0.975 - ETA: 1:18 - loss: 0.0716 - acc: 0.975 - ETA: 1:18 - loss: 0.0718 - acc: 0.975 - ETA: 1:18 - loss: 0.0716 - acc: 0.975 - ETA: 1:18 - loss: 0.0717 - acc: 0.975 - ETA: 1:18 - loss: 0.0715 - acc: 0.975 - ETA: 1:18 - loss: 0.0715 - acc: 0.975 - ETA: 1:18 - loss: 0.0711 - acc: 0.976 - ETA: 1:18 - loss: 0.0717 - acc: 0.976 - ETA: 1:18 - loss: 0.0720 - acc: 0.975 - ETA: 1:18 - loss: 0.0719 - acc: 0.976 - ETA: 1:18 - loss: 0.0720 - acc: 0.976 - ETA: 1:18 - loss: 0.0718 - acc: 0.976 - ETA: 1:18 - loss: 0.0718 - acc: 0.975 - ETA: 1:17 - loss: 0.0714 - acc: 0.976 - ETA: 1:17 - loss: 0.0717 - acc: 0.975 - ETA: 1:17 - loss: 0.0721 - acc: 0.975 - ETA: 1:17 - loss: 0.0722 - acc: 0.975 - ETA: 1:17 - loss: 0.0722 - acc: 0.975 - ETA: 1:17 - loss: 0.0723 - acc: 0.975 - ETA: 1:17 - loss: 0.0725 - acc: 0.975 - ETA: 1:17 - loss: 0.0724 - acc: 0.975 - ETA: 1:17 - loss: 0.0725 - acc: 0.975 - ETA: 1:17 - loss: 0.0726 - acc: 0.975 - ETA: 1:17 - loss: 0.0726 - acc: 0.975 - ETA: 1:17 - loss: 0.0727 - acc: 0.975 - ETA: 1:17 - loss: 0.0723 - acc: 0.975 - ETA: 1:16 - loss: 0.0725 - acc: 0.975 - ETA: 1:16 - loss: 0.0724 - acc: 0.975 - ETA: 1:16 - loss: 0.0722 - acc: 0.975 - ETA: 1:16 - loss: 0.0721 - acc: 0.975 - ETA: 1:16 - loss: 0.0726 - acc: 0.975 - ETA: 1:16 - loss: 0.0725 - acc: 0.975 - ETA: 1:16 - loss: 0.0725 - acc: 0.975 - ETA: 1:16 - loss: 0.0723 - acc: 0.975 - ETA: 1:16 - loss: 0.0722 - acc: 0.975 - ETA: 1:16 - loss: 0.0721 - acc: 0.975 - ETA: 1:16 - loss: 0.0720 - acc: 0.975 - ETA: 1:16 - loss: 0.0727 - acc: 0.975 - ETA: 1:16 - loss: 0.0725 - acc: 0.975 - ETA: 1:16 - loss: 0.0725 - acc: 0.975 - ETA: 1:15 - loss: 0.0728 - acc: 0.975 - ETA: 1:15 - loss: 0.0727 - acc: 0.975 - ETA: 1:15 - loss: 0.0726 - acc: 0.975 - ETA: 1:15 - loss: 0.0727 - acc: 0.975 - ETA: 1:15 - loss: 0.0731 - acc: 0.975 - ETA: 1:15 - loss: 0.0730 - acc: 0.975 - ETA: 1:15 - loss: 0.0731 - acc: 0.975 - ETA: 1:15 - loss: 0.0731 - acc: 0.975 - ETA: 1:15 - loss: 0.0731 - acc: 0.975 - ETA: 1:15 - loss: 0.0732 - acc: 0.975 - ETA: 1:15 - loss: 0.0732 - acc: 0.975 - ETA: 1:15 - loss: 0.0732 - acc: 0.975 - ETA: 1:14 - loss: 0.0731 - acc: 0.975 - ETA: 1:14 - loss: 0.0730 - acc: 0.975 - ETA: 1:14 - loss: 0.0729 - acc: 0.975 - ETA: 1:14 - loss: 0.0727 - acc: 0.975 - ETA: 1:14 - loss: 0.0726 - acc: 0.975 - ETA: 1:14 - loss: 0.0733 - acc: 0.975 - ETA: 1:14 - loss: 0.0736 - acc: 0.975 - ETA: 1:14 - loss: 0.0734 - acc: 0.975 - ETA: 1:14 - loss: 0.0734 - acc: 0.975 - ETA: 1:14 - loss: 0.0739 - acc: 0.975 - ETA: 1:14 - loss: 0.0744 - acc: 0.975 - ETA: 1:14 - loss: 0.0743 - acc: 0.975 - ETA: 1:14 - loss: 0.0747 - acc: 0.975 - ETA: 1:14 - loss: 0.0748 - acc: 0.974 - ETA: 1:13 - loss: 0.0748 - acc: 0.974 - ETA: 1:13 - loss: 0.0747 - acc: 0.974 - ETA: 1:13 - loss: 0.0751 - acc: 0.974 - ETA: 1:13 - loss: 0.0750 - acc: 0.974 - ETA: 1:13 - loss: 0.0750 - acc: 0.974 - ETA: 1:13 - loss: 0.0749 - acc: 0.974 - ETA: 1:13 - loss: 0.0751 - acc: 0.974 - ETA: 1:13 - loss: 0.0751 - acc: 0.974 - ETA: 1:13 - loss: 0.0749 - acc: 0.974 - ETA: 1:13 - loss: 0.0748 - acc: 0.974 - ETA: 1:13 - loss: 0.0748 - acc: 0.974 - ETA: 1:13 - loss: 0.0745 - acc: 0.975 - ETA: 1:13 - loss: 0.0745 - acc: 0.975 - ETA: 1:13 - loss: 0.0743 - acc: 0.975 - ETA: 1:13 - loss: 0.0744 - acc: 0.975 - ETA: 1:12 - loss: 0.0744 - acc: 0.975 - ETA: 1:12 - loss: 0.0741 - acc: 0.975 - ETA: 1:12 - loss: 0.0744 - acc: 0.975 - ETA: 1:12 - loss: 0.0745 - acc: 0.975 - ETA: 1:12 - loss: 0.0744 - acc: 0.975 - ETA: 1:12 - loss: 0.0747 - acc: 0.975 - ETA: 1:12 - loss: 0.0748 - acc: 0.975 - ETA: 1:12 - loss: 0.0749 - acc: 0.975 - ETA: 1:12 - loss: 0.0750 - acc: 0.975 - ETA: 1:12 - loss: 0.0751 - acc: 0.975 - ETA: 1:12 - loss: 0.0751 - acc: 0.975 - ETA: 1:12 - loss: 0.0752 - acc: 0.975 - ETA: 1:12 - loss: 0.0750 - acc: 0.975 - ETA: 1:12 - loss: 0.0749 - acc: 0.975 - ETA: 1:12 - loss: 0.0751 - acc: 0.975 - ETA: 1:11 - loss: 0.0751 - acc: 0.975 - ETA: 1:11 - loss: 0.0751 - acc: 0.975 - ETA: 1:11 - loss: 0.0751 - acc: 0.975 - ETA: 1:11 - loss: 0.0750 - acc: 0.975 - ETA: 1:11 - loss: 0.0750 - acc: 0.975 - ETA: 1:11 - loss: 0.0749 - acc: 0.975 - ETA: 1:11 - loss: 0.0747 - acc: 0.975 - ETA: 1:11 - loss: 0.0745 - acc: 0.975 - ETA: 1:11 - loss: 0.0745 - acc: 0.975 - ETA: 1:11 - loss: 0.0744 - acc: 0.975 - ETA: 1:11 - loss: 0.0744 - acc: 0.975 - ETA: 1:11 - loss: 0.0745 - acc: 0.975 - ETA: 1:11 - loss: 0.0745 - acc: 0.975 - ETA: 1:11 - loss: 0.0745 - acc: 0.975 - ETA: 1:11 - loss: 0.0745 - acc: 0.975 - ETA: 1:11 - loss: 0.0744 - acc: 0.975 - ETA: 1:10 - loss: 0.0744 - acc: 0.975 - ETA: 1:10 - loss: 0.0745 - acc: 0.975 - ETA: 1:10 - loss: 0.0744 - acc: 0.975 - ETA: 1:10 - loss: 0.0744 - acc: 0.975 - ETA: 1:10 - loss: 0.0743 - acc: 0.975 - ETA: 1:10 - loss: 0.0742 - acc: 0.9753 38912/127656 [========>.....................] - ETA: 1:10 - loss: 0.0742 - acc: 0.975 - ETA: 1:10 - loss: 0.0741 - acc: 0.975 - ETA: 1:10 - loss: 0.0741 - acc: 0.975 - ETA: 1:10 - loss: 0.0741 - acc: 0.975 - ETA: 1:10 - loss: 0.0740 - acc: 0.975 - ETA: 1:10 - loss: 0.0739 - acc: 0.975 - ETA: 1:10 - loss: 0.0740 - acc: 0.975 - ETA: 1:10 - loss: 0.0739 - acc: 0.975 - ETA: 1:10 - loss: 0.0741 - acc: 0.975 - ETA: 1:10 - loss: 0.0741 - acc: 0.975 - ETA: 1:09 - loss: 0.0741 - acc: 0.975 - ETA: 1:09 - loss: 0.0742 - acc: 0.975 - ETA: 1:09 - loss: 0.0742 - acc: 0.975 - ETA: 1:09 - loss: 0.0743 - acc: 0.975 - ETA: 1:09 - loss: 0.0743 - acc: 0.975 - ETA: 1:09 - loss: 0.0743 - acc: 0.975 - ETA: 1:09 - loss: 0.0742 - acc: 0.975 - ETA: 1:09 - loss: 0.0741 - acc: 0.975 - ETA: 1:09 - loss: 0.0740 - acc: 0.975 - ETA: 1:09 - loss: 0.0740 - acc: 0.975 - ETA: 1:09 - loss: 0.0739 - acc: 0.975 - ETA: 1:09 - loss: 0.0738 - acc: 0.975 - ETA: 1:09 - loss: 0.0739 - acc: 0.975 - ETA: 1:09 - loss: 0.0738 - acc: 0.975 - ETA: 1:09 - loss: 0.0739 - acc: 0.975 - ETA: 1:09 - loss: 0.0738 - acc: 0.975 - ETA: 1:08 - loss: 0.0737 - acc: 0.975 - ETA: 1:08 - loss: 0.0736 - acc: 0.975 - ETA: 1:08 - loss: 0.0736 - acc: 0.975 - ETA: 1:08 - loss: 0.0735 - acc: 0.975 - ETA: 1:08 - loss: 0.0736 - acc: 0.975 - ETA: 1:08 - loss: 0.0735 - acc: 0.975 - ETA: 1:08 - loss: 0.0736 - acc: 0.975 - ETA: 1:08 - loss: 0.0735 - acc: 0.975 - ETA: 1:08 - loss: 0.0737 - acc: 0.975 - ETA: 1:08 - loss: 0.0738 - acc: 0.975 - ETA: 1:08 - loss: 0.0738 - acc: 0.975 - ETA: 1:08 - loss: 0.0739 - acc: 0.975 - ETA: 1:08 - loss: 0.0739 - acc: 0.975 - ETA: 1:08 - loss: 0.0740 - acc: 0.975 - ETA: 1:08 - loss: 0.0740 - acc: 0.975 - ETA: 1:08 - loss: 0.0739 - acc: 0.975 - ETA: 1:07 - loss: 0.0741 - acc: 0.975 - ETA: 1:07 - loss: 0.0739 - acc: 0.975 - ETA: 1:07 - loss: 0.0739 - acc: 0.975 - ETA: 1:07 - loss: 0.0738 - acc: 0.975 - ETA: 1:07 - loss: 0.0738 - acc: 0.975 - ETA: 1:07 - loss: 0.0736 - acc: 0.975 - ETA: 1:07 - loss: 0.0736 - acc: 0.975 - ETA: 1:07 - loss: 0.0735 - acc: 0.975 - ETA: 1:07 - loss: 0.0735 - acc: 0.975 - ETA: 1:07 - loss: 0.0734 - acc: 0.975 - ETA: 1:07 - loss: 0.0733 - acc: 0.975 - ETA: 1:07 - loss: 0.0732 - acc: 0.975 - ETA: 1:07 - loss: 0.0731 - acc: 0.975 - ETA: 1:07 - loss: 0.0731 - acc: 0.975 - ETA: 1:07 - loss: 0.0729 - acc: 0.975 - ETA: 1:06 - loss: 0.0729 - acc: 0.975 - ETA: 1:06 - loss: 0.0729 - acc: 0.975 - ETA: 1:06 - loss: 0.0729 - acc: 0.975 - ETA: 1:06 - loss: 0.0729 - acc: 0.975 - ETA: 1:06 - loss: 0.0727 - acc: 0.975 - ETA: 1:06 - loss: 0.0726 - acc: 0.975 - ETA: 1:06 - loss: 0.0727 - acc: 0.975 - ETA: 1:06 - loss: 0.0727 - acc: 0.975 - ETA: 1:06 - loss: 0.0727 - acc: 0.975 - ETA: 1:06 - loss: 0.0725 - acc: 0.976 - ETA: 1:06 - loss: 0.0724 - acc: 0.976 - ETA: 1:06 - loss: 0.0726 - acc: 0.975 - ETA: 1:06 - loss: 0.0727 - acc: 0.975 - ETA: 1:06 - loss: 0.0730 - acc: 0.975 - ETA: 1:06 - loss: 0.0729 - acc: 0.975 - ETA: 1:05 - loss: 0.0731 - acc: 0.975 - ETA: 1:05 - loss: 0.0730 - acc: 0.975 - ETA: 1:05 - loss: 0.0730 - acc: 0.975 - ETA: 1:05 - loss: 0.0732 - acc: 0.975 - ETA: 1:05 - loss: 0.0732 - acc: 0.975 - ETA: 1:05 - loss: 0.0731 - acc: 0.975 - ETA: 1:05 - loss: 0.0730 - acc: 0.975 - ETA: 1:05 - loss: 0.0731 - acc: 0.975 - ETA: 1:05 - loss: 0.0730 - acc: 0.975 - ETA: 1:05 - loss: 0.0729 - acc: 0.975 - ETA: 1:05 - loss: 0.0729 - acc: 0.975 - ETA: 1:05 - loss: 0.0729 - acc: 0.975 - ETA: 1:05 - loss: 0.0728 - acc: 0.975 - ETA: 1:05 - loss: 0.0727 - acc: 0.975 - ETA: 1:05 - loss: 0.0727 - acc: 0.975 - ETA: 1:04 - loss: 0.0726 - acc: 0.975 - ETA: 1:04 - loss: 0.0727 - acc: 0.975 - ETA: 1:04 - loss: 0.0727 - acc: 0.975 - ETA: 1:04 - loss: 0.0727 - acc: 0.975 - ETA: 1:04 - loss: 0.0726 - acc: 0.975 - ETA: 1:04 - loss: 0.0727 - acc: 0.975 - ETA: 1:04 - loss: 0.0727 - acc: 0.975 - ETA: 1:04 - loss: 0.0726 - acc: 0.975 - ETA: 1:04 - loss: 0.0727 - acc: 0.975 - ETA: 1:04 - loss: 0.0725 - acc: 0.975 - ETA: 1:04 - loss: 0.0725 - acc: 0.976 - ETA: 1:04 - loss: 0.0725 - acc: 0.976 - ETA: 1:04 - loss: 0.0724 - acc: 0.976 - ETA: 1:04 - loss: 0.0724 - acc: 0.976 - ETA: 1:04 - loss: 0.0725 - acc: 0.976 - ETA: 1:04 - loss: 0.0725 - acc: 0.975 - ETA: 1:04 - loss: 0.0724 - acc: 0.976 - ETA: 1:03 - loss: 0.0724 - acc: 0.976 - ETA: 1:03 - loss: 0.0726 - acc: 0.975 - ETA: 1:03 - loss: 0.0726 - acc: 0.975 - ETA: 1:03 - loss: 0.0726 - acc: 0.975 - ETA: 1:03 - loss: 0.0725 - acc: 0.975 - ETA: 1:03 - loss: 0.0725 - acc: 0.976 - ETA: 1:03 - loss: 0.0724 - acc: 0.976 - ETA: 1:03 - loss: 0.0724 - acc: 0.976 - ETA: 1:03 - loss: 0.0724 - acc: 0.976 - ETA: 1:03 - loss: 0.0724 - acc: 0.976 - ETA: 1:03 - loss: 0.0725 - acc: 0.976 - ETA: 1:03 - loss: 0.0725 - acc: 0.976 - ETA: 1:03 - loss: 0.0724 - acc: 0.976 - ETA: 1:03 - loss: 0.0724 - acc: 0.976 - ETA: 1:03 - loss: 0.0725 - acc: 0.976 - ETA: 1:03 - loss: 0.0725 - acc: 0.975 - ETA: 1:02 - loss: 0.0726 - acc: 0.975 - ETA: 1:02 - loss: 0.0726 - acc: 0.975 - ETA: 1:02 - loss: 0.0727 - acc: 0.975 - ETA: 1:02 - loss: 0.0727 - acc: 0.975 - ETA: 1:02 - loss: 0.0727 - acc: 0.975 - ETA: 1:02 - loss: 0.0726 - acc: 0.975 - ETA: 1:02 - loss: 0.0727 - acc: 0.975 - ETA: 1:02 - loss: 0.0727 - acc: 0.975 - ETA: 1:02 - loss: 0.0726 - acc: 0.975 - ETA: 1:02 - loss: 0.0726 - acc: 0.975 - ETA: 1:02 - loss: 0.0725 - acc: 0.975 - ETA: 1:02 - loss: 0.0726 - acc: 0.975 - ETA: 1:02 - loss: 0.0726 - acc: 0.975 - ETA: 1:02 - loss: 0.0725 - acc: 0.975 - ETA: 1:02 - loss: 0.0727 - acc: 0.975 - ETA: 1:01 - loss: 0.0727 - acc: 0.975 - ETA: 1:01 - loss: 0.0727 - acc: 0.975 - ETA: 1:01 - loss: 0.0726 - acc: 0.975 - ETA: 1:01 - loss: 0.0726 - acc: 0.975 - ETA: 1:01 - loss: 0.0725 - acc: 0.975 - ETA: 1:01 - loss: 0.0724 - acc: 0.975 - ETA: 1:01 - loss: 0.0724 - acc: 0.975 - ETA: 1:01 - loss: 0.0724 - acc: 0.975 - ETA: 1:01 - loss: 0.0724 - acc: 0.975 - ETA: 1:01 - loss: 0.0723 - acc: 0.975 - ETA: 1:01 - loss: 0.0723 - acc: 0.975 - ETA: 1:01 - loss: 0.0725 - acc: 0.975 - ETA: 1:01 - loss: 0.0724 - acc: 0.975 - ETA: 1:01 - loss: 0.0723 - acc: 0.976 - ETA: 1:01 - loss: 0.0722 - acc: 0.976 - ETA: 1:01 - loss: 0.0723 - acc: 0.976 - ETA: 1:00 - loss: 0.0723 - acc: 0.976 - ETA: 1:00 - loss: 0.0723 - acc: 0.976 - ETA: 1:00 - loss: 0.0723 - acc: 0.975 - ETA: 1:00 - loss: 0.0724 - acc: 0.975 - ETA: 1:00 - loss: 0.0726 - acc: 0.975 - ETA: 1:00 - loss: 0.0726 - acc: 0.975 - ETA: 1:00 - loss: 0.0725 - acc: 0.975 - ETA: 1:00 - loss: 0.0729 - acc: 0.975 - ETA: 1:00 - loss: 0.0730 - acc: 0.975 - ETA: 1:00 - loss: 0.0731 - acc: 0.975 - ETA: 1:00 - loss: 0.0731 - acc: 0.975 - ETA: 1:00 - loss: 0.0731 - acc: 0.975 - ETA: 1:00 - loss: 0.0731 - acc: 0.975 - ETA: 1:00 - loss: 0.0731 - acc: 0.975 - ETA: 1:00 - loss: 0.0731 - acc: 0.975 - ETA: 1:00 - loss: 0.0730 - acc: 0.975 - ETA: 59s - loss: 0.0731 - acc: 0.975 - ETA: 59s - loss: 0.0730 - acc: 0.97 - ETA: 59s - loss: 0.0730 - acc: 0.97 - ETA: 59s - loss: 0.0730 - acc: 0.97 - ETA: 59s - loss: 0.0730 - acc: 0.97 - ETA: 59s - loss: 0.0731 - acc: 0.97 - ETA: 59s - loss: 0.0730 - acc: 0.97 - ETA: 59s - loss: 0.0730 - acc: 0.97 - ETA: 59s - loss: 0.0730 - acc: 0.97 - ETA: 59s - loss: 0.0730 - acc: 0.97 - ETA: 59s - loss: 0.0731 - acc: 0.97 - ETA: 59s - loss: 0.0731 - acc: 0.97 - ETA: 59s - loss: 0.0731 - acc: 0.97 - ETA: 59s - loss: 0.0731 - acc: 0.97 - ETA: 58s - loss: 0.0731 - acc: 0.97 - ETA: 58s - loss: 0.0730 - acc: 0.97 - ETA: 58s - loss: 0.0729 - acc: 0.97 - ETA: 58s - loss: 0.0731 - acc: 0.97 - ETA: 58s - loss: 0.0731 - acc: 0.97 - ETA: 58s - loss: 0.0730 - acc: 0.97 - ETA: 58s - loss: 0.0730 - acc: 0.97 - ETA: 58s - loss: 0.0729 - acc: 0.97 - ETA: 58s - loss: 0.0729 - acc: 0.97 - ETA: 58s - loss: 0.0729 - acc: 0.97 - ETA: 58s - loss: 0.0728 - acc: 0.97 - ETA: 58s - loss: 0.0729 - acc: 0.97 - ETA: 58s - loss: 0.0729 - acc: 0.97 - ETA: 58s - loss: 0.0729 - acc: 0.97 - ETA: 57s - loss: 0.0729 - acc: 0.97 - ETA: 57s - loss: 0.0730 - acc: 0.97 - ETA: 57s - loss: 0.0729 - acc: 0.97 - ETA: 57s - loss: 0.0730 - acc: 0.97 - ETA: 57s - loss: 0.0729 - acc: 0.97 - ETA: 57s - loss: 0.0728 - acc: 0.97 - ETA: 57s - loss: 0.0729 - acc: 0.97 - ETA: 57s - loss: 0.0728 - acc: 0.97 - ETA: 57s - loss: 0.0728 - acc: 0.97 - ETA: 57s - loss: 0.0728 - acc: 0.97 - ETA: 57s - loss: 0.0728 - acc: 0.9759"
     ]
    },
    {
     "name": "stdout",
     "output_type": "stream",
     "text": [
      " 59552/127656 [============>.................] - ETA: 57s - loss: 0.0728 - acc: 0.97 - ETA: 57s - loss: 0.0727 - acc: 0.97 - ETA: 57s - loss: 0.0727 - acc: 0.97 - ETA: 57s - loss: 0.0729 - acc: 0.97 - ETA: 56s - loss: 0.0729 - acc: 0.97 - ETA: 56s - loss: 0.0729 - acc: 0.97 - ETA: 56s - loss: 0.0729 - acc: 0.97 - ETA: 56s - loss: 0.0729 - acc: 0.97 - ETA: 56s - loss: 0.0730 - acc: 0.97 - ETA: 56s - loss: 0.0730 - acc: 0.97 - ETA: 56s - loss: 0.0729 - acc: 0.97 - ETA: 56s - loss: 0.0730 - acc: 0.97 - ETA: 56s - loss: 0.0730 - acc: 0.97 - ETA: 56s - loss: 0.0730 - acc: 0.97 - ETA: 56s - loss: 0.0730 - acc: 0.97 - ETA: 56s - loss: 0.0730 - acc: 0.97 - ETA: 56s - loss: 0.0729 - acc: 0.97 - ETA: 56s - loss: 0.0730 - acc: 0.97 - ETA: 56s - loss: 0.0731 - acc: 0.97 - ETA: 56s - loss: 0.0732 - acc: 0.97 - ETA: 55s - loss: 0.0733 - acc: 0.97 - ETA: 55s - loss: 0.0734 - acc: 0.97 - ETA: 55s - loss: 0.0734 - acc: 0.97 - ETA: 55s - loss: 0.0734 - acc: 0.97 - ETA: 55s - loss: 0.0734 - acc: 0.97 - ETA: 55s - loss: 0.0734 - acc: 0.97 - ETA: 55s - loss: 0.0733 - acc: 0.97 - ETA: 55s - loss: 0.0733 - acc: 0.97 - ETA: 55s - loss: 0.0734 - acc: 0.97 - ETA: 55s - loss: 0.0734 - acc: 0.97 - ETA: 55s - loss: 0.0734 - acc: 0.97 - ETA: 55s - loss: 0.0733 - acc: 0.97 - ETA: 55s - loss: 0.0734 - acc: 0.97 - ETA: 55s - loss: 0.0735 - acc: 0.97 - ETA: 54s - loss: 0.0734 - acc: 0.97 - ETA: 54s - loss: 0.0735 - acc: 0.97 - ETA: 54s - loss: 0.0735 - acc: 0.97 - ETA: 54s - loss: 0.0734 - acc: 0.97 - ETA: 54s - loss: 0.0734 - acc: 0.97 - ETA: 54s - loss: 0.0734 - acc: 0.97 - ETA: 54s - loss: 0.0733 - acc: 0.97 - ETA: 54s - loss: 0.0733 - acc: 0.97 - ETA: 54s - loss: 0.0733 - acc: 0.97 - ETA: 54s - loss: 0.0732 - acc: 0.97 - ETA: 54s - loss: 0.0732 - acc: 0.97 - ETA: 54s - loss: 0.0732 - acc: 0.97 - ETA: 54s - loss: 0.0732 - acc: 0.97 - ETA: 54s - loss: 0.0731 - acc: 0.97 - ETA: 54s - loss: 0.0730 - acc: 0.97 - ETA: 53s - loss: 0.0731 - acc: 0.97 - ETA: 53s - loss: 0.0730 - acc: 0.97 - ETA: 53s - loss: 0.0730 - acc: 0.97 - ETA: 53s - loss: 0.0730 - acc: 0.97 - ETA: 53s - loss: 0.0729 - acc: 0.97 - ETA: 53s - loss: 0.0729 - acc: 0.97 - ETA: 53s - loss: 0.0730 - acc: 0.97 - ETA: 53s - loss: 0.0730 - acc: 0.97 - ETA: 53s - loss: 0.0729 - acc: 0.97 - ETA: 53s - loss: 0.0730 - acc: 0.97 - ETA: 53s - loss: 0.0729 - acc: 0.97 - ETA: 53s - loss: 0.0729 - acc: 0.97 - ETA: 53s - loss: 0.0728 - acc: 0.97 - ETA: 53s - loss: 0.0728 - acc: 0.97 - ETA: 53s - loss: 0.0728 - acc: 0.97 - ETA: 52s - loss: 0.0728 - acc: 0.97 - ETA: 52s - loss: 0.0728 - acc: 0.97 - ETA: 52s - loss: 0.0728 - acc: 0.97 - ETA: 52s - loss: 0.0727 - acc: 0.97 - ETA: 52s - loss: 0.0727 - acc: 0.97 - ETA: 52s - loss: 0.0726 - acc: 0.97 - ETA: 52s - loss: 0.0726 - acc: 0.97 - ETA: 52s - loss: 0.0727 - acc: 0.97 - ETA: 52s - loss: 0.0727 - acc: 0.97 - ETA: 52s - loss: 0.0727 - acc: 0.97 - ETA: 52s - loss: 0.0726 - acc: 0.97 - ETA: 52s - loss: 0.0726 - acc: 0.97 - ETA: 52s - loss: 0.0725 - acc: 0.97 - ETA: 52s - loss: 0.0725 - acc: 0.97 - ETA: 52s - loss: 0.0724 - acc: 0.97 - ETA: 52s - loss: 0.0725 - acc: 0.97 - ETA: 51s - loss: 0.0724 - acc: 0.97 - ETA: 51s - loss: 0.0725 - acc: 0.97 - ETA: 51s - loss: 0.0724 - acc: 0.97 - ETA: 51s - loss: 0.0725 - acc: 0.97 - ETA: 51s - loss: 0.0725 - acc: 0.97 - ETA: 51s - loss: 0.0725 - acc: 0.97 - ETA: 51s - loss: 0.0725 - acc: 0.97 - ETA: 51s - loss: 0.0725 - acc: 0.97 - ETA: 51s - loss: 0.0724 - acc: 0.97 - ETA: 51s - loss: 0.0725 - acc: 0.97 - ETA: 51s - loss: 0.0725 - acc: 0.97 - ETA: 51s - loss: 0.0725 - acc: 0.97 - ETA: 51s - loss: 0.0725 - acc: 0.97 - ETA: 51s - loss: 0.0725 - acc: 0.97 - ETA: 51s - loss: 0.0726 - acc: 0.97 - ETA: 50s - loss: 0.0725 - acc: 0.97 - ETA: 50s - loss: 0.0725 - acc: 0.97 - ETA: 50s - loss: 0.0725 - acc: 0.97 - ETA: 50s - loss: 0.0725 - acc: 0.97 - ETA: 50s - loss: 0.0725 - acc: 0.97 - ETA: 50s - loss: 0.0724 - acc: 0.97 - ETA: 50s - loss: 0.0723 - acc: 0.97 - ETA: 50s - loss: 0.0723 - acc: 0.97 - ETA: 50s - loss: 0.0723 - acc: 0.97 - ETA: 50s - loss: 0.0723 - acc: 0.97 - ETA: 50s - loss: 0.0723 - acc: 0.97 - ETA: 50s - loss: 0.0724 - acc: 0.97 - ETA: 50s - loss: 0.0723 - acc: 0.97 - ETA: 50s - loss: 0.0723 - acc: 0.97 - ETA: 50s - loss: 0.0723 - acc: 0.97 - ETA: 50s - loss: 0.0723 - acc: 0.97 - ETA: 49s - loss: 0.0723 - acc: 0.97 - ETA: 49s - loss: 0.0723 - acc: 0.97 - ETA: 49s - loss: 0.0723 - acc: 0.97 - ETA: 49s - loss: 0.0723 - acc: 0.97 - ETA: 49s - loss: 0.0723 - acc: 0.97 - ETA: 49s - loss: 0.0722 - acc: 0.97 - ETA: 49s - loss: 0.0723 - acc: 0.97 - ETA: 49s - loss: 0.0724 - acc: 0.97 - ETA: 49s - loss: 0.0723 - acc: 0.97 - ETA: 49s - loss: 0.0723 - acc: 0.97 - ETA: 49s - loss: 0.0723 - acc: 0.97 - ETA: 49s - loss: 0.0723 - acc: 0.97 - ETA: 49s - loss: 0.0722 - acc: 0.97 - ETA: 49s - loss: 0.0722 - acc: 0.97 - ETA: 49s - loss: 0.0722 - acc: 0.97 - ETA: 48s - loss: 0.0722 - acc: 0.97 - ETA: 48s - loss: 0.0721 - acc: 0.97 - ETA: 48s - loss: 0.0721 - acc: 0.97 - ETA: 48s - loss: 0.0721 - acc: 0.97 - ETA: 48s - loss: 0.0721 - acc: 0.97 - ETA: 48s - loss: 0.0721 - acc: 0.97 - ETA: 48s - loss: 0.0720 - acc: 0.97 - ETA: 48s - loss: 0.0720 - acc: 0.97 - ETA: 48s - loss: 0.0720 - acc: 0.97 - ETA: 48s - loss: 0.0720 - acc: 0.97 - ETA: 48s - loss: 0.0720 - acc: 0.97 - ETA: 48s - loss: 0.0720 - acc: 0.97 - ETA: 48s - loss: 0.0720 - acc: 0.97 - ETA: 48s - loss: 0.0720 - acc: 0.97 - ETA: 48s - loss: 0.0721 - acc: 0.97 - ETA: 48s - loss: 0.0721 - acc: 0.97 - ETA: 47s - loss: 0.0721 - acc: 0.97 - ETA: 47s - loss: 0.0722 - acc: 0.97 - ETA: 47s - loss: 0.0722 - acc: 0.97 - ETA: 47s - loss: 0.0721 - acc: 0.97 - ETA: 47s - loss: 0.0721 - acc: 0.97 - ETA: 47s - loss: 0.0722 - acc: 0.97 - ETA: 47s - loss: 0.0722 - acc: 0.97 - ETA: 47s - loss: 0.0722 - acc: 0.97 - ETA: 47s - loss: 0.0723 - acc: 0.97 - ETA: 47s - loss: 0.0723 - acc: 0.97 - ETA: 47s - loss: 0.0723 - acc: 0.97 - ETA: 47s - loss: 0.0723 - acc: 0.97 - ETA: 47s - loss: 0.0723 - acc: 0.97 - ETA: 47s - loss: 0.0723 - acc: 0.97 - ETA: 47s - loss: 0.0722 - acc: 0.97 - ETA: 46s - loss: 0.0722 - acc: 0.97 - ETA: 46s - loss: 0.0722 - acc: 0.97 - ETA: 46s - loss: 0.0722 - acc: 0.97 - ETA: 46s - loss: 0.0722 - acc: 0.97 - ETA: 46s - loss: 0.0721 - acc: 0.97 - ETA: 46s - loss: 0.0721 - acc: 0.97 - ETA: 46s - loss: 0.0721 - acc: 0.97 - ETA: 46s - loss: 0.0720 - acc: 0.97 - ETA: 46s - loss: 0.0720 - acc: 0.97 - ETA: 46s - loss: 0.0720 - acc: 0.97 - ETA: 46s - loss: 0.0719 - acc: 0.97 - ETA: 46s - loss: 0.0719 - acc: 0.97 - ETA: 46s - loss: 0.0718 - acc: 0.97 - ETA: 46s - loss: 0.0719 - acc: 0.97 - ETA: 46s - loss: 0.0719 - acc: 0.97 - ETA: 46s - loss: 0.0718 - acc: 0.97 - ETA: 45s - loss: 0.0719 - acc: 0.97 - ETA: 45s - loss: 0.0719 - acc: 0.97 - ETA: 45s - loss: 0.0719 - acc: 0.97 - ETA: 45s - loss: 0.0719 - acc: 0.97 - ETA: 45s - loss: 0.0719 - acc: 0.97 - ETA: 45s - loss: 0.0719 - acc: 0.97 - ETA: 45s - loss: 0.0718 - acc: 0.97 - ETA: 45s - loss: 0.0719 - acc: 0.97 - ETA: 45s - loss: 0.0719 - acc: 0.97 - ETA: 45s - loss: 0.0720 - acc: 0.97 - ETA: 45s - loss: 0.0721 - acc: 0.97 - ETA: 45s - loss: 0.0721 - acc: 0.97 - ETA: 45s - loss: 0.0722 - acc: 0.97 - ETA: 45s - loss: 0.0722 - acc: 0.97 - ETA: 45s - loss: 0.0722 - acc: 0.97 - ETA: 45s - loss: 0.0722 - acc: 0.97 - ETA: 44s - loss: 0.0723 - acc: 0.97 - ETA: 44s - loss: 0.0723 - acc: 0.97 - ETA: 44s - loss: 0.0723 - acc: 0.97 - ETA: 44s - loss: 0.0723 - acc: 0.97 - ETA: 44s - loss: 0.0723 - acc: 0.97 - ETA: 44s - loss: 0.0723 - acc: 0.97 - ETA: 44s - loss: 0.0724 - acc: 0.97 - ETA: 44s - loss: 0.0725 - acc: 0.97 - ETA: 44s - loss: 0.0725 - acc: 0.97 - ETA: 44s - loss: 0.0724 - acc: 0.97 - ETA: 44s - loss: 0.0724 - acc: 0.97 - ETA: 44s - loss: 0.0725 - acc: 0.97 - ETA: 44s - loss: 0.0726 - acc: 0.97 - ETA: 44s - loss: 0.0726 - acc: 0.97 - ETA: 44s - loss: 0.0726 - acc: 0.97 - ETA: 44s - loss: 0.0726 - acc: 0.97 - ETA: 43s - loss: 0.0726 - acc: 0.97 - ETA: 43s - loss: 0.0726 - acc: 0.97 - ETA: 43s - loss: 0.0726 - acc: 0.97 - ETA: 43s - loss: 0.0726 - acc: 0.97 - ETA: 43s - loss: 0.0726 - acc: 0.97 - ETA: 43s - loss: 0.0726 - acc: 0.97 - ETA: 43s - loss: 0.0726 - acc: 0.97 - ETA: 43s - loss: 0.0726 - acc: 0.97 - ETA: 43s - loss: 0.0725 - acc: 0.97 - ETA: 43s - loss: 0.0725 - acc: 0.9760"
     ]
    },
    {
     "name": "stdout",
     "output_type": "stream",
     "text": [
      " 80160/127656 [=================>............] - ETA: 43s - loss: 0.0725 - acc: 0.97 - ETA: 43s - loss: 0.0725 - acc: 0.97 - ETA: 43s - loss: 0.0725 - acc: 0.97 - ETA: 43s - loss: 0.0726 - acc: 0.97 - ETA: 43s - loss: 0.0726 - acc: 0.97 - ETA: 42s - loss: 0.0725 - acc: 0.97 - ETA: 42s - loss: 0.0725 - acc: 0.97 - ETA: 42s - loss: 0.0725 - acc: 0.97 - ETA: 42s - loss: 0.0724 - acc: 0.97 - ETA: 42s - loss: 0.0724 - acc: 0.97 - ETA: 42s - loss: 0.0724 - acc: 0.97 - ETA: 42s - loss: 0.0724 - acc: 0.97 - ETA: 42s - loss: 0.0723 - acc: 0.97 - ETA: 42s - loss: 0.0723 - acc: 0.97 - ETA: 42s - loss: 0.0723 - acc: 0.97 - ETA: 42s - loss: 0.0723 - acc: 0.97 - ETA: 42s - loss: 0.0723 - acc: 0.97 - ETA: 42s - loss: 0.0723 - acc: 0.97 - ETA: 42s - loss: 0.0723 - acc: 0.97 - ETA: 42s - loss: 0.0724 - acc: 0.97 - ETA: 42s - loss: 0.0724 - acc: 0.97 - ETA: 41s - loss: 0.0724 - acc: 0.97 - ETA: 41s - loss: 0.0725 - acc: 0.97 - ETA: 41s - loss: 0.0725 - acc: 0.97 - ETA: 41s - loss: 0.0725 - acc: 0.97 - ETA: 41s - loss: 0.0725 - acc: 0.97 - ETA: 41s - loss: 0.0725 - acc: 0.97 - ETA: 41s - loss: 0.0725 - acc: 0.97 - ETA: 41s - loss: 0.0725 - acc: 0.97 - ETA: 41s - loss: 0.0725 - acc: 0.97 - ETA: 41s - loss: 0.0725 - acc: 0.97 - ETA: 41s - loss: 0.0725 - acc: 0.97 - ETA: 41s - loss: 0.0726 - acc: 0.97 - ETA: 41s - loss: 0.0725 - acc: 0.97 - ETA: 41s - loss: 0.0726 - acc: 0.97 - ETA: 41s - loss: 0.0726 - acc: 0.97 - ETA: 41s - loss: 0.0725 - acc: 0.97 - ETA: 40s - loss: 0.0726 - acc: 0.97 - ETA: 40s - loss: 0.0726 - acc: 0.97 - ETA: 40s - loss: 0.0726 - acc: 0.97 - ETA: 40s - loss: 0.0726 - acc: 0.97 - ETA: 40s - loss: 0.0725 - acc: 0.97 - ETA: 40s - loss: 0.0725 - acc: 0.97 - ETA: 40s - loss: 0.0725 - acc: 0.97 - ETA: 40s - loss: 0.0725 - acc: 0.97 - ETA: 40s - loss: 0.0725 - acc: 0.97 - ETA: 40s - loss: 0.0725 - acc: 0.97 - ETA: 40s - loss: 0.0725 - acc: 0.97 - ETA: 40s - loss: 0.0725 - acc: 0.97 - ETA: 40s - loss: 0.0724 - acc: 0.97 - ETA: 40s - loss: 0.0724 - acc: 0.97 - ETA: 40s - loss: 0.0725 - acc: 0.97 - ETA: 40s - loss: 0.0725 - acc: 0.97 - ETA: 39s - loss: 0.0725 - acc: 0.97 - ETA: 39s - loss: 0.0725 - acc: 0.97 - ETA: 39s - loss: 0.0725 - acc: 0.97 - ETA: 39s - loss: 0.0725 - acc: 0.97 - ETA: 39s - loss: 0.0725 - acc: 0.97 - ETA: 39s - loss: 0.0725 - acc: 0.97 - ETA: 39s - loss: 0.0725 - acc: 0.97 - ETA: 39s - loss: 0.0725 - acc: 0.97 - ETA: 39s - loss: 0.0725 - acc: 0.97 - ETA: 39s - loss: 0.0725 - acc: 0.97 - ETA: 39s - loss: 0.0725 - acc: 0.97 - ETA: 39s - loss: 0.0725 - acc: 0.97 - ETA: 39s - loss: 0.0725 - acc: 0.97 - ETA: 39s - loss: 0.0725 - acc: 0.97 - ETA: 39s - loss: 0.0725 - acc: 0.97 - ETA: 39s - loss: 0.0724 - acc: 0.97 - ETA: 38s - loss: 0.0724 - acc: 0.97 - ETA: 38s - loss: 0.0724 - acc: 0.97 - ETA: 38s - loss: 0.0724 - acc: 0.97 - ETA: 38s - loss: 0.0724 - acc: 0.97 - ETA: 38s - loss: 0.0724 - acc: 0.97 - ETA: 38s - loss: 0.0724 - acc: 0.97 - ETA: 38s - loss: 0.0723 - acc: 0.97 - ETA: 38s - loss: 0.0723 - acc: 0.97 - ETA: 38s - loss: 0.0723 - acc: 0.97 - ETA: 38s - loss: 0.0723 - acc: 0.97 - ETA: 38s - loss: 0.0724 - acc: 0.97 - ETA: 38s - loss: 0.0724 - acc: 0.97 - ETA: 38s - loss: 0.0723 - acc: 0.97 - ETA: 38s - loss: 0.0723 - acc: 0.97 - ETA: 38s - loss: 0.0725 - acc: 0.97 - ETA: 37s - loss: 0.0724 - acc: 0.97 - ETA: 37s - loss: 0.0725 - acc: 0.97 - ETA: 37s - loss: 0.0725 - acc: 0.97 - ETA: 37s - loss: 0.0724 - acc: 0.97 - ETA: 37s - loss: 0.0724 - acc: 0.97 - ETA: 37s - loss: 0.0725 - acc: 0.97 - ETA: 37s - loss: 0.0725 - acc: 0.97 - ETA: 37s - loss: 0.0725 - acc: 0.97 - ETA: 37s - loss: 0.0725 - acc: 0.97 - ETA: 37s - loss: 0.0725 - acc: 0.97 - ETA: 37s - loss: 0.0725 - acc: 0.97 - ETA: 37s - loss: 0.0725 - acc: 0.97 - ETA: 37s - loss: 0.0725 - acc: 0.97 - ETA: 37s - loss: 0.0725 - acc: 0.97 - ETA: 37s - loss: 0.0725 - acc: 0.97 - ETA: 37s - loss: 0.0725 - acc: 0.97 - ETA: 37s - loss: 0.0725 - acc: 0.97 - ETA: 36s - loss: 0.0725 - acc: 0.97 - ETA: 36s - loss: 0.0725 - acc: 0.97 - ETA: 36s - loss: 0.0725 - acc: 0.97 - ETA: 36s - loss: 0.0725 - acc: 0.97 - ETA: 36s - loss: 0.0725 - acc: 0.97 - ETA: 36s - loss: 0.0725 - acc: 0.97 - ETA: 36s - loss: 0.0725 - acc: 0.97 - ETA: 36s - loss: 0.0724 - acc: 0.97 - ETA: 36s - loss: 0.0725 - acc: 0.97 - ETA: 36s - loss: 0.0726 - acc: 0.97 - ETA: 36s - loss: 0.0726 - acc: 0.97 - ETA: 36s - loss: 0.0726 - acc: 0.97 - ETA: 36s - loss: 0.0726 - acc: 0.97 - ETA: 36s - loss: 0.0726 - acc: 0.97 - ETA: 36s - loss: 0.0726 - acc: 0.97 - ETA: 36s - loss: 0.0726 - acc: 0.97 - ETA: 35s - loss: 0.0725 - acc: 0.97 - ETA: 35s - loss: 0.0725 - acc: 0.97 - ETA: 35s - loss: 0.0725 - acc: 0.97 - ETA: 35s - loss: 0.0725 - acc: 0.97 - ETA: 35s - loss: 0.0725 - acc: 0.97 - ETA: 35s - loss: 0.0725 - acc: 0.97 - ETA: 35s - loss: 0.0725 - acc: 0.97 - ETA: 35s - loss: 0.0725 - acc: 0.97 - ETA: 35s - loss: 0.0726 - acc: 0.97 - ETA: 35s - loss: 0.0726 - acc: 0.97 - ETA: 35s - loss: 0.0726 - acc: 0.97 - ETA: 35s - loss: 0.0726 - acc: 0.97 - ETA: 35s - loss: 0.0726 - acc: 0.97 - ETA: 35s - loss: 0.0725 - acc: 0.97 - ETA: 35s - loss: 0.0726 - acc: 0.97 - ETA: 35s - loss: 0.0726 - acc: 0.97 - ETA: 34s - loss: 0.0726 - acc: 0.97 - ETA: 34s - loss: 0.0726 - acc: 0.97 - ETA: 34s - loss: 0.0727 - acc: 0.97 - ETA: 34s - loss: 0.0727 - acc: 0.97 - ETA: 34s - loss: 0.0728 - acc: 0.97 - ETA: 34s - loss: 0.0728 - acc: 0.97 - ETA: 34s - loss: 0.0728 - acc: 0.97 - ETA: 34s - loss: 0.0727 - acc: 0.97 - ETA: 34s - loss: 0.0728 - acc: 0.97 - ETA: 34s - loss: 0.0727 - acc: 0.97 - ETA: 34s - loss: 0.0727 - acc: 0.97 - ETA: 34s - loss: 0.0727 - acc: 0.97 - ETA: 34s - loss: 0.0727 - acc: 0.97 - ETA: 34s - loss: 0.0727 - acc: 0.97 - ETA: 34s - loss: 0.0728 - acc: 0.97 - ETA: 34s - loss: 0.0727 - acc: 0.97 - ETA: 33s - loss: 0.0727 - acc: 0.97 - ETA: 33s - loss: 0.0727 - acc: 0.97 - ETA: 33s - loss: 0.0727 - acc: 0.97 - ETA: 33s - loss: 0.0726 - acc: 0.97 - ETA: 33s - loss: 0.0726 - acc: 0.97 - ETA: 33s - loss: 0.0726 - acc: 0.97 - ETA: 33s - loss: 0.0726 - acc: 0.97 - ETA: 33s - loss: 0.0726 - acc: 0.97 - ETA: 33s - loss: 0.0726 - acc: 0.97 - ETA: 33s - loss: 0.0726 - acc: 0.97 - ETA: 33s - loss: 0.0725 - acc: 0.97 - ETA: 33s - loss: 0.0725 - acc: 0.97 - ETA: 33s - loss: 0.0725 - acc: 0.97 - ETA: 33s - loss: 0.0724 - acc: 0.97 - ETA: 33s - loss: 0.0724 - acc: 0.97 - ETA: 33s - loss: 0.0724 - acc: 0.97 - ETA: 32s - loss: 0.0723 - acc: 0.97 - ETA: 32s - loss: 0.0724 - acc: 0.97 - ETA: 32s - loss: 0.0724 - acc: 0.97 - ETA: 32s - loss: 0.0724 - acc: 0.97 - ETA: 32s - loss: 0.0724 - acc: 0.97 - ETA: 32s - loss: 0.0724 - acc: 0.97 - ETA: 32s - loss: 0.0723 - acc: 0.97 - ETA: 32s - loss: 0.0723 - acc: 0.97 - ETA: 32s - loss: 0.0723 - acc: 0.97 - ETA: 32s - loss: 0.0723 - acc: 0.97 - ETA: 32s - loss: 0.0723 - acc: 0.97 - ETA: 32s - loss: 0.0723 - acc: 0.97 - ETA: 32s - loss: 0.0723 - acc: 0.97 - ETA: 32s - loss: 0.0723 - acc: 0.97 - ETA: 32s - loss: 0.0722 - acc: 0.97 - ETA: 32s - loss: 0.0722 - acc: 0.97 - ETA: 32s - loss: 0.0722 - acc: 0.97 - ETA: 31s - loss: 0.0723 - acc: 0.97 - ETA: 31s - loss: 0.0722 - acc: 0.97 - ETA: 31s - loss: 0.0722 - acc: 0.97 - ETA: 31s - loss: 0.0722 - acc: 0.97 - ETA: 31s - loss: 0.0722 - acc: 0.97 - ETA: 31s - loss: 0.0722 - acc: 0.97 - ETA: 31s - loss: 0.0721 - acc: 0.97 - ETA: 31s - loss: 0.0721 - acc: 0.97 - ETA: 31s - loss: 0.0722 - acc: 0.97 - ETA: 31s - loss: 0.0722 - acc: 0.97 - ETA: 31s - loss: 0.0722 - acc: 0.97 - ETA: 31s - loss: 0.0722 - acc: 0.97 - ETA: 31s - loss: 0.0722 - acc: 0.97 - ETA: 31s - loss: 0.0722 - acc: 0.97 - ETA: 31s - loss: 0.0722 - acc: 0.97 - ETA: 31s - loss: 0.0722 - acc: 0.97 - ETA: 30s - loss: 0.0722 - acc: 0.97 - ETA: 30s - loss: 0.0722 - acc: 0.97 - ETA: 30s - loss: 0.0721 - acc: 0.97 - ETA: 30s - loss: 0.0721 - acc: 0.97 - ETA: 30s - loss: 0.0721 - acc: 0.97 - ETA: 30s - loss: 0.0722 - acc: 0.97 - ETA: 30s - loss: 0.0722 - acc: 0.97 - ETA: 30s - loss: 0.0722 - acc: 0.97 - ETA: 30s - loss: 0.0722 - acc: 0.97 - ETA: 30s - loss: 0.0722 - acc: 0.97 - ETA: 30s - loss: 0.0721 - acc: 0.97 - ETA: 30s - loss: 0.0721 - acc: 0.97 - ETA: 30s - loss: 0.0721 - acc: 0.97 - ETA: 30s - loss: 0.0721 - acc: 0.97 - ETA: 30s - loss: 0.0721 - acc: 0.97 - ETA: 30s - loss: 0.0721 - acc: 0.97 - ETA: 29s - loss: 0.0721 - acc: 0.9763"
     ]
    },
    {
     "name": "stdout",
     "output_type": "stream",
     "text": [
      "100608/127656 [======================>.......] - ETA: 29s - loss: 0.0720 - acc: 0.97 - ETA: 29s - loss: 0.0720 - acc: 0.97 - ETA: 29s - loss: 0.0719 - acc: 0.97 - ETA: 29s - loss: 0.0720 - acc: 0.97 - ETA: 29s - loss: 0.0720 - acc: 0.97 - ETA: 29s - loss: 0.0720 - acc: 0.97 - ETA: 29s - loss: 0.0720 - acc: 0.97 - ETA: 29s - loss: 0.0720 - acc: 0.97 - ETA: 29s - loss: 0.0720 - acc: 0.97 - ETA: 29s - loss: 0.0719 - acc: 0.97 - ETA: 29s - loss: 0.0719 - acc: 0.97 - ETA: 29s - loss: 0.0719 - acc: 0.97 - ETA: 29s - loss: 0.0719 - acc: 0.97 - ETA: 29s - loss: 0.0719 - acc: 0.97 - ETA: 29s - loss: 0.0719 - acc: 0.97 - ETA: 29s - loss: 0.0718 - acc: 0.97 - ETA: 28s - loss: 0.0718 - acc: 0.97 - ETA: 28s - loss: 0.0718 - acc: 0.97 - ETA: 28s - loss: 0.0718 - acc: 0.97 - ETA: 28s - loss: 0.0718 - acc: 0.97 - ETA: 28s - loss: 0.0717 - acc: 0.97 - ETA: 28s - loss: 0.0717 - acc: 0.97 - ETA: 28s - loss: 0.0717 - acc: 0.97 - ETA: 28s - loss: 0.0717 - acc: 0.97 - ETA: 28s - loss: 0.0717 - acc: 0.97 - ETA: 28s - loss: 0.0717 - acc: 0.97 - ETA: 28s - loss: 0.0717 - acc: 0.97 - ETA: 28s - loss: 0.0717 - acc: 0.97 - ETA: 28s - loss: 0.0717 - acc: 0.97 - ETA: 28s - loss: 0.0717 - acc: 0.97 - ETA: 28s - loss: 0.0717 - acc: 0.97 - ETA: 28s - loss: 0.0717 - acc: 0.97 - ETA: 27s - loss: 0.0716 - acc: 0.97 - ETA: 27s - loss: 0.0716 - acc: 0.97 - ETA: 27s - loss: 0.0716 - acc: 0.97 - ETA: 27s - loss: 0.0716 - acc: 0.97 - ETA: 27s - loss: 0.0716 - acc: 0.97 - ETA: 27s - loss: 0.0715 - acc: 0.97 - ETA: 27s - loss: 0.0715 - acc: 0.97 - ETA: 27s - loss: 0.0715 - acc: 0.97 - ETA: 27s - loss: 0.0715 - acc: 0.97 - ETA: 27s - loss: 0.0715 - acc: 0.97 - ETA: 27s - loss: 0.0715 - acc: 0.97 - ETA: 27s - loss: 0.0715 - acc: 0.97 - ETA: 27s - loss: 0.0715 - acc: 0.97 - ETA: 27s - loss: 0.0715 - acc: 0.97 - ETA: 27s - loss: 0.0715 - acc: 0.97 - ETA: 27s - loss: 0.0714 - acc: 0.97 - ETA: 26s - loss: 0.0714 - acc: 0.97 - ETA: 26s - loss: 0.0714 - acc: 0.97 - ETA: 26s - loss: 0.0713 - acc: 0.97 - ETA: 26s - loss: 0.0714 - acc: 0.97 - ETA: 26s - loss: 0.0714 - acc: 0.97 - ETA: 26s - loss: 0.0714 - acc: 0.97 - ETA: 26s - loss: 0.0714 - acc: 0.97 - ETA: 26s - loss: 0.0714 - acc: 0.97 - ETA: 26s - loss: 0.0714 - acc: 0.97 - ETA: 26s - loss: 0.0713 - acc: 0.97 - ETA: 26s - loss: 0.0714 - acc: 0.97 - ETA: 26s - loss: 0.0714 - acc: 0.97 - ETA: 26s - loss: 0.0714 - acc: 0.97 - ETA: 26s - loss: 0.0714 - acc: 0.97 - ETA: 26s - loss: 0.0714 - acc: 0.97 - ETA: 26s - loss: 0.0713 - acc: 0.97 - ETA: 26s - loss: 0.0713 - acc: 0.97 - ETA: 25s - loss: 0.0713 - acc: 0.97 - ETA: 25s - loss: 0.0713 - acc: 0.97 - ETA: 25s - loss: 0.0713 - acc: 0.97 - ETA: 25s - loss: 0.0713 - acc: 0.97 - ETA: 25s - loss: 0.0713 - acc: 0.97 - ETA: 25s - loss: 0.0713 - acc: 0.97 - ETA: 25s - loss: 0.0713 - acc: 0.97 - ETA: 25s - loss: 0.0713 - acc: 0.97 - ETA: 25s - loss: 0.0712 - acc: 0.97 - ETA: 25s - loss: 0.0712 - acc: 0.97 - ETA: 25s - loss: 0.0712 - acc: 0.97 - ETA: 25s - loss: 0.0712 - acc: 0.97 - ETA: 25s - loss: 0.0712 - acc: 0.97 - ETA: 25s - loss: 0.0712 - acc: 0.97 - ETA: 25s - loss: 0.0712 - acc: 0.97 - ETA: 25s - loss: 0.0712 - acc: 0.97 - ETA: 25s - loss: 0.0712 - acc: 0.97 - ETA: 24s - loss: 0.0711 - acc: 0.97 - ETA: 24s - loss: 0.0711 - acc: 0.97 - ETA: 24s - loss: 0.0711 - acc: 0.97 - ETA: 24s - loss: 0.0711 - acc: 0.97 - ETA: 24s - loss: 0.0712 - acc: 0.97 - ETA: 24s - loss: 0.0711 - acc: 0.97 - ETA: 24s - loss: 0.0711 - acc: 0.97 - ETA: 24s - loss: 0.0712 - acc: 0.97 - ETA: 24s - loss: 0.0712 - acc: 0.97 - ETA: 24s - loss: 0.0712 - acc: 0.97 - ETA: 24s - loss: 0.0712 - acc: 0.97 - ETA: 24s - loss: 0.0711 - acc: 0.97 - ETA: 24s - loss: 0.0711 - acc: 0.97 - ETA: 24s - loss: 0.0711 - acc: 0.97 - ETA: 24s - loss: 0.0711 - acc: 0.97 - ETA: 24s - loss: 0.0711 - acc: 0.97 - ETA: 23s - loss: 0.0711 - acc: 0.97 - ETA: 23s - loss: 0.0712 - acc: 0.97 - ETA: 23s - loss: 0.0712 - acc: 0.97 - ETA: 23s - loss: 0.0711 - acc: 0.97 - ETA: 23s - loss: 0.0711 - acc: 0.97 - ETA: 23s - loss: 0.0711 - acc: 0.97 - ETA: 23s - loss: 0.0712 - acc: 0.97 - ETA: 23s - loss: 0.0711 - acc: 0.97 - ETA: 23s - loss: 0.0711 - acc: 0.97 - ETA: 23s - loss: 0.0711 - acc: 0.97 - ETA: 23s - loss: 0.0711 - acc: 0.97 - ETA: 23s - loss: 0.0711 - acc: 0.97 - ETA: 23s - loss: 0.0711 - acc: 0.97 - ETA: 23s - loss: 0.0711 - acc: 0.97 - ETA: 23s - loss: 0.0711 - acc: 0.97 - ETA: 23s - loss: 0.0710 - acc: 0.97 - ETA: 23s - loss: 0.0710 - acc: 0.97 - ETA: 22s - loss: 0.0710 - acc: 0.97 - ETA: 22s - loss: 0.0710 - acc: 0.97 - ETA: 22s - loss: 0.0710 - acc: 0.97 - ETA: 22s - loss: 0.0710 - acc: 0.97 - ETA: 22s - loss: 0.0710 - acc: 0.97 - ETA: 22s - loss: 0.0710 - acc: 0.97 - ETA: 22s - loss: 0.0710 - acc: 0.97 - ETA: 22s - loss: 0.0710 - acc: 0.97 - ETA: 22s - loss: 0.0710 - acc: 0.97 - ETA: 22s - loss: 0.0709 - acc: 0.97 - ETA: 22s - loss: 0.0709 - acc: 0.97 - ETA: 22s - loss: 0.0709 - acc: 0.97 - ETA: 22s - loss: 0.0710 - acc: 0.97 - ETA: 22s - loss: 0.0709 - acc: 0.97 - ETA: 22s - loss: 0.0709 - acc: 0.97 - ETA: 22s - loss: 0.0710 - acc: 0.97 - ETA: 21s - loss: 0.0710 - acc: 0.97 - ETA: 21s - loss: 0.0710 - acc: 0.97 - ETA: 21s - loss: 0.0709 - acc: 0.97 - ETA: 21s - loss: 0.0709 - acc: 0.97 - ETA: 21s - loss: 0.0709 - acc: 0.97 - ETA: 21s - loss: 0.0709 - acc: 0.97 - ETA: 21s - loss: 0.0709 - acc: 0.97 - ETA: 21s - loss: 0.0710 - acc: 0.97 - ETA: 21s - loss: 0.0710 - acc: 0.97 - ETA: 21s - loss: 0.0710 - acc: 0.97 - ETA: 21s - loss: 0.0710 - acc: 0.97 - ETA: 21s - loss: 0.0710 - acc: 0.97 - ETA: 21s - loss: 0.0709 - acc: 0.97 - ETA: 21s - loss: 0.0709 - acc: 0.97 - ETA: 21s - loss: 0.0709 - acc: 0.97 - ETA: 21s - loss: 0.0709 - acc: 0.97 - ETA: 21s - loss: 0.0709 - acc: 0.97 - ETA: 20s - loss: 0.0709 - acc: 0.97 - ETA: 20s - loss: 0.0709 - acc: 0.97 - ETA: 20s - loss: 0.0709 - acc: 0.97 - ETA: 20s - loss: 0.0709 - acc: 0.97 - ETA: 20s - loss: 0.0709 - acc: 0.97 - ETA: 20s - loss: 0.0709 - acc: 0.97 - ETA: 20s - loss: 0.0709 - acc: 0.97 - ETA: 20s - loss: 0.0709 - acc: 0.97 - ETA: 20s - loss: 0.0709 - acc: 0.97 - ETA: 20s - loss: 0.0709 - acc: 0.97 - ETA: 20s - loss: 0.0709 - acc: 0.97 - ETA: 20s - loss: 0.0709 - acc: 0.97 - ETA: 20s - loss: 0.0710 - acc: 0.97 - ETA: 20s - loss: 0.0710 - acc: 0.97 - ETA: 20s - loss: 0.0709 - acc: 0.97 - ETA: 20s - loss: 0.0709 - acc: 0.97 - ETA: 19s - loss: 0.0709 - acc: 0.97 - ETA: 19s - loss: 0.0709 - acc: 0.97 - ETA: 19s - loss: 0.0709 - acc: 0.97 - ETA: 19s - loss: 0.0709 - acc: 0.97 - ETA: 19s - loss: 0.0709 - acc: 0.97 - ETA: 19s - loss: 0.0709 - acc: 0.97 - ETA: 19s - loss: 0.0709 - acc: 0.97 - ETA: 19s - loss: 0.0709 - acc: 0.97 - ETA: 19s - loss: 0.0709 - acc: 0.97 - ETA: 19s - loss: 0.0708 - acc: 0.97 - ETA: 19s - loss: 0.0708 - acc: 0.97 - ETA: 19s - loss: 0.0708 - acc: 0.97 - ETA: 19s - loss: 0.0708 - acc: 0.97 - ETA: 19s - loss: 0.0708 - acc: 0.97 - ETA: 19s - loss: 0.0708 - acc: 0.97 - ETA: 19s - loss: 0.0707 - acc: 0.97 - ETA: 19s - loss: 0.0708 - acc: 0.97 - ETA: 19s - loss: 0.0708 - acc: 0.97 - ETA: 18s - loss: 0.0708 - acc: 0.97 - ETA: 18s - loss: 0.0708 - acc: 0.97 - ETA: 18s - loss: 0.0708 - acc: 0.97 - ETA: 18s - loss: 0.0708 - acc: 0.97 - ETA: 18s - loss: 0.0708 - acc: 0.97 - ETA: 18s - loss: 0.0708 - acc: 0.97 - ETA: 18s - loss: 0.0708 - acc: 0.97 - ETA: 18s - loss: 0.0708 - acc: 0.97 - ETA: 18s - loss: 0.0708 - acc: 0.97 - ETA: 18s - loss: 0.0708 - acc: 0.97 - ETA: 18s - loss: 0.0707 - acc: 0.97 - ETA: 18s - loss: 0.0707 - acc: 0.97 - ETA: 18s - loss: 0.0707 - acc: 0.97 - ETA: 18s - loss: 0.0707 - acc: 0.97 - ETA: 18s - loss: 0.0707 - acc: 0.97 - ETA: 18s - loss: 0.0707 - acc: 0.97 - ETA: 17s - loss: 0.0707 - acc: 0.97 - ETA: 17s - loss: 0.0707 - acc: 0.97 - ETA: 17s - loss: 0.0707 - acc: 0.97 - ETA: 17s - loss: 0.0707 - acc: 0.97 - ETA: 17s - loss: 0.0707 - acc: 0.97 - ETA: 17s - loss: 0.0707 - acc: 0.97 - ETA: 17s - loss: 0.0706 - acc: 0.97 - ETA: 17s - loss: 0.0707 - acc: 0.97 - ETA: 17s - loss: 0.0707 - acc: 0.97 - ETA: 17s - loss: 0.0707 - acc: 0.97 - ETA: 17s - loss: 0.0707 - acc: 0.97 - ETA: 17s - loss: 0.0707 - acc: 0.97 - ETA: 17s - loss: 0.0706 - acc: 0.97 - ETA: 17s - loss: 0.0706 - acc: 0.97 - ETA: 17s - loss: 0.0706 - acc: 0.97 - ETA: 17s - loss: 0.0706 - acc: 0.97 - ETA: 17s - loss: 0.0706 - acc: 0.9768"
     ]
    },
    {
     "name": "stdout",
     "output_type": "stream",
     "text": [
      "121216/127656 [===========================>..] - ETA: 16s - loss: 0.0706 - acc: 0.97 - ETA: 16s - loss: 0.0706 - acc: 0.97 - ETA: 16s - loss: 0.0707 - acc: 0.97 - ETA: 16s - loss: 0.0707 - acc: 0.97 - ETA: 16s - loss: 0.0707 - acc: 0.97 - ETA: 16s - loss: 0.0707 - acc: 0.97 - ETA: 16s - loss: 0.0707 - acc: 0.97 - ETA: 16s - loss: 0.0707 - acc: 0.97 - ETA: 16s - loss: 0.0707 - acc: 0.97 - ETA: 16s - loss: 0.0707 - acc: 0.97 - ETA: 16s - loss: 0.0707 - acc: 0.97 - ETA: 16s - loss: 0.0707 - acc: 0.97 - ETA: 16s - loss: 0.0707 - acc: 0.97 - ETA: 16s - loss: 0.0707 - acc: 0.97 - ETA: 16s - loss: 0.0708 - acc: 0.97 - ETA: 16s - loss: 0.0708 - acc: 0.97 - ETA: 16s - loss: 0.0707 - acc: 0.97 - ETA: 15s - loss: 0.0707 - acc: 0.97 - ETA: 15s - loss: 0.0707 - acc: 0.97 - ETA: 15s - loss: 0.0708 - acc: 0.97 - ETA: 15s - loss: 0.0708 - acc: 0.97 - ETA: 15s - loss: 0.0708 - acc: 0.97 - ETA: 15s - loss: 0.0708 - acc: 0.97 - ETA: 15s - loss: 0.0707 - acc: 0.97 - ETA: 15s - loss: 0.0708 - acc: 0.97 - ETA: 15s - loss: 0.0707 - acc: 0.97 - ETA: 15s - loss: 0.0707 - acc: 0.97 - ETA: 15s - loss: 0.0707 - acc: 0.97 - ETA: 15s - loss: 0.0707 - acc: 0.97 - ETA: 15s - loss: 0.0707 - acc: 0.97 - ETA: 15s - loss: 0.0707 - acc: 0.97 - ETA: 15s - loss: 0.0707 - acc: 0.97 - ETA: 15s - loss: 0.0707 - acc: 0.97 - ETA: 14s - loss: 0.0707 - acc: 0.97 - ETA: 14s - loss: 0.0707 - acc: 0.97 - ETA: 14s - loss: 0.0707 - acc: 0.97 - ETA: 14s - loss: 0.0707 - acc: 0.97 - ETA: 14s - loss: 0.0707 - acc: 0.97 - ETA: 14s - loss: 0.0707 - acc: 0.97 - ETA: 14s - loss: 0.0707 - acc: 0.97 - ETA: 14s - loss: 0.0707 - acc: 0.97 - ETA: 14s - loss: 0.0707 - acc: 0.97 - ETA: 14s - loss: 0.0707 - acc: 0.97 - ETA: 14s - loss: 0.0707 - acc: 0.97 - ETA: 14s - loss: 0.0707 - acc: 0.97 - ETA: 14s - loss: 0.0708 - acc: 0.97 - ETA: 14s - loss: 0.0707 - acc: 0.97 - ETA: 14s - loss: 0.0707 - acc: 0.97 - ETA: 14s - loss: 0.0707 - acc: 0.97 - ETA: 14s - loss: 0.0707 - acc: 0.97 - ETA: 13s - loss: 0.0707 - acc: 0.97 - ETA: 13s - loss: 0.0707 - acc: 0.97 - ETA: 13s - loss: 0.0707 - acc: 0.97 - ETA: 13s - loss: 0.0707 - acc: 0.97 - ETA: 13s - loss: 0.0707 - acc: 0.97 - ETA: 13s - loss: 0.0708 - acc: 0.97 - ETA: 13s - loss: 0.0708 - acc: 0.97 - ETA: 13s - loss: 0.0707 - acc: 0.97 - ETA: 13s - loss: 0.0707 - acc: 0.97 - ETA: 13s - loss: 0.0707 - acc: 0.97 - ETA: 13s - loss: 0.0708 - acc: 0.97 - ETA: 13s - loss: 0.0707 - acc: 0.97 - ETA: 13s - loss: 0.0707 - acc: 0.97 - ETA: 13s - loss: 0.0708 - acc: 0.97 - ETA: 13s - loss: 0.0707 - acc: 0.97 - ETA: 13s - loss: 0.0707 - acc: 0.97 - ETA: 12s - loss: 0.0707 - acc: 0.97 - ETA: 12s - loss: 0.0707 - acc: 0.97 - ETA: 12s - loss: 0.0707 - acc: 0.97 - ETA: 12s - loss: 0.0706 - acc: 0.97 - ETA: 12s - loss: 0.0706 - acc: 0.97 - ETA: 12s - loss: 0.0706 - acc: 0.97 - ETA: 12s - loss: 0.0706 - acc: 0.97 - ETA: 12s - loss: 0.0706 - acc: 0.97 - ETA: 12s - loss: 0.0705 - acc: 0.97 - ETA: 12s - loss: 0.0705 - acc: 0.97 - ETA: 12s - loss: 0.0706 - acc: 0.97 - ETA: 12s - loss: 0.0706 - acc: 0.97 - ETA: 12s - loss: 0.0705 - acc: 0.97 - ETA: 12s - loss: 0.0705 - acc: 0.97 - ETA: 12s - loss: 0.0705 - acc: 0.97 - ETA: 12s - loss: 0.0705 - acc: 0.97 - ETA: 12s - loss: 0.0705 - acc: 0.97 - ETA: 11s - loss: 0.0705 - acc: 0.97 - ETA: 11s - loss: 0.0705 - acc: 0.97 - ETA: 11s - loss: 0.0705 - acc: 0.97 - ETA: 11s - loss: 0.0705 - acc: 0.97 - ETA: 11s - loss: 0.0705 - acc: 0.97 - ETA: 11s - loss: 0.0704 - acc: 0.97 - ETA: 11s - loss: 0.0704 - acc: 0.97 - ETA: 11s - loss: 0.0704 - acc: 0.97 - ETA: 11s - loss: 0.0704 - acc: 0.97 - ETA: 11s - loss: 0.0704 - acc: 0.97 - ETA: 11s - loss: 0.0704 - acc: 0.97 - ETA: 11s - loss: 0.0704 - acc: 0.97 - ETA: 11s - loss: 0.0704 - acc: 0.97 - ETA: 11s - loss: 0.0704 - acc: 0.97 - ETA: 11s - loss: 0.0704 - acc: 0.97 - ETA: 11s - loss: 0.0704 - acc: 0.97 - ETA: 10s - loss: 0.0704 - acc: 0.97 - ETA: 10s - loss: 0.0704 - acc: 0.97 - ETA: 10s - loss: 0.0703 - acc: 0.97 - ETA: 10s - loss: 0.0703 - acc: 0.97 - ETA: 10s - loss: 0.0703 - acc: 0.97 - ETA: 10s - loss: 0.0704 - acc: 0.97 - ETA: 10s - loss: 0.0704 - acc: 0.97 - ETA: 10s - loss: 0.0703 - acc: 0.97 - ETA: 10s - loss: 0.0704 - acc: 0.97 - ETA: 10s - loss: 0.0704 - acc: 0.97 - ETA: 10s - loss: 0.0704 - acc: 0.97 - ETA: 10s - loss: 0.0704 - acc: 0.97 - ETA: 10s - loss: 0.0704 - acc: 0.97 - ETA: 10s - loss: 0.0704 - acc: 0.97 - ETA: 10s - loss: 0.0704 - acc: 0.97 - ETA: 10s - loss: 0.0703 - acc: 0.97 - ETA: 10s - loss: 0.0703 - acc: 0.97 - ETA: 9s - loss: 0.0703 - acc: 0.9769 - ETA: 9s - loss: 0.0703 - acc: 0.976 - ETA: 9s - loss: 0.0703 - acc: 0.976 - ETA: 9s - loss: 0.0703 - acc: 0.976 - ETA: 9s - loss: 0.0703 - acc: 0.976 - ETA: 9s - loss: 0.0703 - acc: 0.976 - ETA: 9s - loss: 0.0703 - acc: 0.976 - ETA: 9s - loss: 0.0703 - acc: 0.976 - ETA: 9s - loss: 0.0703 - acc: 0.976 - ETA: 9s - loss: 0.0702 - acc: 0.976 - ETA: 9s - loss: 0.0702 - acc: 0.976 - ETA: 9s - loss: 0.0703 - acc: 0.976 - ETA: 9s - loss: 0.0702 - acc: 0.976 - ETA: 9s - loss: 0.0702 - acc: 0.976 - ETA: 9s - loss: 0.0702 - acc: 0.976 - ETA: 9s - loss: 0.0702 - acc: 0.976 - ETA: 8s - loss: 0.0702 - acc: 0.976 - ETA: 8s - loss: 0.0702 - acc: 0.976 - ETA: 8s - loss: 0.0702 - acc: 0.976 - ETA: 8s - loss: 0.0702 - acc: 0.976 - ETA: 8s - loss: 0.0702 - acc: 0.976 - ETA: 8s - loss: 0.0702 - acc: 0.976 - ETA: 8s - loss: 0.0702 - acc: 0.976 - ETA: 8s - loss: 0.0702 - acc: 0.976 - ETA: 8s - loss: 0.0702 - acc: 0.976 - ETA: 8s - loss: 0.0702 - acc: 0.976 - ETA: 8s - loss: 0.0702 - acc: 0.976 - ETA: 8s - loss: 0.0702 - acc: 0.976 - ETA: 8s - loss: 0.0702 - acc: 0.976 - ETA: 8s - loss: 0.0702 - acc: 0.976 - ETA: 8s - loss: 0.0702 - acc: 0.976 - ETA: 8s - loss: 0.0702 - acc: 0.976 - ETA: 8s - loss: 0.0702 - acc: 0.976 - ETA: 7s - loss: 0.0702 - acc: 0.976 - ETA: 7s - loss: 0.0702 - acc: 0.976 - ETA: 7s - loss: 0.0702 - acc: 0.976 - ETA: 7s - loss: 0.0702 - acc: 0.976 - ETA: 7s - loss: 0.0702 - acc: 0.976 - ETA: 7s - loss: 0.0702 - acc: 0.976 - ETA: 7s - loss: 0.0701 - acc: 0.976 - ETA: 7s - loss: 0.0701 - acc: 0.976 - ETA: 7s - loss: 0.0702 - acc: 0.976 - ETA: 7s - loss: 0.0702 - acc: 0.976 - ETA: 7s - loss: 0.0702 - acc: 0.976 - ETA: 7s - loss: 0.0702 - acc: 0.976 - ETA: 7s - loss: 0.0701 - acc: 0.976 - ETA: 7s - loss: 0.0702 - acc: 0.976 - ETA: 7s - loss: 0.0702 - acc: 0.976 - ETA: 7s - loss: 0.0701 - acc: 0.976 - ETA: 6s - loss: 0.0701 - acc: 0.976 - ETA: 6s - loss: 0.0701 - acc: 0.976 - ETA: 6s - loss: 0.0701 - acc: 0.976 - ETA: 6s - loss: 0.0701 - acc: 0.976 - ETA: 6s - loss: 0.0701 - acc: 0.976 - ETA: 6s - loss: 0.0702 - acc: 0.976 - ETA: 6s - loss: 0.0702 - acc: 0.976 - ETA: 6s - loss: 0.0701 - acc: 0.976 - ETA: 6s - loss: 0.0702 - acc: 0.976 - ETA: 6s - loss: 0.0701 - acc: 0.976 - ETA: 6s - loss: 0.0701 - acc: 0.976 - ETA: 6s - loss: 0.0701 - acc: 0.976 - ETA: 6s - loss: 0.0701 - acc: 0.976 - ETA: 6s - loss: 0.0701 - acc: 0.977 - ETA: 6s - loss: 0.0701 - acc: 0.977 - ETA: 6s - loss: 0.0701 - acc: 0.977 - ETA: 6s - loss: 0.0700 - acc: 0.977 - ETA: 5s - loss: 0.0700 - acc: 0.977 - ETA: 5s - loss: 0.0700 - acc: 0.977 - ETA: 5s - loss: 0.0700 - acc: 0.977 - ETA: 5s - loss: 0.0700 - acc: 0.977 - ETA: 5s - loss: 0.0700 - acc: 0.977 - ETA: 5s - loss: 0.0700 - acc: 0.977 - ETA: 5s - loss: 0.0700 - acc: 0.977 - ETA: 5s - loss: 0.0700 - acc: 0.977 - ETA: 5s - loss: 0.0700 - acc: 0.977 - ETA: 5s - loss: 0.0699 - acc: 0.977 - ETA: 5s - loss: 0.0699 - acc: 0.977 - ETA: 5s - loss: 0.0699 - acc: 0.977 - ETA: 5s - loss: 0.0699 - acc: 0.977 - ETA: 5s - loss: 0.0699 - acc: 0.977 - ETA: 5s - loss: 0.0699 - acc: 0.977 - ETA: 5s - loss: 0.0699 - acc: 0.977 - ETA: 5s - loss: 0.0698 - acc: 0.977 - ETA: 4s - loss: 0.0698 - acc: 0.977 - ETA: 4s - loss: 0.0698 - acc: 0.977 - ETA: 4s - loss: 0.0698 - acc: 0.977 - ETA: 4s - loss: 0.0698 - acc: 0.977 - ETA: 4s - loss: 0.0698 - acc: 0.977 - ETA: 4s - loss: 0.0698 - acc: 0.977 - ETA: 4s - loss: 0.0698 - acc: 0.977 - ETA: 4s - loss: 0.0698 - acc: 0.977 - ETA: 4s - loss: 0.0698 - acc: 0.977 - ETA: 4s - loss: 0.0697 - acc: 0.977 - ETA: 4s - loss: 0.0698 - acc: 0.977 - ETA: 4s - loss: 0.0698 - acc: 0.977 - ETA: 4s - loss: 0.0698 - acc: 0.977 - ETA: 4s - loss: 0.0698 - acc: 0.977 - ETA: 4s - loss: 0.0698 - acc: 0.977 - ETA: 4s - loss: 0.0698 - acc: 0.9770"
     ]
    },
    {
     "name": "stdout",
     "output_type": "stream",
     "text": [
      "127656/127656 [==============================] - ETA: 3s - loss: 0.0698 - acc: 0.977 - ETA: 3s - loss: 0.0698 - acc: 0.977 - ETA: 3s - loss: 0.0698 - acc: 0.977 - ETA: 3s - loss: 0.0698 - acc: 0.977 - ETA: 3s - loss: 0.0698 - acc: 0.977 - ETA: 3s - loss: 0.0698 - acc: 0.977 - ETA: 3s - loss: 0.0698 - acc: 0.977 - ETA: 3s - loss: 0.0698 - acc: 0.977 - ETA: 3s - loss: 0.0698 - acc: 0.977 - ETA: 3s - loss: 0.0698 - acc: 0.977 - ETA: 3s - loss: 0.0698 - acc: 0.977 - ETA: 3s - loss: 0.0698 - acc: 0.977 - ETA: 3s - loss: 0.0698 - acc: 0.977 - ETA: 3s - loss: 0.0698 - acc: 0.977 - ETA: 3s - loss: 0.0698 - acc: 0.977 - ETA: 3s - loss: 0.0698 - acc: 0.977 - ETA: 3s - loss: 0.0698 - acc: 0.977 - ETA: 2s - loss: 0.0698 - acc: 0.977 - ETA: 2s - loss: 0.0698 - acc: 0.977 - ETA: 2s - loss: 0.0698 - acc: 0.977 - ETA: 2s - loss: 0.0698 - acc: 0.977 - ETA: 2s - loss: 0.0698 - acc: 0.977 - ETA: 2s - loss: 0.0698 - acc: 0.977 - ETA: 2s - loss: 0.0697 - acc: 0.977 - ETA: 2s - loss: 0.0698 - acc: 0.977 - ETA: 2s - loss: 0.0698 - acc: 0.977 - ETA: 2s - loss: 0.0698 - acc: 0.977 - ETA: 2s - loss: 0.0697 - acc: 0.977 - ETA: 2s - loss: 0.0698 - acc: 0.977 - ETA: 2s - loss: 0.0697 - acc: 0.977 - ETA: 2s - loss: 0.0697 - acc: 0.977 - ETA: 2s - loss: 0.0697 - acc: 0.977 - ETA: 2s - loss: 0.0697 - acc: 0.977 - ETA: 1s - loss: 0.0697 - acc: 0.977 - ETA: 1s - loss: 0.0697 - acc: 0.977 - ETA: 1s - loss: 0.0697 - acc: 0.977 - ETA: 1s - loss: 0.0697 - acc: 0.977 - ETA: 1s - loss: 0.0697 - acc: 0.977 - ETA: 1s - loss: 0.0697 - acc: 0.977 - ETA: 1s - loss: 0.0697 - acc: 0.977 - ETA: 1s - loss: 0.0698 - acc: 0.977 - ETA: 1s - loss: 0.0697 - acc: 0.977 - ETA: 1s - loss: 0.0697 - acc: 0.977 - ETA: 1s - loss: 0.0697 - acc: 0.977 - ETA: 1s - loss: 0.0697 - acc: 0.977 - ETA: 1s - loss: 0.0697 - acc: 0.977 - ETA: 1s - loss: 0.0697 - acc: 0.977 - ETA: 1s - loss: 0.0696 - acc: 0.977 - ETA: 1s - loss: 0.0696 - acc: 0.977 - ETA: 1s - loss: 0.0696 - acc: 0.977 - ETA: 0s - loss: 0.0696 - acc: 0.977 - ETA: 0s - loss: 0.0696 - acc: 0.977 - ETA: 0s - loss: 0.0696 - acc: 0.977 - ETA: 0s - loss: 0.0696 - acc: 0.977 - ETA: 0s - loss: 0.0696 - acc: 0.977 - ETA: 0s - loss: 0.0696 - acc: 0.977 - ETA: 0s - loss: 0.0696 - acc: 0.977 - ETA: 0s - loss: 0.0696 - acc: 0.977 - ETA: 0s - loss: 0.0696 - acc: 0.977 - ETA: 0s - loss: 0.0696 - acc: 0.977 - ETA: 0s - loss: 0.0696 - acc: 0.977 - ETA: 0s - loss: 0.0696 - acc: 0.977 - ETA: 0s - loss: 0.0696 - acc: 0.977 - ETA: 0s - loss: 0.0696 - acc: 0.977 - ETA: 0s - loss: 0.0696 - acc: 0.977 - ETA: 0s - loss: 0.0696 - acc: 0.977 - ETA: 0s - loss: 0.0696 - acc: 0.977 - 82s 646us/step - loss: 0.0696 - acc: 0.9771 - val_loss: 0.0671 - val_acc: 0.9771\n"
     ]
    },
    {
     "data": {
      "text/plain": [
       "<keras.callbacks.History at 0x1cac4a59898>"
      ]
     },
     "execution_count": 30,
     "metadata": {},
     "output_type": "execute_result"
    }
   ],
   "source": [
    "model.fit(train, Y_train, validation_split=0.2, nb_epoch=2, batch_size=32)"
   ]
  },
  {
   "cell_type": "code",
   "execution_count": 31,
   "metadata": {},
   "outputs": [],
   "source": [
    "test = test_sparse.todense()"
   ]
  },
  {
   "cell_type": "code",
   "execution_count": 32,
   "metadata": {},
   "outputs": [],
   "source": [
    "pred = model.predict(test)"
   ]
  },
  {
   "cell_type": "code",
   "execution_count": 36,
   "metadata": {},
   "outputs": [
    {
     "data": {
      "text/plain": [
       "array([2.5455228e-03, 4.4191418e-07, 2.1146999e-04, 7.3642121e-07,\n",
       "       2.5506891e-04, 4.2210454e-06], dtype=float32)"
      ]
     },
     "execution_count": 36,
     "metadata": {},
     "output_type": "execute_result"
    }
   ],
   "source": [
    "pred[4]"
   ]
  },
  {
   "cell_type": "code",
   "execution_count": 37,
   "metadata": {},
   "outputs": [],
   "source": [
    "from sklearn.metrics import log_loss\n",
    "sample_submission = pd.read_csv(\"sample_submission.csv\")"
   ]
  },
  {
   "cell_type": "code",
   "execution_count": 38,
   "metadata": {},
   "outputs": [
    {
     "ename": "KeyError",
     "evalue": "'[15294  1595  8449   478  7877  1405] not in index'",
     "output_type": "error",
     "traceback": [
      "\u001b[1;31m---------------------------------------------------------------------------\u001b[0m",
      "\u001b[1;31mKeyError\u001b[0m                                  Traceback (most recent call last)",
      "\u001b[1;32m<ipython-input-38-e56607caf9d9>\u001b[0m in \u001b[0;36m<module>\u001b[1;34m()\u001b[0m\n\u001b[1;32m----> 1\u001b[1;33m \u001b[0msample_submission\u001b[0m\u001b[1;33m[\u001b[0m\u001b[0mlabels\u001b[0m\u001b[1;33m]\u001b[0m\u001b[1;33m\u001b[0m\u001b[0m\n\u001b[0m",
      "\u001b[1;32m~\\Anaconda3\\lib\\site-packages\\pandas\\core\\frame.py\u001b[0m in \u001b[0;36m__getitem__\u001b[1;34m(self, key)\u001b[0m\n\u001b[0;32m   1956\u001b[0m         \u001b[1;32mif\u001b[0m \u001b[0misinstance\u001b[0m\u001b[1;33m(\u001b[0m\u001b[0mkey\u001b[0m\u001b[1;33m,\u001b[0m \u001b[1;33m(\u001b[0m\u001b[0mSeries\u001b[0m\u001b[1;33m,\u001b[0m \u001b[0mnp\u001b[0m\u001b[1;33m.\u001b[0m\u001b[0mndarray\u001b[0m\u001b[1;33m,\u001b[0m \u001b[0mIndex\u001b[0m\u001b[1;33m,\u001b[0m \u001b[0mlist\u001b[0m\u001b[1;33m)\u001b[0m\u001b[1;33m)\u001b[0m\u001b[1;33m:\u001b[0m\u001b[1;33m\u001b[0m\u001b[0m\n\u001b[0;32m   1957\u001b[0m             \u001b[1;31m# either boolean or fancy integer index\u001b[0m\u001b[1;33m\u001b[0m\u001b[1;33m\u001b[0m\u001b[0m\n\u001b[1;32m-> 1958\u001b[1;33m             \u001b[1;32mreturn\u001b[0m \u001b[0mself\u001b[0m\u001b[1;33m.\u001b[0m\u001b[0m_getitem_array\u001b[0m\u001b[1;33m(\u001b[0m\u001b[0mkey\u001b[0m\u001b[1;33m)\u001b[0m\u001b[1;33m\u001b[0m\u001b[0m\n\u001b[0m\u001b[0;32m   1959\u001b[0m         \u001b[1;32melif\u001b[0m \u001b[0misinstance\u001b[0m\u001b[1;33m(\u001b[0m\u001b[0mkey\u001b[0m\u001b[1;33m,\u001b[0m \u001b[0mDataFrame\u001b[0m\u001b[1;33m)\u001b[0m\u001b[1;33m:\u001b[0m\u001b[1;33m\u001b[0m\u001b[0m\n\u001b[0;32m   1960\u001b[0m             \u001b[1;32mreturn\u001b[0m \u001b[0mself\u001b[0m\u001b[1;33m.\u001b[0m\u001b[0m_getitem_frame\u001b[0m\u001b[1;33m(\u001b[0m\u001b[0mkey\u001b[0m\u001b[1;33m)\u001b[0m\u001b[1;33m\u001b[0m\u001b[0m\n",
      "\u001b[1;32m~\\Anaconda3\\lib\\site-packages\\pandas\\core\\frame.py\u001b[0m in \u001b[0;36m_getitem_array\u001b[1;34m(self, key)\u001b[0m\n\u001b[0;32m   2000\u001b[0m             \u001b[1;32mreturn\u001b[0m \u001b[0mself\u001b[0m\u001b[1;33m.\u001b[0m\u001b[0mtake\u001b[0m\u001b[1;33m(\u001b[0m\u001b[0mindexer\u001b[0m\u001b[1;33m,\u001b[0m \u001b[0maxis\u001b[0m\u001b[1;33m=\u001b[0m\u001b[1;36m0\u001b[0m\u001b[1;33m,\u001b[0m \u001b[0mconvert\u001b[0m\u001b[1;33m=\u001b[0m\u001b[1;32mFalse\u001b[0m\u001b[1;33m)\u001b[0m\u001b[1;33m\u001b[0m\u001b[0m\n\u001b[0;32m   2001\u001b[0m         \u001b[1;32melse\u001b[0m\u001b[1;33m:\u001b[0m\u001b[1;33m\u001b[0m\u001b[0m\n\u001b[1;32m-> 2002\u001b[1;33m             \u001b[0mindexer\u001b[0m \u001b[1;33m=\u001b[0m \u001b[0mself\u001b[0m\u001b[1;33m.\u001b[0m\u001b[0mloc\u001b[0m\u001b[1;33m.\u001b[0m\u001b[0m_convert_to_indexer\u001b[0m\u001b[1;33m(\u001b[0m\u001b[0mkey\u001b[0m\u001b[1;33m,\u001b[0m \u001b[0maxis\u001b[0m\u001b[1;33m=\u001b[0m\u001b[1;36m1\u001b[0m\u001b[1;33m)\u001b[0m\u001b[1;33m\u001b[0m\u001b[0m\n\u001b[0m\u001b[0;32m   2003\u001b[0m             \u001b[1;32mreturn\u001b[0m \u001b[0mself\u001b[0m\u001b[1;33m.\u001b[0m\u001b[0mtake\u001b[0m\u001b[1;33m(\u001b[0m\u001b[0mindexer\u001b[0m\u001b[1;33m,\u001b[0m \u001b[0maxis\u001b[0m\u001b[1;33m=\u001b[0m\u001b[1;36m1\u001b[0m\u001b[1;33m,\u001b[0m \u001b[0mconvert\u001b[0m\u001b[1;33m=\u001b[0m\u001b[1;32mTrue\u001b[0m\u001b[1;33m)\u001b[0m\u001b[1;33m\u001b[0m\u001b[0m\n\u001b[0;32m   2004\u001b[0m \u001b[1;33m\u001b[0m\u001b[0m\n",
      "\u001b[1;32m~\\Anaconda3\\lib\\site-packages\\pandas\\core\\indexing.py\u001b[0m in \u001b[0;36m_convert_to_indexer\u001b[1;34m(self, obj, axis, is_setter)\u001b[0m\n\u001b[0;32m   1229\u001b[0m                 \u001b[0mmask\u001b[0m \u001b[1;33m=\u001b[0m \u001b[0mcheck\u001b[0m \u001b[1;33m==\u001b[0m \u001b[1;33m-\u001b[0m\u001b[1;36m1\u001b[0m\u001b[1;33m\u001b[0m\u001b[0m\n\u001b[0;32m   1230\u001b[0m                 \u001b[1;32mif\u001b[0m \u001b[0mmask\u001b[0m\u001b[1;33m.\u001b[0m\u001b[0many\u001b[0m\u001b[1;33m(\u001b[0m\u001b[1;33m)\u001b[0m\u001b[1;33m:\u001b[0m\u001b[1;33m\u001b[0m\u001b[0m\n\u001b[1;32m-> 1231\u001b[1;33m                     \u001b[1;32mraise\u001b[0m \u001b[0mKeyError\u001b[0m\u001b[1;33m(\u001b[0m\u001b[1;34m'%s not in index'\u001b[0m \u001b[1;33m%\u001b[0m \u001b[0mobjarr\u001b[0m\u001b[1;33m[\u001b[0m\u001b[0mmask\u001b[0m\u001b[1;33m]\u001b[0m\u001b[1;33m)\u001b[0m\u001b[1;33m\u001b[0m\u001b[0m\n\u001b[0m\u001b[0;32m   1232\u001b[0m \u001b[1;33m\u001b[0m\u001b[0m\n\u001b[0;32m   1233\u001b[0m                 \u001b[1;32mreturn\u001b[0m \u001b[0m_values_from_object\u001b[0m\u001b[1;33m(\u001b[0m\u001b[0mindexer\u001b[0m\u001b[1;33m)\u001b[0m\u001b[1;33m\u001b[0m\u001b[0m\n",
      "\u001b[1;31mKeyError\u001b[0m: '[15294  1595  8449   478  7877  1405] not in index'"
     ]
    }
   ],
   "source": [
    "sample_submission[labels]"
   ]
  },
  {
   "cell_type": "code",
   "execution_count": null,
   "metadata": {},
   "outputs": [],
   "source": []
  },
  {
   "cell_type": "code",
   "execution_count": null,
   "metadata": {},
   "outputs": [],
   "source": []
  },
  {
   "cell_type": "code",
   "execution_count": null,
   "metadata": {},
   "outputs": [],
   "source": []
  },
  {
   "cell_type": "code",
   "execution_count": 33,
   "metadata": {},
   "outputs": [
    {
     "ename": "KeyError",
     "evalue": "'[15294  1595  8449   478  7877  1405] not in index'",
     "output_type": "error",
     "traceback": [
      "\u001b[1;31m---------------------------------------------------------------------------\u001b[0m",
      "\u001b[1;31mKeyError\u001b[0m                                  Traceback (most recent call last)",
      "\u001b[1;32m<ipython-input-33-4f6fbf1aea16>\u001b[0m in \u001b[0;36m<module>\u001b[1;34m()\u001b[0m\n\u001b[0;32m      2\u001b[0m \u001b[0msample_submission\u001b[0m \u001b[1;33m=\u001b[0m \u001b[0mpd\u001b[0m\u001b[1;33m.\u001b[0m\u001b[0mread_csv\u001b[0m\u001b[1;33m(\u001b[0m\u001b[1;34m\"sample_submission.csv\"\u001b[0m\u001b[1;33m)\u001b[0m\u001b[1;33m\u001b[0m\u001b[0m\n\u001b[0;32m      3\u001b[0m \u001b[1;33m\u001b[0m\u001b[0m\n\u001b[1;32m----> 4\u001b[1;33m \u001b[0msample_submission\u001b[0m\u001b[1;33m[\u001b[0m\u001b[0mlabels\u001b[0m\u001b[1;33m]\u001b[0m \u001b[1;33m=\u001b[0m \u001b[0mpred\u001b[0m\u001b[1;33m\u001b[0m\u001b[0m\n\u001b[0m\u001b[0;32m      5\u001b[0m \u001b[1;33m\u001b[0m\u001b[0m\n\u001b[0;32m      6\u001b[0m \u001b[0msample_submission\u001b[0m\u001b[1;33m.\u001b[0m\u001b[0mto_csv\u001b[0m\u001b[1;33m(\u001b[0m\u001b[1;34m\"result.csv\"\u001b[0m\u001b[1;33m,\u001b[0m \u001b[0mindex\u001b[0m\u001b[1;33m=\u001b[0m\u001b[1;32mFalse\u001b[0m\u001b[1;33m)\u001b[0m\u001b[1;33m\u001b[0m\u001b[0m\n",
      "\u001b[1;32m~\\Anaconda3\\lib\\site-packages\\pandas\\core\\frame.py\u001b[0m in \u001b[0;36m__setitem__\u001b[1;34m(self, key, value)\u001b[0m\n\u001b[0;32m   2324\u001b[0m \u001b[1;33m\u001b[0m\u001b[0m\n\u001b[0;32m   2325\u001b[0m         \u001b[1;32mif\u001b[0m \u001b[0misinstance\u001b[0m\u001b[1;33m(\u001b[0m\u001b[0mkey\u001b[0m\u001b[1;33m,\u001b[0m \u001b[1;33m(\u001b[0m\u001b[0mSeries\u001b[0m\u001b[1;33m,\u001b[0m \u001b[0mnp\u001b[0m\u001b[1;33m.\u001b[0m\u001b[0mndarray\u001b[0m\u001b[1;33m,\u001b[0m \u001b[0mlist\u001b[0m\u001b[1;33m,\u001b[0m \u001b[0mIndex\u001b[0m\u001b[1;33m)\u001b[0m\u001b[1;33m)\u001b[0m\u001b[1;33m:\u001b[0m\u001b[1;33m\u001b[0m\u001b[0m\n\u001b[1;32m-> 2326\u001b[1;33m             \u001b[0mself\u001b[0m\u001b[1;33m.\u001b[0m\u001b[0m_setitem_array\u001b[0m\u001b[1;33m(\u001b[0m\u001b[0mkey\u001b[0m\u001b[1;33m,\u001b[0m \u001b[0mvalue\u001b[0m\u001b[1;33m)\u001b[0m\u001b[1;33m\u001b[0m\u001b[0m\n\u001b[0m\u001b[0;32m   2327\u001b[0m         \u001b[1;32melif\u001b[0m \u001b[0misinstance\u001b[0m\u001b[1;33m(\u001b[0m\u001b[0mkey\u001b[0m\u001b[1;33m,\u001b[0m \u001b[0mDataFrame\u001b[0m\u001b[1;33m)\u001b[0m\u001b[1;33m:\u001b[0m\u001b[1;33m\u001b[0m\u001b[0m\n\u001b[0;32m   2328\u001b[0m             \u001b[0mself\u001b[0m\u001b[1;33m.\u001b[0m\u001b[0m_setitem_frame\u001b[0m\u001b[1;33m(\u001b[0m\u001b[0mkey\u001b[0m\u001b[1;33m,\u001b[0m \u001b[0mvalue\u001b[0m\u001b[1;33m)\u001b[0m\u001b[1;33m\u001b[0m\u001b[0m\n",
      "\u001b[1;32m~\\Anaconda3\\lib\\site-packages\\pandas\\core\\frame.py\u001b[0m in \u001b[0;36m_setitem_array\u001b[1;34m(self, key, value)\u001b[0m\n\u001b[0;32m   2352\u001b[0m                     \u001b[0mself\u001b[0m\u001b[1;33m[\u001b[0m\u001b[0mk1\u001b[0m\u001b[1;33m]\u001b[0m \u001b[1;33m=\u001b[0m \u001b[0mvalue\u001b[0m\u001b[1;33m[\u001b[0m\u001b[0mk2\u001b[0m\u001b[1;33m]\u001b[0m\u001b[1;33m\u001b[0m\u001b[0m\n\u001b[0;32m   2353\u001b[0m             \u001b[1;32melse\u001b[0m\u001b[1;33m:\u001b[0m\u001b[1;33m\u001b[0m\u001b[0m\n\u001b[1;32m-> 2354\u001b[1;33m                 \u001b[0mindexer\u001b[0m \u001b[1;33m=\u001b[0m \u001b[0mself\u001b[0m\u001b[1;33m.\u001b[0m\u001b[0mloc\u001b[0m\u001b[1;33m.\u001b[0m\u001b[0m_convert_to_indexer\u001b[0m\u001b[1;33m(\u001b[0m\u001b[0mkey\u001b[0m\u001b[1;33m,\u001b[0m \u001b[0maxis\u001b[0m\u001b[1;33m=\u001b[0m\u001b[1;36m1\u001b[0m\u001b[1;33m)\u001b[0m\u001b[1;33m\u001b[0m\u001b[0m\n\u001b[0m\u001b[0;32m   2355\u001b[0m                 \u001b[0mself\u001b[0m\u001b[1;33m.\u001b[0m\u001b[0m_check_setitem_copy\u001b[0m\u001b[1;33m(\u001b[0m\u001b[1;33m)\u001b[0m\u001b[1;33m\u001b[0m\u001b[0m\n\u001b[0;32m   2356\u001b[0m                 \u001b[0mself\u001b[0m\u001b[1;33m.\u001b[0m\u001b[0mloc\u001b[0m\u001b[1;33m.\u001b[0m\u001b[0m_setitem_with_indexer\u001b[0m\u001b[1;33m(\u001b[0m\u001b[1;33m(\u001b[0m\u001b[0mslice\u001b[0m\u001b[1;33m(\u001b[0m\u001b[1;32mNone\u001b[0m\u001b[1;33m)\u001b[0m\u001b[1;33m,\u001b[0m \u001b[0mindexer\u001b[0m\u001b[1;33m)\u001b[0m\u001b[1;33m,\u001b[0m \u001b[0mvalue\u001b[0m\u001b[1;33m)\u001b[0m\u001b[1;33m\u001b[0m\u001b[0m\n",
      "\u001b[1;32m~\\Anaconda3\\lib\\site-packages\\pandas\\core\\indexing.py\u001b[0m in \u001b[0;36m_convert_to_indexer\u001b[1;34m(self, obj, axis, is_setter)\u001b[0m\n\u001b[0;32m   1229\u001b[0m                 \u001b[0mmask\u001b[0m \u001b[1;33m=\u001b[0m \u001b[0mcheck\u001b[0m \u001b[1;33m==\u001b[0m \u001b[1;33m-\u001b[0m\u001b[1;36m1\u001b[0m\u001b[1;33m\u001b[0m\u001b[0m\n\u001b[0;32m   1230\u001b[0m                 \u001b[1;32mif\u001b[0m \u001b[0mmask\u001b[0m\u001b[1;33m.\u001b[0m\u001b[0many\u001b[0m\u001b[1;33m(\u001b[0m\u001b[1;33m)\u001b[0m\u001b[1;33m:\u001b[0m\u001b[1;33m\u001b[0m\u001b[0m\n\u001b[1;32m-> 1231\u001b[1;33m                     \u001b[1;32mraise\u001b[0m \u001b[0mKeyError\u001b[0m\u001b[1;33m(\u001b[0m\u001b[1;34m'%s not in index'\u001b[0m \u001b[1;33m%\u001b[0m \u001b[0mobjarr\u001b[0m\u001b[1;33m[\u001b[0m\u001b[0mmask\u001b[0m\u001b[1;33m]\u001b[0m\u001b[1;33m)\u001b[0m\u001b[1;33m\u001b[0m\u001b[0m\n\u001b[0m\u001b[0;32m   1232\u001b[0m \u001b[1;33m\u001b[0m\u001b[0m\n\u001b[0;32m   1233\u001b[0m                 \u001b[1;32mreturn\u001b[0m \u001b[0m_values_from_object\u001b[0m\u001b[1;33m(\u001b[0m\u001b[0mindexer\u001b[0m\u001b[1;33m)\u001b[0m\u001b[1;33m\u001b[0m\u001b[0m\n",
      "\u001b[1;31mKeyError\u001b[0m: '[15294  1595  8449   478  7877  1405] not in index'"
     ]
    }
   ],
   "source": [
    "from sklearn.metrics import log_loss\n",
    "sample_submission = pd.read_csv(\"sample_submission.csv\")\n",
    "\n",
    "sample_submission[labels] = pred\n",
    "\n",
    "sample_submission.to_csv(\"result.csv\", index=False)"
   ]
  },
  {
   "cell_type": "code",
   "execution_count": null,
   "metadata": {},
   "outputs": [],
   "source": [
    "sample_submission.head()"
   ]
  }
 ],
 "metadata": {
  "kernelspec": {
   "display_name": "Python 3",
   "language": "python",
   "name": "python3"
  },
  "language_info": {
   "codemirror_mode": {
    "name": "ipython",
    "version": 3
   },
   "file_extension": ".py",
   "mimetype": "text/x-python",
   "name": "python",
   "nbconvert_exporter": "python",
   "pygments_lexer": "ipython3",
   "version": "3.6.3"
  }
 },
 "nbformat": 4,
 "nbformat_minor": 2
}
